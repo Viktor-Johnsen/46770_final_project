{
 "cells": [
  {
   "cell_type": "markdown",
   "metadata": {},
   "source": [
    "# **Final Project in Integrated Energy Grids - 46770**"
   ]
  },
  {
   "cell_type": "markdown",
   "metadata": {},
   "source": [
    "# PROJECT INSTRUCTIONS\n",
    "\n",
    "\n",
    "Based on the previous example, you are asked to carry out the following tasks:\n",
    "\n",
    "# A.:\n",
    "\n",
    "- Choose a different country/region/city/system and calculate the optimal capacities for renewable and non-renewable generators.\n",
    "- Add multiple technologies and provide references for the cost assumptions.\n",
    "- Plot the dispatch time series for a week in summer and winter.\n",
    "- Plot the annual electricity mix.\n",
    "- Use the duration curves or the capacity factor to investigate the contribution of different technologies."
   ]
  },
  {
   "cell_type": "code",
   "execution_count": 1,
   "metadata": {},
   "outputs": [],
   "source": [
    " # Import packages\n",
    "import pandas as pd\n",
    "import numpy as np\n",
    "import matplotlib.pyplot as plt\n",
    "import pypsa\n",
    "import gurobipy as gp\n",
    "import gc\n",
    "\n",
    "import functions as f # This includes e.g. annuity"
   ]
  },
  {
   "cell_type": "code",
   "execution_count": 2,
   "metadata": {},
   "outputs": [
    {
     "data": {
      "text/plain": [
       "DatetimeIndex(['2015-01-01 00:00:00', '2015-01-01 01:00:00',\n",
       "               '2015-01-01 02:00:00', '2015-01-01 03:00:00',\n",
       "               '2015-01-01 04:00:00', '2015-01-01 05:00:00',\n",
       "               '2015-01-01 06:00:00', '2015-01-01 07:00:00',\n",
       "               '2015-01-01 08:00:00', '2015-01-01 09:00:00',\n",
       "               ...\n",
       "               '2015-12-31 14:00:00', '2015-12-31 15:00:00',\n",
       "               '2015-12-31 16:00:00', '2015-12-31 17:00:00',\n",
       "               '2015-12-31 18:00:00', '2015-12-31 19:00:00',\n",
       "               '2015-12-31 20:00:00', '2015-12-31 21:00:00',\n",
       "               '2015-12-31 22:00:00', '2015-12-31 23:00:00'],\n",
       "              dtype='datetime64[ns]', name='snapshot', length=8760, freq=None)"
      ]
     },
     "execution_count": 2,
     "metadata": {},
     "output_type": "execute_result"
    }
   ],
   "source": [
    "# Initialize network and define snapshots\n",
    "network = pypsa.Network()\n",
    "\n",
    "year = '2015' # only 2015 is valid for the demands (electricity AND heat)\n",
    "country = 'GBR' # All (previous) EU countries are valid?\n",
    "\n",
    "hours_in_year = pd.date_range(f'{year}-01-01 00:00Z',\n",
    "                              f'{year}-12-31 23:00Z',\n",
    "                              freq='h')\n",
    "\n",
    "network.set_snapshots(hours_in_year.values)\n",
    "\n",
    "network.add(\"Bus\",\n",
    "            f\"{country} electricity bus\")\n",
    "\n",
    "network.snapshots"
   ]
  },
  {
   "cell_type": "code",
   "execution_count": 3,
   "metadata": {},
   "outputs": [
    {
     "name": "stdout",
     "output_type": "stream",
     "text": [
      "utc_time\n",
      "2015-01-01 00:00:00+00:00    29059.0\n",
      "2015-01-01 01:00:00+00:00    28663.0\n",
      "2015-01-01 02:00:00+00:00    26626.0\n",
      "2015-01-01 03:00:00+00:00    24778.0\n",
      "2015-01-01 04:00:00+00:00    23212.0\n",
      "Name: GBR, dtype: float64\n"
     ]
    }
   ],
   "source": [
    "# load electricity demand data\n",
    "df_elec = pd.read_csv('data/electricity_demand.csv', sep=';', index_col=0) # in MWh\n",
    "df_elec.index = pd.to_datetime(df_elec.index) #change index to datatime\n",
    "print(df_elec[country].head())"
   ]
  },
  {
   "cell_type": "code",
   "execution_count": 4,
   "metadata": {},
   "outputs": [
    {
     "data": {
      "text/plain": [
       "(pandas.core.series.Series, (8760,))"
      ]
     },
     "execution_count": 4,
     "metadata": {},
     "output_type": "execute_result"
    }
   ],
   "source": [
    "# add load to the bus\n",
    "network.add(\"Load\",\n",
    "            f\"{country} electricity load\",\n",
    "            carrier=\"electricity\",\n",
    "            bus=f\"{country} electricity bus\",\n",
    "            p_set=df_elec[country].values,\n",
    "            overwrite=True)\n",
    "\n",
    "type(df_elec[country]),df_elec[country].values.shape"
   ]
  },
  {
   "cell_type": "code",
   "execution_count": null,
   "metadata": {},
   "outputs": [],
   "source": [
    "network.loads_t.p_set"
   ]
  },
  {
   "cell_type": "code",
   "execution_count": 5,
   "metadata": {},
   "outputs": [],
   "source": [
    "# load onshore wind data\n",
    "df_onshorewind = pd.read_csv('data/onshore_wind_1979-2017.csv', sep=';', index_col=0)\n",
    "df_onshorewind.index = pd.to_datetime(df_onshorewind.index)\n",
    "CF_wind = df_onshorewind[country][[hour.strftime(\"%Y-%m-%dT%H:%M:%SZ\") for hour in network.snapshots]]\n",
    "\n",
    "# load solar data\n",
    "df_solar = pd.read_csv('data/pv_optimal.csv', sep=';', index_col=0)\n",
    "df_solar.index = pd.to_datetime(df_solar.index)\n",
    "CF_solar = df_solar[country][[hour.strftime(\"%Y-%m-%dT%H:%M:%SZ\") for hour in network.snapshots]]\n",
    "\n",
    "# Defining some lists and a dict that is used so make model building and visualization dynamic\n",
    "VRE_techs = ['onshorewind', 'solar']\n",
    "CF_dict = {'onshorewind': CF_wind, 'solar': CF_solar}\n",
    "techs_labels = ['onshorewind', 'solar', 'OCGT', 'coal', 'nuclear', 'biomass'] # NG plant = natural gas plant\n",
    "carriers = ['onshorewind', 'solar', 'gas', 'coal', 'nuclear', 'wood chips']\n",
    "techs_colors = ['blue', 'orange', 'brown', 'grey', 'purple', 'green']"
   ]
  },
  {
   "cell_type": "code",
   "execution_count": 6,
   "metadata": {},
   "outputs": [
    {
     "data": {
      "text/plain": [
       "Index(['onshorewind', 'solar', 'gas', 'coal', 'nuclear', 'wood chips'], dtype='object')"
      ]
     },
     "execution_count": 6,
     "metadata": {},
     "output_type": "execute_result"
    }
   ],
   "source": [
    "''' Define data needed to setup the generators in the Pypsa network '''\n",
    "\n",
    "''' unit conversion constants and universal constants'''\n",
    "dollar2euro = 0.9239 # [€/$] -- https://www.valutakurser.dk - 25/03-25\n",
    "lbs2kg = 0.453592 # [kg/lbs] multiply by this to go from lbs/kWh to kg/kWh\n",
    "kJ2MWh = 1/(10**3 * 60**2) # [MWh/kJ]\n",
    "MMBtu2MWh = 0.293 # [MWh / MMBtu]\n",
    "coal_energy_density = 24 / 60**2 * 10**3 # [MJ/kg] -> [MWh/t]\n",
    "'''\n",
    "# From Teknologikataloget (Version 2025: 2030-values): https://ens.dk/analyser-og-statistik/teknologikatalog-produktion-af-el-og-fjernvarme, pp. 209, 260, and 361/371 \n",
    "    # technology: wind, solar, OCGT, coal, biomass\n",
    "    # metric:     capital costs(wind, solar, OCGT, biomass), efficiencies (OCGT, biomass), lifetime\n",
    "\n",
    "# https://iopscience.iop.org/article/10.1088/1748-9326/11/11/114010/meta -- their gas numbers match ours nicely\n",
    "    # technology: coal\n",
    "    # metric:     capital costs\n",
    "\n",
    "# https://ourworldindata.org/grapher/coal-prices\n",
    "    # technology: coal\n",
    "    # metric:     fuel costs\n",
    "\n",
    "# https://ourworldindata.org/grapher/natural-gas-prices\n",
    "    # technology: gas\n",
    "    # metric:     fuel costs\n",
    "'''\n",
    "gas_price_index_ratio_2023_2016 = 275.58/104.13 # drastic changes ¿primarily due to Russian invasion of Ukraine?\n",
    "coal_price_index_ratio_2023_2016 = 215.30/99.87\n",
    "\n",
    "'''\n",
    "# https://www.gevernova.com/gas-power/resources/articles/2018/come-hele-or-high-water\n",
    "    # technology: coal\n",
    "    # metric:     efficiency\n",
    "\n",
    "# https://www.sciencedirect.com/science/article/pii/S1364032121001301\n",
    "    # technology: nuclear\n",
    "    # metric:     capital costs, fuel/variable costs\n",
    "\n",
    "# https://www.iaea.org/sites/default/files/29402043133.pdf\n",
    "    # technoklogy: nuclear\n",
    "    # metric:      lifetime\n",
    "\n",
    "# https://www.sciencedirect.com/science/article/pii/S0196890422001297?via%3Dihub\n",
    "    # technology: biomass\n",
    "    # metric:     fuel costs\n",
    "    # the price is given as 41 $/tonne and LHV in kJ/kg, so the conversion is a little tricky as may be noticed below\n",
    "'''\n",
    "lifetimes = [30, 25, 25, 15, 40, 25] # years\n",
    "\n",
    "capital_costs = np.array([1.333, 0.26, 0.435, 1.75, 9, 3.1]) * 10**6 # €/MW, originally in M€/MW, pp. 209,260,371\n",
    "'''# https://backend.orbit.dtu.dk/ws/portalfiles/portal/158807620/OffshoreOnshore_Energy_Policy_August_revision_28_8.pdf\n",
    "    # More optimistic onshore wind capital costs -- without these the results are still interesting, though'''\n",
    "#capital_costs[0] = 0.8e6\n",
    "dict_capital_costs_annualized = {tech:f.annuity(lifetime, 0.07)*cost*(1+0.03) for tech,cost,lifetime in zip(techs_labels,capital_costs,lifetimes)}\n",
    "\n",
    "efficiencies = np.array([1, # [MW_e/MW_th]\n",
    "                         1,\n",
    "                         0.43,\n",
    "                         0.4,\n",
    "                         1,\n",
    "                         0.305])\n",
    "dict_efficiencies = {tech:eff for tech,eff in zip(techs_labels, efficiencies)}\n",
    "\n",
    "gas_co2_emissions = 52.91/10**3 # kg_CO2/kWh_th -> t_CO2/kWh_th -- from https://www.eia.gov/environment/emissions/co2_vol_mass.php\n",
    "coal_co2_emissions = 95.99/10**3 # kg_CO2/kWh_th -> t_CO2/kWh_th\n",
    "\n",
    "fuel_costs_dollars = np.array([0,  # -,-,$/MWh_th, $/MWh_th, $/MWh_e, $/MWh_th\n",
    "                               0,\n",
    "                               41.97, \n",
    "                               129.54/coal_energy_density, # $/t -> $/MWh_th \n",
    "                               10.11,\n",
    "                               41/10**3/19970 / kJ2MWh]) # originally 41 $/tonne, HHV=19970 kJ/kg\n",
    "fuel_costs = (fuel_costs_dollars\n",
    "              * np.array([0, 0, dollar2euro, dollar2euro, dollar2euro, dollar2euro])) # €/MWh_th, MWh_e for nuclear\n",
    "dict_fuel_costs = {tech:cost for tech,cost in zip(techs_labels, fuel_costs)}\n",
    "\n",
    "dict_marginal_costs = {tech:dict_fuel_costs[tech] / dict_efficiencies[tech] for tech in techs_labels} # €/MWh_e\n",
    "\n",
    "CO2_emissions = [0, # CO2_emissions [kgCO2/kWh_th=tCO2/MWh_th] for each carrier\n",
    "                 0,\n",
    "                 gas_co2_emissions/MMBtu2MWh,\n",
    "                 coal_co2_emissions/MMBtu2MWh,\n",
    "                 0,\n",
    "                 0]  # biomass is assumed to be sourced sustainably...\n",
    "network.add(\"Carrier\", carriers, color=techs_colors, co2_emissions=CO2_emissions, overwrite=True)"
   ]
  },
  {
   "cell_type": "code",
   "execution_count": 7,
   "metadata": {},
   "outputs": [],
   "source": [
    "'''Only five objects are needed to dynamically define the generators:'''\n",
    "#techs_labels\n",
    "#carriers\n",
    "#dict_capital_costs_annualized\n",
    "#dict_marginal_costs\n",
    "CFs = [CF_wind, CF_solar]\n",
    "\n",
    "###################################\n",
    "'''To get the same results as in the example from the assignment description, use these values INSTEAD:'''\n",
    "''' There may be a few other lines in the code that should also be commented out, e.g. any lines including \"biomass\" '''\n",
    "# techs_labels=[\"onshorewind\", \"solar\", \"OCGT\"]\n",
    "# carriers=[\"onshorewind\", \"solar\", \"gas\"]\n",
    "\n",
    "# capital_cost_onshorewind = f.annuity(30,0.07)*910000*(1+0.033) # in €/MW\n",
    "# capital_cost_solar = f.annuity(25,0.07)*425000*(1+0.03) # in €/MW\n",
    "# capital_cost_OCGT = f.annuity(25,0.07)*560000*(1+0.033) # in €/MW\n",
    "# dict_capital_costs_annualized = {tech:val for tech,val in zip(techs_labels,[capital_cost_onshorewind,capital_cost_solar,capital_cost_OCGT])}\n",
    "\n",
    "# fuel_cost = 21.6 # in €/MWh_th\n",
    "# efficiency = 0.39 # MWh_elec/MWh_th\n",
    "# marginal_cost_OCGT = fuel_cost/efficiency # in €/MWh_el\n",
    "# dict_marginal_costs = {tech:val for tech,val in zip(techs_labels, [0,0,marginal_cost_OCGT])}\n",
    "\n",
    "# network.generators.efficiency.loc[\"OCGT\"] = efficiency\n",
    "# network.add(\"Carrier\", carriers, co2_emissions=[0,0,0.19], overwrite=True) # t_CO2/MWh_th\n",
    "###################################\n",
    "\n",
    "''' Dynamically define each generator in the Pypsa network '''\n",
    "for i,tech in enumerate(techs_labels):\n",
    "    network.add(\"Generator\",\n",
    "                tech,\n",
    "                bus=f\"{country} electricity bus\",\n",
    "                p_nom_extendable=True,\n",
    "                carrier=carriers[i],\n",
    "                capital_cost = dict_capital_costs_annualized[tech],\n",
    "                marginal_cost = dict_marginal_costs[tech],\n",
    "                p_max_pu = (CFs[i].values if tech in VRE_techs else 1),\n",
    "                efficiency = dict_efficiencies[tech],\n",
    "                overwrite=True) # kept  in case of re-running the code\n"
   ]
  },
  {
   "cell_type": "code",
   "execution_count": null,
   "metadata": {},
   "outputs": [],
   "source": [
    "network.generators_t.p_max_pu"
   ]
  },
  {
   "cell_type": "code",
   "execution_count": null,
   "metadata": {},
   "outputs": [],
   "source": [
    "network.generators"
   ]
  },
  {
   "cell_type": "code",
   "execution_count": 8,
   "metadata": {},
   "outputs": [
    {
     "data": {
      "text/html": [
       "<div>\n",
       "<style scoped>\n",
       "    .dataframe tbody tr th:only-of-type {\n",
       "        vertical-align: middle;\n",
       "    }\n",
       "\n",
       "    .dataframe tbody tr th {\n",
       "        vertical-align: top;\n",
       "    }\n",
       "\n",
       "    .dataframe thead th {\n",
       "        text-align: right;\n",
       "    }\n",
       "</style>\n",
       "<table border=\"1\" class=\"dataframe\">\n",
       "  <thead>\n",
       "    <tr style=\"text-align: right;\">\n",
       "      <th></th>\n",
       "      <th>co2_emissions</th>\n",
       "      <th>color</th>\n",
       "      <th>nice_name</th>\n",
       "      <th>max_growth</th>\n",
       "      <th>max_relative_growth</th>\n",
       "      <th>track_biomass</th>\n",
       "    </tr>\n",
       "    <tr>\n",
       "      <th>Carrier</th>\n",
       "      <th></th>\n",
       "      <th></th>\n",
       "      <th></th>\n",
       "      <th></th>\n",
       "      <th></th>\n",
       "      <th></th>\n",
       "    </tr>\n",
       "  </thead>\n",
       "  <tbody>\n",
       "    <tr>\n",
       "      <th>onshorewind</th>\n",
       "      <td>0.000000</td>\n",
       "      <td>blue</td>\n",
       "      <td></td>\n",
       "      <td>inf</td>\n",
       "      <td>0.0</td>\n",
       "      <td>0.0</td>\n",
       "    </tr>\n",
       "    <tr>\n",
       "      <th>solar</th>\n",
       "      <td>0.000000</td>\n",
       "      <td>orange</td>\n",
       "      <td></td>\n",
       "      <td>inf</td>\n",
       "      <td>0.0</td>\n",
       "      <td>0.0</td>\n",
       "    </tr>\n",
       "    <tr>\n",
       "      <th>gas</th>\n",
       "      <td>0.180580</td>\n",
       "      <td>brown</td>\n",
       "      <td></td>\n",
       "      <td>inf</td>\n",
       "      <td>0.0</td>\n",
       "      <td>0.0</td>\n",
       "    </tr>\n",
       "    <tr>\n",
       "      <th>coal</th>\n",
       "      <td>0.327611</td>\n",
       "      <td>grey</td>\n",
       "      <td></td>\n",
       "      <td>inf</td>\n",
       "      <td>0.0</td>\n",
       "      <td>0.0</td>\n",
       "    </tr>\n",
       "    <tr>\n",
       "      <th>nuclear</th>\n",
       "      <td>0.000000</td>\n",
       "      <td>purple</td>\n",
       "      <td></td>\n",
       "      <td>inf</td>\n",
       "      <td>0.0</td>\n",
       "      <td>0.0</td>\n",
       "    </tr>\n",
       "    <tr>\n",
       "      <th>wood chips</th>\n",
       "      <td>0.000000</td>\n",
       "      <td>green</td>\n",
       "      <td></td>\n",
       "      <td>inf</td>\n",
       "      <td>0.0</td>\n",
       "      <td>1.0</td>\n",
       "    </tr>\n",
       "  </tbody>\n",
       "</table>\n",
       "</div>"
      ],
      "text/plain": [
       "             co2_emissions   color nice_name  max_growth  max_relative_growth  \\\n",
       "Carrier                                                                         \n",
       "onshorewind       0.000000    blue                   inf                  0.0   \n",
       "solar             0.000000  orange                   inf                  0.0   \n",
       "gas               0.180580   brown                   inf                  0.0   \n",
       "coal              0.327611    grey                   inf                  0.0   \n",
       "nuclear           0.000000  purple                   inf                  0.0   \n",
       "wood chips        0.000000   green                   inf                  0.0   \n",
       "\n",
       "             track_biomass  \n",
       "Carrier                     \n",
       "onshorewind            0.0  \n",
       "solar                  0.0  \n",
       "gas                    0.0  \n",
       "coal                   0.0  \n",
       "nuclear                0.0  \n",
       "wood chips             1.0  "
      ]
     },
     "execution_count": 8,
     "metadata": {},
     "output_type": "execute_result"
    }
   ],
   "source": [
    "# The constraint for sustainable biomass can be defined from e.g. the two approaches below.\n",
    "    # a) Using a 2024 UK report on bioenergy\n",
    "    # b) Using a 2024 EU report on bioenergy in Europe\n",
    "# a):\n",
    "# We limit the use of wood chips by:\n",
    "# 1) assuming that all solid biomass is wood chips\n",
    "# 2) assuming that all internally produced biomass (60% of solid biomass consumption) is sustainable and all imported is not and thus forbidden\n",
    "# 3) assuming that the 294 PJ of solid biomass used for power is in thermal/raw units (MWh_h)\n",
    "# The values above are for the UK and are from: from https://www.ieabioenergy.com/wp-content/uploads/2024/12/CountryReport2024_UK_final.pdf \n",
    "'''\n",
    "PJ2MWh = 10**9 / 60**2\n",
    "biomass_imported = 0.4\n",
    "biomass_available = 294 * PJ2MWh * (1-biomass_imported)  # MWh_th\n",
    "'''\n",
    "# b):\n",
    "# more DYNAMIC approach because then any EU country (incl. GBR, or NOR) can be used:\n",
    "    # We limit the use of wood chips by:\n",
    "    # 1) assuming that all solid biomass is wood chips. Simply referred to as \"biomass\" in script.\n",
    "    # 2) assuming that all internally produced solid biomass (97.5% of solid biomass consumption) is sustainable and all imported is not and thus forbidden\n",
    "    # 3) assuming that the 4.2 EJ of solid biomass is in thermal/raw units (MWh_h)\n",
    "    # Using 2024 numbers from https://www.ieabioenergy.com/wp-content/uploads/2025/01/CountryReport2024_EU27_final_v2.pdf\n",
    "EJ2MWh = 10**12 / 60**2  # purely unit conversion factor\n",
    "biomass_imported_EU = 0.025\n",
    "biomass_available_EU = 4.2 * EJ2MWh * (1-0.025)  # MWh_th\n",
    "# We assume that biomass has the same potential to grow anywhere in Europe and so the EU numbers \n",
    "#   can be used to determine a biomass per land area-factor by weighting the country sizes\n",
    "country_sizes = pd.read_csv('data/country_sizes.csv')\n",
    "country_sizes.index = country_sizes['code']\n",
    "biomass_density = biomass_available_EU / country_sizes['area'][country_sizes['EU']==True].sum()  # MWh/km2\n",
    "biomass_available = biomass_density * country_sizes.loc[country]['area'].sum()  # MWh\n",
    "\n",
    "\n",
    "network.carriers[\"track_biomass\"] = [0, 0, 0, 0, 0, 1.0]  # count 1 MWh for each MWh of wood chips used and none for the others\n",
    "\n",
    "network.add(\n",
    "    \"GlobalConstraint\",\n",
    "    \"BiomassLimit\",\n",
    "    carrier_attribute=\"track_biomass\",\n",
    "    sense=\"<=\",\n",
    "    constant=biomass_available,\n",
    "    overwrite=True\n",
    ")\n",
    "network.carriers"
   ]
  },
  {
   "cell_type": "code",
   "execution_count": null,
   "metadata": {},
   "outputs": [],
   "source": [
    "biomass_available/1e6"
   ]
  },
  {
   "cell_type": "code",
   "execution_count": 9,
   "metadata": {},
   "outputs": [
    {
     "name": "stderr",
     "output_type": "stream",
     "text": [
      "WARNING:pypsa.consistency:The following buses have carriers which are not defined:\n",
      "Index(['GBR electricity bus'], dtype='object', name='Bus')\n",
      "WARNING:pypsa.consistency:The following loads have carriers which are not defined:\n",
      "Index(['GBR electricity load'], dtype='object', name='Load')\n",
      "INFO:linopy.model: Solve problem using Gurobi solver\n",
      "INFO:linopy.io:Writing objective.\n",
      "Writing constraints.: 100%|\u001b[38;2;128;191;255m██████████\u001b[0m| 6/6 [00:00<00:00,  7.11it/s]\n",
      "Writing continuous variables.: 100%|\u001b[38;2;128;191;255m██████████\u001b[0m| 2/2 [00:00<00:00, 14.44it/s]\n",
      "INFO:linopy.io: Writing time: 1.12s\n",
      "INFO:linopy.constants: Optimization successful: \n",
      "Status: ok\n",
      "Termination condition: optimal\n",
      "Solution: 52566 primals, 113887 duals\n",
      "Objective: 1.83e+10\n",
      "Solver model: available\n",
      "Solver message: 2\n",
      "\n",
      "INFO:pypsa.optimization.optimize:The shadow-prices of the constraints Generator-ext-p-lower, Generator-ext-p-upper were not assigned to the network.\n"
     ]
    },
    {
     "data": {
      "text/plain": [
       "('ok', 'optimal')"
      ]
     },
     "execution_count": 9,
     "metadata": {},
     "output_type": "execute_result"
    }
   ],
   "source": [
    "env = gp.Env(empty=True) # Initialize a gurobipy-environment in which we can disable unnecessary outputs\n",
    "env.setParam(\"OutputFlag\", 0)  # Fully disable output\n",
    "env.start()\n",
    "\n",
    "network.optimize(solver_name='gurobi', solver_options={\"env\": env})"
   ]
  },
  {
   "cell_type": "code",
   "execution_count": null,
   "metadata": {},
   "outputs": [],
   "source": [
    "print(network.objective / 10**9 ) #in 10^9 €"
   ]
  },
  {
   "cell_type": "code",
   "execution_count": null,
   "metadata": {},
   "outputs": [],
   "source": [
    "print(network.objective/network.loads_t.p.sum()) # EUR/MWh"
   ]
  },
  {
   "cell_type": "code",
   "execution_count": null,
   "metadata": {},
   "outputs": [],
   "source": [
    "network.generators.p_nom_opt.div(1e3) # in GW"
   ]
  },
  {
   "cell_type": "code",
   "execution_count": 10,
   "metadata": {},
   "outputs": [
    {
     "ename": "FileNotFoundError",
     "evalue": "[Errno 2] No such file or directory: 'results/A/seasonal_generation.png'",
     "output_type": "error",
     "traceback": [
      "\u001b[1;31m---------------------------------------------------------------------------\u001b[0m",
      "\u001b[1;31mFileNotFoundError\u001b[0m                         Traceback (most recent call last)",
      "Cell \u001b[1;32mIn[10], line 35\u001b[0m\n\u001b[0;32m     32\u001b[0m     ax[i]\u001b[38;5;241m.\u001b[39mset_ylabel(\u001b[38;5;124m'\u001b[39m\u001b[38;5;124mPower [MW]\u001b[39m\u001b[38;5;124m'\u001b[39m)\n\u001b[0;32m     34\u001b[0m plt\u001b[38;5;241m.\u001b[39mtight_layout()\n\u001b[1;32m---> 35\u001b[0m \u001b[43mplt\u001b[49m\u001b[38;5;241;43m.\u001b[39;49m\u001b[43msavefig\u001b[49m\u001b[43m(\u001b[49m\u001b[38;5;124;43m'\u001b[39;49m\u001b[38;5;124;43mresults/A/seasonal_generation.png\u001b[39;49m\u001b[38;5;124;43m'\u001b[39;49m\u001b[43m,\u001b[49m\u001b[43m \u001b[49m\u001b[43mdpi\u001b[49m\u001b[38;5;241;43m=\u001b[39;49m\u001b[38;5;241;43m500\u001b[39;49m\u001b[43m)\u001b[49m\n\u001b[0;32m     36\u001b[0m plt\u001b[38;5;241m.\u001b[39mshow()\n",
      "File \u001b[1;32mc:\\Users\\cwitt\\AppData\\Local\\Programs\\Python\\Python310\\lib\\site-packages\\matplotlib\\pyplot.py:1243\u001b[0m, in \u001b[0;36msavefig\u001b[1;34m(*args, **kwargs)\u001b[0m\n\u001b[0;32m   1240\u001b[0m fig \u001b[38;5;241m=\u001b[39m gcf()\n\u001b[0;32m   1241\u001b[0m \u001b[38;5;66;03m# savefig default implementation has no return, so mypy is unhappy\u001b[39;00m\n\u001b[0;32m   1242\u001b[0m \u001b[38;5;66;03m# presumably this is here because subclasses can return?\u001b[39;00m\n\u001b[1;32m-> 1243\u001b[0m res \u001b[38;5;241m=\u001b[39m fig\u001b[38;5;241m.\u001b[39msavefig(\u001b[38;5;241m*\u001b[39margs, \u001b[38;5;241m*\u001b[39m\u001b[38;5;241m*\u001b[39mkwargs)  \u001b[38;5;66;03m# type: ignore[func-returns-value]\u001b[39;00m\n\u001b[0;32m   1244\u001b[0m fig\u001b[38;5;241m.\u001b[39mcanvas\u001b[38;5;241m.\u001b[39mdraw_idle()  \u001b[38;5;66;03m# Need this if 'transparent=True', to reset colors.\u001b[39;00m\n\u001b[0;32m   1245\u001b[0m \u001b[38;5;28;01mreturn\u001b[39;00m res\n",
      "File \u001b[1;32mc:\\Users\\cwitt\\AppData\\Local\\Programs\\Python\\Python310\\lib\\site-packages\\matplotlib\\figure.py:3490\u001b[0m, in \u001b[0;36mFigure.savefig\u001b[1;34m(self, fname, transparent, **kwargs)\u001b[0m\n\u001b[0;32m   3488\u001b[0m     \u001b[38;5;28;01mfor\u001b[39;00m ax \u001b[38;5;129;01min\u001b[39;00m \u001b[38;5;28mself\u001b[39m\u001b[38;5;241m.\u001b[39maxes:\n\u001b[0;32m   3489\u001b[0m         _recursively_make_axes_transparent(stack, ax)\n\u001b[1;32m-> 3490\u001b[0m \u001b[38;5;28mself\u001b[39m\u001b[38;5;241m.\u001b[39mcanvas\u001b[38;5;241m.\u001b[39mprint_figure(fname, \u001b[38;5;241m*\u001b[39m\u001b[38;5;241m*\u001b[39mkwargs)\n",
      "File \u001b[1;32mc:\\Users\\cwitt\\AppData\\Local\\Programs\\Python\\Python310\\lib\\site-packages\\matplotlib\\backend_bases.py:2184\u001b[0m, in \u001b[0;36mFigureCanvasBase.print_figure\u001b[1;34m(self, filename, dpi, facecolor, edgecolor, orientation, format, bbox_inches, pad_inches, bbox_extra_artists, backend, **kwargs)\u001b[0m\n\u001b[0;32m   2180\u001b[0m \u001b[38;5;28;01mtry\u001b[39;00m:\n\u001b[0;32m   2181\u001b[0m     \u001b[38;5;66;03m# _get_renderer may change the figure dpi (as vector formats\u001b[39;00m\n\u001b[0;32m   2182\u001b[0m     \u001b[38;5;66;03m# force the figure dpi to 72), so we need to set it again here.\u001b[39;00m\n\u001b[0;32m   2183\u001b[0m     \u001b[38;5;28;01mwith\u001b[39;00m cbook\u001b[38;5;241m.\u001b[39m_setattr_cm(\u001b[38;5;28mself\u001b[39m\u001b[38;5;241m.\u001b[39mfigure, dpi\u001b[38;5;241m=\u001b[39mdpi):\n\u001b[1;32m-> 2184\u001b[0m         result \u001b[38;5;241m=\u001b[39m print_method(\n\u001b[0;32m   2185\u001b[0m             filename,\n\u001b[0;32m   2186\u001b[0m             facecolor\u001b[38;5;241m=\u001b[39mfacecolor,\n\u001b[0;32m   2187\u001b[0m             edgecolor\u001b[38;5;241m=\u001b[39medgecolor,\n\u001b[0;32m   2188\u001b[0m             orientation\u001b[38;5;241m=\u001b[39morientation,\n\u001b[0;32m   2189\u001b[0m             bbox_inches_restore\u001b[38;5;241m=\u001b[39m_bbox_inches_restore,\n\u001b[0;32m   2190\u001b[0m             \u001b[38;5;241m*\u001b[39m\u001b[38;5;241m*\u001b[39mkwargs)\n\u001b[0;32m   2191\u001b[0m \u001b[38;5;28;01mfinally\u001b[39;00m:\n\u001b[0;32m   2192\u001b[0m     \u001b[38;5;28;01mif\u001b[39;00m bbox_inches \u001b[38;5;129;01mand\u001b[39;00m restore_bbox:\n",
      "File \u001b[1;32mc:\\Users\\cwitt\\AppData\\Local\\Programs\\Python\\Python310\\lib\\site-packages\\matplotlib\\backend_bases.py:2040\u001b[0m, in \u001b[0;36mFigureCanvasBase._switch_canvas_and_return_print_method.<locals>.<lambda>\u001b[1;34m(*args, **kwargs)\u001b[0m\n\u001b[0;32m   2036\u001b[0m     optional_kws \u001b[38;5;241m=\u001b[39m {  \u001b[38;5;66;03m# Passed by print_figure for other renderers.\u001b[39;00m\n\u001b[0;32m   2037\u001b[0m         \u001b[38;5;124m\"\u001b[39m\u001b[38;5;124mdpi\u001b[39m\u001b[38;5;124m\"\u001b[39m, \u001b[38;5;124m\"\u001b[39m\u001b[38;5;124mfacecolor\u001b[39m\u001b[38;5;124m\"\u001b[39m, \u001b[38;5;124m\"\u001b[39m\u001b[38;5;124medgecolor\u001b[39m\u001b[38;5;124m\"\u001b[39m, \u001b[38;5;124m\"\u001b[39m\u001b[38;5;124morientation\u001b[39m\u001b[38;5;124m\"\u001b[39m,\n\u001b[0;32m   2038\u001b[0m         \u001b[38;5;124m\"\u001b[39m\u001b[38;5;124mbbox_inches_restore\u001b[39m\u001b[38;5;124m\"\u001b[39m}\n\u001b[0;32m   2039\u001b[0m     skip \u001b[38;5;241m=\u001b[39m optional_kws \u001b[38;5;241m-\u001b[39m {\u001b[38;5;241m*\u001b[39minspect\u001b[38;5;241m.\u001b[39msignature(meth)\u001b[38;5;241m.\u001b[39mparameters}\n\u001b[1;32m-> 2040\u001b[0m     print_method \u001b[38;5;241m=\u001b[39m functools\u001b[38;5;241m.\u001b[39mwraps(meth)(\u001b[38;5;28;01mlambda\u001b[39;00m \u001b[38;5;241m*\u001b[39margs, \u001b[38;5;241m*\u001b[39m\u001b[38;5;241m*\u001b[39mkwargs: meth(\n\u001b[0;32m   2041\u001b[0m         \u001b[38;5;241m*\u001b[39margs, \u001b[38;5;241m*\u001b[39m\u001b[38;5;241m*\u001b[39m{k: v \u001b[38;5;28;01mfor\u001b[39;00m k, v \u001b[38;5;129;01min\u001b[39;00m kwargs\u001b[38;5;241m.\u001b[39mitems() \u001b[38;5;28;01mif\u001b[39;00m k \u001b[38;5;129;01mnot\u001b[39;00m \u001b[38;5;129;01min\u001b[39;00m skip}))\n\u001b[0;32m   2042\u001b[0m \u001b[38;5;28;01melse\u001b[39;00m:  \u001b[38;5;66;03m# Let third-parties do as they see fit.\u001b[39;00m\n\u001b[0;32m   2043\u001b[0m     print_method \u001b[38;5;241m=\u001b[39m meth\n",
      "File \u001b[1;32mc:\\Users\\cwitt\\AppData\\Local\\Programs\\Python\\Python310\\lib\\site-packages\\matplotlib\\backends\\backend_agg.py:481\u001b[0m, in \u001b[0;36mFigureCanvasAgg.print_png\u001b[1;34m(self, filename_or_obj, metadata, pil_kwargs)\u001b[0m\n\u001b[0;32m    434\u001b[0m \u001b[38;5;28;01mdef\u001b[39;00m\u001b[38;5;250m \u001b[39m\u001b[38;5;21mprint_png\u001b[39m(\u001b[38;5;28mself\u001b[39m, filename_or_obj, \u001b[38;5;241m*\u001b[39m, metadata\u001b[38;5;241m=\u001b[39m\u001b[38;5;28;01mNone\u001b[39;00m, pil_kwargs\u001b[38;5;241m=\u001b[39m\u001b[38;5;28;01mNone\u001b[39;00m):\n\u001b[0;32m    435\u001b[0m \u001b[38;5;250m    \u001b[39m\u001b[38;5;124;03m\"\"\"\u001b[39;00m\n\u001b[0;32m    436\u001b[0m \u001b[38;5;124;03m    Write the figure to a PNG file.\u001b[39;00m\n\u001b[0;32m    437\u001b[0m \n\u001b[1;32m   (...)\u001b[0m\n\u001b[0;32m    479\u001b[0m \u001b[38;5;124;03m        *metadata*, including the default 'Software' key.\u001b[39;00m\n\u001b[0;32m    480\u001b[0m \u001b[38;5;124;03m    \"\"\"\u001b[39;00m\n\u001b[1;32m--> 481\u001b[0m     \u001b[38;5;28;43mself\u001b[39;49m\u001b[38;5;241;43m.\u001b[39;49m\u001b[43m_print_pil\u001b[49m\u001b[43m(\u001b[49m\u001b[43mfilename_or_obj\u001b[49m\u001b[43m,\u001b[49m\u001b[43m \u001b[49m\u001b[38;5;124;43m\"\u001b[39;49m\u001b[38;5;124;43mpng\u001b[39;49m\u001b[38;5;124;43m\"\u001b[39;49m\u001b[43m,\u001b[49m\u001b[43m \u001b[49m\u001b[43mpil_kwargs\u001b[49m\u001b[43m,\u001b[49m\u001b[43m \u001b[49m\u001b[43mmetadata\u001b[49m\u001b[43m)\u001b[49m\n",
      "File \u001b[1;32mc:\\Users\\cwitt\\AppData\\Local\\Programs\\Python\\Python310\\lib\\site-packages\\matplotlib\\backends\\backend_agg.py:430\u001b[0m, in \u001b[0;36mFigureCanvasAgg._print_pil\u001b[1;34m(self, filename_or_obj, fmt, pil_kwargs, metadata)\u001b[0m\n\u001b[0;32m    425\u001b[0m \u001b[38;5;250m\u001b[39m\u001b[38;5;124;03m\"\"\"\u001b[39;00m\n\u001b[0;32m    426\u001b[0m \u001b[38;5;124;03mDraw the canvas, then save it using `.image.imsave` (to which\u001b[39;00m\n\u001b[0;32m    427\u001b[0m \u001b[38;5;124;03m*pil_kwargs* and *metadata* are forwarded).\u001b[39;00m\n\u001b[0;32m    428\u001b[0m \u001b[38;5;124;03m\"\"\"\u001b[39;00m\n\u001b[0;32m    429\u001b[0m FigureCanvasAgg\u001b[38;5;241m.\u001b[39mdraw(\u001b[38;5;28mself\u001b[39m)\n\u001b[1;32m--> 430\u001b[0m \u001b[43mmpl\u001b[49m\u001b[38;5;241;43m.\u001b[39;49m\u001b[43mimage\u001b[49m\u001b[38;5;241;43m.\u001b[39;49m\u001b[43mimsave\u001b[49m\u001b[43m(\u001b[49m\n\u001b[0;32m    431\u001b[0m \u001b[43m    \u001b[49m\u001b[43mfilename_or_obj\u001b[49m\u001b[43m,\u001b[49m\u001b[43m \u001b[49m\u001b[38;5;28;43mself\u001b[39;49m\u001b[38;5;241;43m.\u001b[39;49m\u001b[43mbuffer_rgba\u001b[49m\u001b[43m(\u001b[49m\u001b[43m)\u001b[49m\u001b[43m,\u001b[49m\u001b[43m \u001b[49m\u001b[38;5;28;43mformat\u001b[39;49m\u001b[38;5;241;43m=\u001b[39;49m\u001b[43mfmt\u001b[49m\u001b[43m,\u001b[49m\u001b[43m \u001b[49m\u001b[43morigin\u001b[49m\u001b[38;5;241;43m=\u001b[39;49m\u001b[38;5;124;43m\"\u001b[39;49m\u001b[38;5;124;43mupper\u001b[39;49m\u001b[38;5;124;43m\"\u001b[39;49m\u001b[43m,\u001b[49m\n\u001b[0;32m    432\u001b[0m \u001b[43m    \u001b[49m\u001b[43mdpi\u001b[49m\u001b[38;5;241;43m=\u001b[39;49m\u001b[38;5;28;43mself\u001b[39;49m\u001b[38;5;241;43m.\u001b[39;49m\u001b[43mfigure\u001b[49m\u001b[38;5;241;43m.\u001b[39;49m\u001b[43mdpi\u001b[49m\u001b[43m,\u001b[49m\u001b[43m \u001b[49m\u001b[43mmetadata\u001b[49m\u001b[38;5;241;43m=\u001b[39;49m\u001b[43mmetadata\u001b[49m\u001b[43m,\u001b[49m\u001b[43m \u001b[49m\u001b[43mpil_kwargs\u001b[49m\u001b[38;5;241;43m=\u001b[39;49m\u001b[43mpil_kwargs\u001b[49m\u001b[43m)\u001b[49m\n",
      "File \u001b[1;32mc:\\Users\\cwitt\\AppData\\Local\\Programs\\Python\\Python310\\lib\\site-packages\\matplotlib\\image.py:1644\u001b[0m, in \u001b[0;36mimsave\u001b[1;34m(fname, arr, vmin, vmax, cmap, format, origin, dpi, metadata, pil_kwargs)\u001b[0m\n\u001b[0;32m   1642\u001b[0m pil_kwargs\u001b[38;5;241m.\u001b[39msetdefault(\u001b[38;5;124m\"\u001b[39m\u001b[38;5;124mformat\u001b[39m\u001b[38;5;124m\"\u001b[39m, \u001b[38;5;28mformat\u001b[39m)\n\u001b[0;32m   1643\u001b[0m pil_kwargs\u001b[38;5;241m.\u001b[39msetdefault(\u001b[38;5;124m\"\u001b[39m\u001b[38;5;124mdpi\u001b[39m\u001b[38;5;124m\"\u001b[39m, (dpi, dpi))\n\u001b[1;32m-> 1644\u001b[0m image\u001b[38;5;241m.\u001b[39msave(fname, \u001b[38;5;241m*\u001b[39m\u001b[38;5;241m*\u001b[39mpil_kwargs)\n",
      "File \u001b[1;32mc:\\Users\\cwitt\\AppData\\Local\\Programs\\Python\\Python310\\lib\\site-packages\\PIL\\Image.py:2591\u001b[0m, in \u001b[0;36mImage.save\u001b[1;34m(self, fp, format, **params)\u001b[0m\n\u001b[0;32m   2589\u001b[0m         fp \u001b[38;5;241m=\u001b[39m builtins\u001b[38;5;241m.\u001b[39mopen(filename, \u001b[38;5;124m\"\u001b[39m\u001b[38;5;124mr+b\u001b[39m\u001b[38;5;124m\"\u001b[39m)\n\u001b[0;32m   2590\u001b[0m     \u001b[38;5;28;01melse\u001b[39;00m:\n\u001b[1;32m-> 2591\u001b[0m         fp \u001b[38;5;241m=\u001b[39m \u001b[43mbuiltins\u001b[49m\u001b[38;5;241;43m.\u001b[39;49m\u001b[43mopen\u001b[49m\u001b[43m(\u001b[49m\u001b[43mfilename\u001b[49m\u001b[43m,\u001b[49m\u001b[43m \u001b[49m\u001b[38;5;124;43m\"\u001b[39;49m\u001b[38;5;124;43mw+b\u001b[39;49m\u001b[38;5;124;43m\"\u001b[39;49m\u001b[43m)\u001b[49m\n\u001b[0;32m   2592\u001b[0m \u001b[38;5;28;01melse\u001b[39;00m:\n\u001b[0;32m   2593\u001b[0m     fp \u001b[38;5;241m=\u001b[39m cast(IO[\u001b[38;5;28mbytes\u001b[39m], fp)\n",
      "\u001b[1;31mFileNotFoundError\u001b[0m: [Errno 2] No such file or directory: 'results/A/seasonal_generation.png'"
     ]
    },
    {
     "data": {
      "image/png": "[encoded data removed]",
      "text/plain": [
       "<Figure size 1400x800 with 2 Axes>"
      ]
     },
     "metadata": {},
     "output_type": "display_data"
    }
   ],
   "source": [
    "import matplotlib.pyplot as plt\n",
    "\n",
    "# seasons = ['Winter', 'Spring', 'Summer', 'Autumn']\n",
    "# fig, ax = plt.subplots(2,2, figsize=(14,8))\n",
    "# start_index = np.array([0, 24*90, 24*181, 24*273]) # 1st of Jan/Apr/Jul/Oct\n",
    "\n",
    "\n",
    "seasons = ['Winter', 'Summer']\n",
    "fig, ax = plt.subplots(2,1, figsize=(14,8))\n",
    "start_index = np.array([0, 24*181]) # 1st of Jan/Jul\n",
    "end_index = start_index + 24*7 # add a week to each of the indexes\n",
    "\n",
    "ax=ax.flatten()\n",
    "\n",
    "for i,season in enumerate(seasons):\n",
    "    ax[i].plot(network.loads_t.p[f'{country} electricity load'][start_index[i]:end_index[i]],\n",
    "               color='black',\n",
    "               label='demand')\n",
    "    for tech, color in zip(techs_labels, techs_colors):\n",
    "        ax[i].plot(network.generators_t.p[tech][start_index[i]:end_index[i]],\n",
    "                   color=color,\n",
    "                   label=tech)\n",
    "        if tech in VRE_techs:\n",
    "            ax[i].plot(network.generators.p_nom_opt[tech] * CF_dict[tech][start_index[i]:end_index[i]],\n",
    "                       color=color,\n",
    "                       alpha=0.8,\n",
    "                       linestyle='--',\n",
    "                       label=f'available {tech}')\n",
    "    ax[i].set_title(season)\n",
    "    ax[i].legend(fancybox=True, shadow=True, loc='best', prop={'size': 10})\n",
    "    ax[i].tick_params(axis='x', rotation=20)\n",
    "    ax[i].set_ylabel('Power [MW]')\n",
    "\n",
    "plt.tight_layout()\n",
    "plt.savefig('results/A/seasonal_generation.png', dpi=500)\n",
    "plt.show()"
   ]
  },
  {
   "cell_type": "code",
   "execution_count": 11,
   "metadata": {},
   "outputs": [
    {
     "ename": "FileNotFoundError",
     "evalue": "[Errno 2] No such file or directory: 'results/A/electricity_mix.png'",
     "output_type": "error",
     "traceback": [
      "\u001b[1;31m---------------------------------------------------------------------------\u001b[0m",
      "\u001b[1;31mFileNotFoundError\u001b[0m                         Traceback (most recent call last)",
      "Cell \u001b[1;32mIn[11], line 11\u001b[0m\n\u001b[0;32m      8\u001b[0m plt\u001b[38;5;241m.\u001b[39maxis(\u001b[38;5;124m'\u001b[39m\u001b[38;5;124mequal\u001b[39m\u001b[38;5;124m'\u001b[39m)\n\u001b[0;32m     10\u001b[0m plt\u001b[38;5;241m.\u001b[39mtitle(\u001b[38;5;124m'\u001b[39m\u001b[38;5;124mElectricity mix\u001b[39m\u001b[38;5;124m'\u001b[39m, y\u001b[38;5;241m=\u001b[39m\u001b[38;5;241m1.07\u001b[39m)\n\u001b[1;32m---> 11\u001b[0m \u001b[43mplt\u001b[49m\u001b[38;5;241;43m.\u001b[39;49m\u001b[43msavefig\u001b[49m\u001b[43m(\u001b[49m\u001b[38;5;124;43m'\u001b[39;49m\u001b[38;5;124;43mresults/A/electricity_mix.png\u001b[39;49m\u001b[38;5;124;43m'\u001b[39;49m\u001b[43m,\u001b[49m\u001b[43m \u001b[49m\u001b[43mdpi\u001b[49m\u001b[38;5;241;43m=\u001b[39;49m\u001b[38;5;241;43m500\u001b[39;49m\u001b[43m)\u001b[49m\n",
      "File \u001b[1;32mc:\\Users\\cwitt\\AppData\\Local\\Programs\\Python\\Python310\\lib\\site-packages\\matplotlib\\pyplot.py:1243\u001b[0m, in \u001b[0;36msavefig\u001b[1;34m(*args, **kwargs)\u001b[0m\n\u001b[0;32m   1240\u001b[0m fig \u001b[38;5;241m=\u001b[39m gcf()\n\u001b[0;32m   1241\u001b[0m \u001b[38;5;66;03m# savefig default implementation has no return, so mypy is unhappy\u001b[39;00m\n\u001b[0;32m   1242\u001b[0m \u001b[38;5;66;03m# presumably this is here because subclasses can return?\u001b[39;00m\n\u001b[1;32m-> 1243\u001b[0m res \u001b[38;5;241m=\u001b[39m fig\u001b[38;5;241m.\u001b[39msavefig(\u001b[38;5;241m*\u001b[39margs, \u001b[38;5;241m*\u001b[39m\u001b[38;5;241m*\u001b[39mkwargs)  \u001b[38;5;66;03m# type: ignore[func-returns-value]\u001b[39;00m\n\u001b[0;32m   1244\u001b[0m fig\u001b[38;5;241m.\u001b[39mcanvas\u001b[38;5;241m.\u001b[39mdraw_idle()  \u001b[38;5;66;03m# Need this if 'transparent=True', to reset colors.\u001b[39;00m\n\u001b[0;32m   1245\u001b[0m \u001b[38;5;28;01mreturn\u001b[39;00m res\n",
      "File \u001b[1;32mc:\\Users\\cwitt\\AppData\\Local\\Programs\\Python\\Python310\\lib\\site-packages\\matplotlib\\figure.py:3490\u001b[0m, in \u001b[0;36mFigure.savefig\u001b[1;34m(self, fname, transparent, **kwargs)\u001b[0m\n\u001b[0;32m   3488\u001b[0m     \u001b[38;5;28;01mfor\u001b[39;00m ax \u001b[38;5;129;01min\u001b[39;00m \u001b[38;5;28mself\u001b[39m\u001b[38;5;241m.\u001b[39maxes:\n\u001b[0;32m   3489\u001b[0m         _recursively_make_axes_transparent(stack, ax)\n\u001b[1;32m-> 3490\u001b[0m \u001b[38;5;28mself\u001b[39m\u001b[38;5;241m.\u001b[39mcanvas\u001b[38;5;241m.\u001b[39mprint_figure(fname, \u001b[38;5;241m*\u001b[39m\u001b[38;5;241m*\u001b[39mkwargs)\n",
      "File \u001b[1;32mc:\\Users\\cwitt\\AppData\\Local\\Programs\\Python\\Python310\\lib\\site-packages\\matplotlib\\backend_bases.py:2184\u001b[0m, in \u001b[0;36mFigureCanvasBase.print_figure\u001b[1;34m(self, filename, dpi, facecolor, edgecolor, orientation, format, bbox_inches, pad_inches, bbox_extra_artists, backend, **kwargs)\u001b[0m\n\u001b[0;32m   2180\u001b[0m \u001b[38;5;28;01mtry\u001b[39;00m:\n\u001b[0;32m   2181\u001b[0m     \u001b[38;5;66;03m# _get_renderer may change the figure dpi (as vector formats\u001b[39;00m\n\u001b[0;32m   2182\u001b[0m     \u001b[38;5;66;03m# force the figure dpi to 72), so we need to set it again here.\u001b[39;00m\n\u001b[0;32m   2183\u001b[0m     \u001b[38;5;28;01mwith\u001b[39;00m cbook\u001b[38;5;241m.\u001b[39m_setattr_cm(\u001b[38;5;28mself\u001b[39m\u001b[38;5;241m.\u001b[39mfigure, dpi\u001b[38;5;241m=\u001b[39mdpi):\n\u001b[1;32m-> 2184\u001b[0m         result \u001b[38;5;241m=\u001b[39m print_method(\n\u001b[0;32m   2185\u001b[0m             filename,\n\u001b[0;32m   2186\u001b[0m             facecolor\u001b[38;5;241m=\u001b[39mfacecolor,\n\u001b[0;32m   2187\u001b[0m             edgecolor\u001b[38;5;241m=\u001b[39medgecolor,\n\u001b[0;32m   2188\u001b[0m             orientation\u001b[38;5;241m=\u001b[39morientation,\n\u001b[0;32m   2189\u001b[0m             bbox_inches_restore\u001b[38;5;241m=\u001b[39m_bbox_inches_restore,\n\u001b[0;32m   2190\u001b[0m             \u001b[38;5;241m*\u001b[39m\u001b[38;5;241m*\u001b[39mkwargs)\n\u001b[0;32m   2191\u001b[0m \u001b[38;5;28;01mfinally\u001b[39;00m:\n\u001b[0;32m   2192\u001b[0m     \u001b[38;5;28;01mif\u001b[39;00m bbox_inches \u001b[38;5;129;01mand\u001b[39;00m restore_bbox:\n",
      "File \u001b[1;32mc:\\Users\\cwitt\\AppData\\Local\\Programs\\Python\\Python310\\lib\\site-packages\\matplotlib\\backend_bases.py:2040\u001b[0m, in \u001b[0;36mFigureCanvasBase._switch_canvas_and_return_print_method.<locals>.<lambda>\u001b[1;34m(*args, **kwargs)\u001b[0m\n\u001b[0;32m   2036\u001b[0m     optional_kws \u001b[38;5;241m=\u001b[39m {  \u001b[38;5;66;03m# Passed by print_figure for other renderers.\u001b[39;00m\n\u001b[0;32m   2037\u001b[0m         \u001b[38;5;124m\"\u001b[39m\u001b[38;5;124mdpi\u001b[39m\u001b[38;5;124m\"\u001b[39m, \u001b[38;5;124m\"\u001b[39m\u001b[38;5;124mfacecolor\u001b[39m\u001b[38;5;124m\"\u001b[39m, \u001b[38;5;124m\"\u001b[39m\u001b[38;5;124medgecolor\u001b[39m\u001b[38;5;124m\"\u001b[39m, \u001b[38;5;124m\"\u001b[39m\u001b[38;5;124morientation\u001b[39m\u001b[38;5;124m\"\u001b[39m,\n\u001b[0;32m   2038\u001b[0m         \u001b[38;5;124m\"\u001b[39m\u001b[38;5;124mbbox_inches_restore\u001b[39m\u001b[38;5;124m\"\u001b[39m}\n\u001b[0;32m   2039\u001b[0m     skip \u001b[38;5;241m=\u001b[39m optional_kws \u001b[38;5;241m-\u001b[39m {\u001b[38;5;241m*\u001b[39minspect\u001b[38;5;241m.\u001b[39msignature(meth)\u001b[38;5;241m.\u001b[39mparameters}\n\u001b[1;32m-> 2040\u001b[0m     print_method \u001b[38;5;241m=\u001b[39m functools\u001b[38;5;241m.\u001b[39mwraps(meth)(\u001b[38;5;28;01mlambda\u001b[39;00m \u001b[38;5;241m*\u001b[39margs, \u001b[38;5;241m*\u001b[39m\u001b[38;5;241m*\u001b[39mkwargs: meth(\n\u001b[0;32m   2041\u001b[0m         \u001b[38;5;241m*\u001b[39margs, \u001b[38;5;241m*\u001b[39m\u001b[38;5;241m*\u001b[39m{k: v \u001b[38;5;28;01mfor\u001b[39;00m k, v \u001b[38;5;129;01min\u001b[39;00m kwargs\u001b[38;5;241m.\u001b[39mitems() \u001b[38;5;28;01mif\u001b[39;00m k \u001b[38;5;129;01mnot\u001b[39;00m \u001b[38;5;129;01min\u001b[39;00m skip}))\n\u001b[0;32m   2042\u001b[0m \u001b[38;5;28;01melse\u001b[39;00m:  \u001b[38;5;66;03m# Let third-parties do as they see fit.\u001b[39;00m\n\u001b[0;32m   2043\u001b[0m     print_method \u001b[38;5;241m=\u001b[39m meth\n",
      "File \u001b[1;32mc:\\Users\\cwitt\\AppData\\Local\\Programs\\Python\\Python310\\lib\\site-packages\\matplotlib\\backends\\backend_agg.py:481\u001b[0m, in \u001b[0;36mFigureCanvasAgg.print_png\u001b[1;34m(self, filename_or_obj, metadata, pil_kwargs)\u001b[0m\n\u001b[0;32m    434\u001b[0m \u001b[38;5;28;01mdef\u001b[39;00m\u001b[38;5;250m \u001b[39m\u001b[38;5;21mprint_png\u001b[39m(\u001b[38;5;28mself\u001b[39m, filename_or_obj, \u001b[38;5;241m*\u001b[39m, metadata\u001b[38;5;241m=\u001b[39m\u001b[38;5;28;01mNone\u001b[39;00m, pil_kwargs\u001b[38;5;241m=\u001b[39m\u001b[38;5;28;01mNone\u001b[39;00m):\n\u001b[0;32m    435\u001b[0m \u001b[38;5;250m    \u001b[39m\u001b[38;5;124;03m\"\"\"\u001b[39;00m\n\u001b[0;32m    436\u001b[0m \u001b[38;5;124;03m    Write the figure to a PNG file.\u001b[39;00m\n\u001b[0;32m    437\u001b[0m \n\u001b[1;32m   (...)\u001b[0m\n\u001b[0;32m    479\u001b[0m \u001b[38;5;124;03m        *metadata*, including the default 'Software' key.\u001b[39;00m\n\u001b[0;32m    480\u001b[0m \u001b[38;5;124;03m    \"\"\"\u001b[39;00m\n\u001b[1;32m--> 481\u001b[0m     \u001b[38;5;28;43mself\u001b[39;49m\u001b[38;5;241;43m.\u001b[39;49m\u001b[43m_print_pil\u001b[49m\u001b[43m(\u001b[49m\u001b[43mfilename_or_obj\u001b[49m\u001b[43m,\u001b[49m\u001b[43m \u001b[49m\u001b[38;5;124;43m\"\u001b[39;49m\u001b[38;5;124;43mpng\u001b[39;49m\u001b[38;5;124;43m\"\u001b[39;49m\u001b[43m,\u001b[49m\u001b[43m \u001b[49m\u001b[43mpil_kwargs\u001b[49m\u001b[43m,\u001b[49m\u001b[43m \u001b[49m\u001b[43mmetadata\u001b[49m\u001b[43m)\u001b[49m\n",
      "File \u001b[1;32mc:\\Users\\cwitt\\AppData\\Local\\Programs\\Python\\Python310\\lib\\site-packages\\matplotlib\\backends\\backend_agg.py:430\u001b[0m, in \u001b[0;36mFigureCanvasAgg._print_pil\u001b[1;34m(self, filename_or_obj, fmt, pil_kwargs, metadata)\u001b[0m\n\u001b[0;32m    425\u001b[0m \u001b[38;5;250m\u001b[39m\u001b[38;5;124;03m\"\"\"\u001b[39;00m\n\u001b[0;32m    426\u001b[0m \u001b[38;5;124;03mDraw the canvas, then save it using `.image.imsave` (to which\u001b[39;00m\n\u001b[0;32m    427\u001b[0m \u001b[38;5;124;03m*pil_kwargs* and *metadata* are forwarded).\u001b[39;00m\n\u001b[0;32m    428\u001b[0m \u001b[38;5;124;03m\"\"\"\u001b[39;00m\n\u001b[0;32m    429\u001b[0m FigureCanvasAgg\u001b[38;5;241m.\u001b[39mdraw(\u001b[38;5;28mself\u001b[39m)\n\u001b[1;32m--> 430\u001b[0m \u001b[43mmpl\u001b[49m\u001b[38;5;241;43m.\u001b[39;49m\u001b[43mimage\u001b[49m\u001b[38;5;241;43m.\u001b[39;49m\u001b[43mimsave\u001b[49m\u001b[43m(\u001b[49m\n\u001b[0;32m    431\u001b[0m \u001b[43m    \u001b[49m\u001b[43mfilename_or_obj\u001b[49m\u001b[43m,\u001b[49m\u001b[43m \u001b[49m\u001b[38;5;28;43mself\u001b[39;49m\u001b[38;5;241;43m.\u001b[39;49m\u001b[43mbuffer_rgba\u001b[49m\u001b[43m(\u001b[49m\u001b[43m)\u001b[49m\u001b[43m,\u001b[49m\u001b[43m \u001b[49m\u001b[38;5;28;43mformat\u001b[39;49m\u001b[38;5;241;43m=\u001b[39;49m\u001b[43mfmt\u001b[49m\u001b[43m,\u001b[49m\u001b[43m \u001b[49m\u001b[43morigin\u001b[49m\u001b[38;5;241;43m=\u001b[39;49m\u001b[38;5;124;43m\"\u001b[39;49m\u001b[38;5;124;43mupper\u001b[39;49m\u001b[38;5;124;43m\"\u001b[39;49m\u001b[43m,\u001b[49m\n\u001b[0;32m    432\u001b[0m \u001b[43m    \u001b[49m\u001b[43mdpi\u001b[49m\u001b[38;5;241;43m=\u001b[39;49m\u001b[38;5;28;43mself\u001b[39;49m\u001b[38;5;241;43m.\u001b[39;49m\u001b[43mfigure\u001b[49m\u001b[38;5;241;43m.\u001b[39;49m\u001b[43mdpi\u001b[49m\u001b[43m,\u001b[49m\u001b[43m \u001b[49m\u001b[43mmetadata\u001b[49m\u001b[38;5;241;43m=\u001b[39;49m\u001b[43mmetadata\u001b[49m\u001b[43m,\u001b[49m\u001b[43m \u001b[49m\u001b[43mpil_kwargs\u001b[49m\u001b[38;5;241;43m=\u001b[39;49m\u001b[43mpil_kwargs\u001b[49m\u001b[43m)\u001b[49m\n",
      "File \u001b[1;32mc:\\Users\\cwitt\\AppData\\Local\\Programs\\Python\\Python310\\lib\\site-packages\\matplotlib\\image.py:1644\u001b[0m, in \u001b[0;36mimsave\u001b[1;34m(fname, arr, vmin, vmax, cmap, format, origin, dpi, metadata, pil_kwargs)\u001b[0m\n\u001b[0;32m   1642\u001b[0m pil_kwargs\u001b[38;5;241m.\u001b[39msetdefault(\u001b[38;5;124m\"\u001b[39m\u001b[38;5;124mformat\u001b[39m\u001b[38;5;124m\"\u001b[39m, \u001b[38;5;28mformat\u001b[39m)\n\u001b[0;32m   1643\u001b[0m pil_kwargs\u001b[38;5;241m.\u001b[39msetdefault(\u001b[38;5;124m\"\u001b[39m\u001b[38;5;124mdpi\u001b[39m\u001b[38;5;124m\"\u001b[39m, (dpi, dpi))\n\u001b[1;32m-> 1644\u001b[0m image\u001b[38;5;241m.\u001b[39msave(fname, \u001b[38;5;241m*\u001b[39m\u001b[38;5;241m*\u001b[39mpil_kwargs)\n",
      "File \u001b[1;32mc:\\Users\\cwitt\\AppData\\Local\\Programs\\Python\\Python310\\lib\\site-packages\\PIL\\Image.py:2591\u001b[0m, in \u001b[0;36mImage.save\u001b[1;34m(self, fp, format, **params)\u001b[0m\n\u001b[0;32m   2589\u001b[0m         fp \u001b[38;5;241m=\u001b[39m builtins\u001b[38;5;241m.\u001b[39mopen(filename, \u001b[38;5;124m\"\u001b[39m\u001b[38;5;124mr+b\u001b[39m\u001b[38;5;124m\"\u001b[39m)\n\u001b[0;32m   2590\u001b[0m     \u001b[38;5;28;01melse\u001b[39;00m:\n\u001b[1;32m-> 2591\u001b[0m         fp \u001b[38;5;241m=\u001b[39m \u001b[43mbuiltins\u001b[49m\u001b[38;5;241;43m.\u001b[39;49m\u001b[43mopen\u001b[49m\u001b[43m(\u001b[49m\u001b[43mfilename\u001b[49m\u001b[43m,\u001b[49m\u001b[43m \u001b[49m\u001b[38;5;124;43m\"\u001b[39;49m\u001b[38;5;124;43mw+b\u001b[39;49m\u001b[38;5;124;43m\"\u001b[39;49m\u001b[43m)\u001b[49m\n\u001b[0;32m   2592\u001b[0m \u001b[38;5;28;01melse\u001b[39;00m:\n\u001b[0;32m   2593\u001b[0m     fp \u001b[38;5;241m=\u001b[39m cast(IO[\u001b[38;5;28mbytes\u001b[39m], fp)\n",
      "\u001b[1;31mFileNotFoundError\u001b[0m: [Errno 2] No such file or directory: 'results/A/electricity_mix.png'"
     ]
    },
    {
     "data": {
      "image/png": "[encoded data removed]",
      "text/plain": [
       "<Figure size 640x480 with 1 Axes>"
      ]
     },
     "metadata": {},
     "output_type": "display_data"
    }
   ],
   "source": [
    "sizes = [network.generators_t.p[tech].sum()\n",
    "         for tech in techs_labels]\n",
    "\n",
    "plt.pie(sizes,\n",
    "        colors=techs_colors,\n",
    "        labels=techs_labels,\n",
    "        wedgeprops={'linewidth':0})\n",
    "plt.axis('equal')\n",
    "\n",
    "plt.title('Electricity mix', y=1.07)\n",
    "plt.savefig('results/A/electricity_mix.png', dpi=500)"
   ]
  },
  {
   "cell_type": "code",
   "execution_count": null,
   "metadata": {},
   "outputs": [],
   "source": [
    "np.array(sizes) / 10**6, biomass_available / 10**6 * dict_efficiencies['biomass'] # in TWh. Compare the biomass used to the biomass available to verify if we are using everything"
   ]
  },
  {
   "cell_type": "code",
   "execution_count": null,
   "metadata": {},
   "outputs": [],
   "source": [
    "# Generator revenues\n",
    "network.generators_t.p.multiply(network.buses_t.marginal_price.to_numpy()).sum().div(1e6) # € -> M€"
   ]
  },
  {
   "cell_type": "code",
   "execution_count": 12,
   "metadata": {},
   "outputs": [
    {
     "data": {
      "text/plain": [
       "component  carrier    \n",
       "Generator  coal           7879.884421\n",
       "           gas            3503.443749\n",
       "           onshorewind    4060.959914\n",
       "           solar          1634.926595\n",
       "           wood chips     1204.511042\n",
       "dtype: float64"
      ]
     },
     "execution_count": 12,
     "metadata": {},
     "output_type": "execute_result"
    }
   ],
   "source": [
    "# Total expenditures by carriers\n",
    "( network.statistics.capex(groupby=\"carrier\").add(\n",
    "    network.statistics.opex(groupby=\"carrier\"), fill_value=0\n",
    "    )\n",
    ").div(1e6) # € -> M€"
   ]
  },
  {
   "cell_type": "markdown",
   "metadata": {},
   "source": [
    "The coal expenditures used to not match the coal revenues since the installed coal capacity was not a part of the optimization problem. However, we no longer fix the coal capacity.\n",
    "\n",
    "However, the biomass expenditures actually do not match the revenues because of the sustainable biomass constraint. The remaining money can be found by multiplying the lagrange multiplier of the biomass constraint by the wood chips used."
   ]
  },
  {
   "cell_type": "code",
   "execution_count": null,
   "metadata": {},
   "outputs": [],
   "source": [
    "-network.global_constraints.mu * network.generators_t.p[\"biomass\"].sum() / 1e6 / network.generators.efficiency[\"biomass\"] # € -> M€"
   ]
  },
  {
   "cell_type": "code",
   "execution_count": 13,
   "metadata": {},
   "outputs": [
    {
     "data": {
      "text/plain": [
       "Generator\n",
       "onshorewind     0.000000\n",
       "solar           0.000000\n",
       "OCGT           10.854157\n",
       "coal           81.096992\n",
       "nuclear         0.000000\n",
       "biomass         0.000000\n",
       "dtype: float64"
      ]
     },
     "execution_count": 13,
     "metadata": {},
     "output_type": "execute_result"
    }
   ],
   "source": [
    "# emissions by GENERATOR\n",
    "emissions = (\n",
    "    network.generators_t.p\n",
    "    / network.generators.efficiency\n",
    "    * network.generators.carrier.map(network.carriers.co2_emissions)\n",
    ")  # t/h\n",
    "emissions.sum().div(1e6)  # tCO2 -> MtCO2"
   ]
  },
  {
   "cell_type": "code",
   "execution_count": 14,
   "metadata": {},
   "outputs": [
    {
     "data": {
      "text/plain": [
       "(carrier\n",
       " coal           81.096992\n",
       " gas            10.854157\n",
       " nuclear         0.000000\n",
       " onshorewind     0.000000\n",
       " solar           0.000000\n",
       " wood chips      0.000000\n",
       " dtype: float64,\n",
       " 91.95114867758565)"
      ]
     },
     "execution_count": 14,
     "metadata": {},
     "output_type": "execute_result"
    }
   ],
   "source": [
    "# emissions by CARRIER\n",
    "emissions = (\n",
    "    network.generators_t.p\n",
    "    / network.generators.efficiency\n",
    "    * network.generators.carrier.map(network.carriers.co2_emissions)\n",
    ").T.groupby(network.generators.carrier).sum().T  # t/h\n",
    "emissions.sum().div(1e6), emissions.sum().div(1e6).sum()  # tCO2 -> MtCO2"
   ]
  },
  {
   "cell_type": "code",
   "execution_count": null,
   "metadata": {},
   "outputs": [],
   "source": [
    "network.generators.efficiency, network.carriers.co2_emissions"
   ]
  },
  {
   "cell_type": "markdown",
   "metadata": {},
   "source": [
    "# A: Load duration curve"
   ]
  },
  {
   "cell_type": "code",
   "execution_count": null,
   "metadata": {},
   "outputs": [],
   "source": [
    "# curtailed solar and wind\n",
    "[print(tech, network.generators_t.p[tech].sum() / (network.generators.p_nom_opt[tech] * CF_sorted_dict[tech]).sum()) for tech in techs_labels if tech in VRE_techs]"
   ]
  },
  {
   "cell_type": "code",
   "execution_count": 17,
   "metadata": {},
   "outputs": [
    {
     "ename": "FileNotFoundError",
     "evalue": "[Errno 2] No such file or directory: 'results/A/ldc.png'",
     "output_type": "error",
     "traceback": [
      "\u001b[1;31m---------------------------------------------------------------------------\u001b[0m",
      "\u001b[1;31mFileNotFoundError\u001b[0m                         Traceback (most recent call last)",
      "Cell \u001b[1;32mIn[17], line 27\u001b[0m\n\u001b[0;32m     25\u001b[0m plt\u001b[38;5;241m.\u001b[39mtight_layout()\n\u001b[0;32m     26\u001b[0m plt\u001b[38;5;241m.\u001b[39mlegend(fancybox\u001b[38;5;241m=\u001b[39m\u001b[38;5;28;01mTrue\u001b[39;00m, shadow\u001b[38;5;241m=\u001b[39m\u001b[38;5;28;01mTrue\u001b[39;00m, loc\u001b[38;5;241m=\u001b[39m\u001b[38;5;124m'\u001b[39m\u001b[38;5;124mbest\u001b[39m\u001b[38;5;124m'\u001b[39m, prop\u001b[38;5;241m=\u001b[39m{\u001b[38;5;124m'\u001b[39m\u001b[38;5;124msize\u001b[39m\u001b[38;5;124m'\u001b[39m: \u001b[38;5;241m10\u001b[39m})\n\u001b[1;32m---> 27\u001b[0m \u001b[43mplt\u001b[49m\u001b[38;5;241;43m.\u001b[39;49m\u001b[43msavefig\u001b[49m\u001b[43m(\u001b[49m\u001b[38;5;124;43m'\u001b[39;49m\u001b[38;5;124;43mresults/A/ldc.png\u001b[39;49m\u001b[38;5;124;43m'\u001b[39;49m\u001b[43m,\u001b[49m\u001b[43m \u001b[49m\u001b[43mdpi\u001b[49m\u001b[38;5;241;43m=\u001b[39;49m\u001b[38;5;241;43m500\u001b[39;49m\u001b[43m)\u001b[49m\n\u001b[0;32m     28\u001b[0m plt\u001b[38;5;241m.\u001b[39mshow()\n",
      "File \u001b[1;32mc:\\Users\\cwitt\\AppData\\Local\\Programs\\Python\\Python310\\lib\\site-packages\\matplotlib\\pyplot.py:1243\u001b[0m, in \u001b[0;36msavefig\u001b[1;34m(*args, **kwargs)\u001b[0m\n\u001b[0;32m   1240\u001b[0m fig \u001b[38;5;241m=\u001b[39m gcf()\n\u001b[0;32m   1241\u001b[0m \u001b[38;5;66;03m# savefig default implementation has no return, so mypy is unhappy\u001b[39;00m\n\u001b[0;32m   1242\u001b[0m \u001b[38;5;66;03m# presumably this is here because subclasses can return?\u001b[39;00m\n\u001b[1;32m-> 1243\u001b[0m res \u001b[38;5;241m=\u001b[39m fig\u001b[38;5;241m.\u001b[39msavefig(\u001b[38;5;241m*\u001b[39margs, \u001b[38;5;241m*\u001b[39m\u001b[38;5;241m*\u001b[39mkwargs)  \u001b[38;5;66;03m# type: ignore[func-returns-value]\u001b[39;00m\n\u001b[0;32m   1244\u001b[0m fig\u001b[38;5;241m.\u001b[39mcanvas\u001b[38;5;241m.\u001b[39mdraw_idle()  \u001b[38;5;66;03m# Need this if 'transparent=True', to reset colors.\u001b[39;00m\n\u001b[0;32m   1245\u001b[0m \u001b[38;5;28;01mreturn\u001b[39;00m res\n",
      "File \u001b[1;32mc:\\Users\\cwitt\\AppData\\Local\\Programs\\Python\\Python310\\lib\\site-packages\\matplotlib\\figure.py:3490\u001b[0m, in \u001b[0;36mFigure.savefig\u001b[1;34m(self, fname, transparent, **kwargs)\u001b[0m\n\u001b[0;32m   3488\u001b[0m     \u001b[38;5;28;01mfor\u001b[39;00m ax \u001b[38;5;129;01min\u001b[39;00m \u001b[38;5;28mself\u001b[39m\u001b[38;5;241m.\u001b[39maxes:\n\u001b[0;32m   3489\u001b[0m         _recursively_make_axes_transparent(stack, ax)\n\u001b[1;32m-> 3490\u001b[0m \u001b[38;5;28mself\u001b[39m\u001b[38;5;241m.\u001b[39mcanvas\u001b[38;5;241m.\u001b[39mprint_figure(fname, \u001b[38;5;241m*\u001b[39m\u001b[38;5;241m*\u001b[39mkwargs)\n",
      "File \u001b[1;32mc:\\Users\\cwitt\\AppData\\Local\\Programs\\Python\\Python310\\lib\\site-packages\\matplotlib\\backend_bases.py:2184\u001b[0m, in \u001b[0;36mFigureCanvasBase.print_figure\u001b[1;34m(self, filename, dpi, facecolor, edgecolor, orientation, format, bbox_inches, pad_inches, bbox_extra_artists, backend, **kwargs)\u001b[0m\n\u001b[0;32m   2180\u001b[0m \u001b[38;5;28;01mtry\u001b[39;00m:\n\u001b[0;32m   2181\u001b[0m     \u001b[38;5;66;03m# _get_renderer may change the figure dpi (as vector formats\u001b[39;00m\n\u001b[0;32m   2182\u001b[0m     \u001b[38;5;66;03m# force the figure dpi to 72), so we need to set it again here.\u001b[39;00m\n\u001b[0;32m   2183\u001b[0m     \u001b[38;5;28;01mwith\u001b[39;00m cbook\u001b[38;5;241m.\u001b[39m_setattr_cm(\u001b[38;5;28mself\u001b[39m\u001b[38;5;241m.\u001b[39mfigure, dpi\u001b[38;5;241m=\u001b[39mdpi):\n\u001b[1;32m-> 2184\u001b[0m         result \u001b[38;5;241m=\u001b[39m print_method(\n\u001b[0;32m   2185\u001b[0m             filename,\n\u001b[0;32m   2186\u001b[0m             facecolor\u001b[38;5;241m=\u001b[39mfacecolor,\n\u001b[0;32m   2187\u001b[0m             edgecolor\u001b[38;5;241m=\u001b[39medgecolor,\n\u001b[0;32m   2188\u001b[0m             orientation\u001b[38;5;241m=\u001b[39morientation,\n\u001b[0;32m   2189\u001b[0m             bbox_inches_restore\u001b[38;5;241m=\u001b[39m_bbox_inches_restore,\n\u001b[0;32m   2190\u001b[0m             \u001b[38;5;241m*\u001b[39m\u001b[38;5;241m*\u001b[39mkwargs)\n\u001b[0;32m   2191\u001b[0m \u001b[38;5;28;01mfinally\u001b[39;00m:\n\u001b[0;32m   2192\u001b[0m     \u001b[38;5;28;01mif\u001b[39;00m bbox_inches \u001b[38;5;129;01mand\u001b[39;00m restore_bbox:\n",
      "File \u001b[1;32mc:\\Users\\cwitt\\AppData\\Local\\Programs\\Python\\Python310\\lib\\site-packages\\matplotlib\\backend_bases.py:2040\u001b[0m, in \u001b[0;36mFigureCanvasBase._switch_canvas_and_return_print_method.<locals>.<lambda>\u001b[1;34m(*args, **kwargs)\u001b[0m\n\u001b[0;32m   2036\u001b[0m     optional_kws \u001b[38;5;241m=\u001b[39m {  \u001b[38;5;66;03m# Passed by print_figure for other renderers.\u001b[39;00m\n\u001b[0;32m   2037\u001b[0m         \u001b[38;5;124m\"\u001b[39m\u001b[38;5;124mdpi\u001b[39m\u001b[38;5;124m\"\u001b[39m, \u001b[38;5;124m\"\u001b[39m\u001b[38;5;124mfacecolor\u001b[39m\u001b[38;5;124m\"\u001b[39m, \u001b[38;5;124m\"\u001b[39m\u001b[38;5;124medgecolor\u001b[39m\u001b[38;5;124m\"\u001b[39m, \u001b[38;5;124m\"\u001b[39m\u001b[38;5;124morientation\u001b[39m\u001b[38;5;124m\"\u001b[39m,\n\u001b[0;32m   2038\u001b[0m         \u001b[38;5;124m\"\u001b[39m\u001b[38;5;124mbbox_inches_restore\u001b[39m\u001b[38;5;124m\"\u001b[39m}\n\u001b[0;32m   2039\u001b[0m     skip \u001b[38;5;241m=\u001b[39m optional_kws \u001b[38;5;241m-\u001b[39m {\u001b[38;5;241m*\u001b[39minspect\u001b[38;5;241m.\u001b[39msignature(meth)\u001b[38;5;241m.\u001b[39mparameters}\n\u001b[1;32m-> 2040\u001b[0m     print_method \u001b[38;5;241m=\u001b[39m functools\u001b[38;5;241m.\u001b[39mwraps(meth)(\u001b[38;5;28;01mlambda\u001b[39;00m \u001b[38;5;241m*\u001b[39margs, \u001b[38;5;241m*\u001b[39m\u001b[38;5;241m*\u001b[39mkwargs: meth(\n\u001b[0;32m   2041\u001b[0m         \u001b[38;5;241m*\u001b[39margs, \u001b[38;5;241m*\u001b[39m\u001b[38;5;241m*\u001b[39m{k: v \u001b[38;5;28;01mfor\u001b[39;00m k, v \u001b[38;5;129;01min\u001b[39;00m kwargs\u001b[38;5;241m.\u001b[39mitems() \u001b[38;5;28;01mif\u001b[39;00m k \u001b[38;5;129;01mnot\u001b[39;00m \u001b[38;5;129;01min\u001b[39;00m skip}))\n\u001b[0;32m   2042\u001b[0m \u001b[38;5;28;01melse\u001b[39;00m:  \u001b[38;5;66;03m# Let third-parties do as they see fit.\u001b[39;00m\n\u001b[0;32m   2043\u001b[0m     print_method \u001b[38;5;241m=\u001b[39m meth\n",
      "File \u001b[1;32mc:\\Users\\cwitt\\AppData\\Local\\Programs\\Python\\Python310\\lib\\site-packages\\matplotlib\\backends\\backend_agg.py:481\u001b[0m, in \u001b[0;36mFigureCanvasAgg.print_png\u001b[1;34m(self, filename_or_obj, metadata, pil_kwargs)\u001b[0m\n\u001b[0;32m    434\u001b[0m \u001b[38;5;28;01mdef\u001b[39;00m\u001b[38;5;250m \u001b[39m\u001b[38;5;21mprint_png\u001b[39m(\u001b[38;5;28mself\u001b[39m, filename_or_obj, \u001b[38;5;241m*\u001b[39m, metadata\u001b[38;5;241m=\u001b[39m\u001b[38;5;28;01mNone\u001b[39;00m, pil_kwargs\u001b[38;5;241m=\u001b[39m\u001b[38;5;28;01mNone\u001b[39;00m):\n\u001b[0;32m    435\u001b[0m \u001b[38;5;250m    \u001b[39m\u001b[38;5;124;03m\"\"\"\u001b[39;00m\n\u001b[0;32m    436\u001b[0m \u001b[38;5;124;03m    Write the figure to a PNG file.\u001b[39;00m\n\u001b[0;32m    437\u001b[0m \n\u001b[1;32m   (...)\u001b[0m\n\u001b[0;32m    479\u001b[0m \u001b[38;5;124;03m        *metadata*, including the default 'Software' key.\u001b[39;00m\n\u001b[0;32m    480\u001b[0m \u001b[38;5;124;03m    \"\"\"\u001b[39;00m\n\u001b[1;32m--> 481\u001b[0m     \u001b[38;5;28;43mself\u001b[39;49m\u001b[38;5;241;43m.\u001b[39;49m\u001b[43m_print_pil\u001b[49m\u001b[43m(\u001b[49m\u001b[43mfilename_or_obj\u001b[49m\u001b[43m,\u001b[49m\u001b[43m \u001b[49m\u001b[38;5;124;43m\"\u001b[39;49m\u001b[38;5;124;43mpng\u001b[39;49m\u001b[38;5;124;43m\"\u001b[39;49m\u001b[43m,\u001b[49m\u001b[43m \u001b[49m\u001b[43mpil_kwargs\u001b[49m\u001b[43m,\u001b[49m\u001b[43m \u001b[49m\u001b[43mmetadata\u001b[49m\u001b[43m)\u001b[49m\n",
      "File \u001b[1;32mc:\\Users\\cwitt\\AppData\\Local\\Programs\\Python\\Python310\\lib\\site-packages\\matplotlib\\backends\\backend_agg.py:430\u001b[0m, in \u001b[0;36mFigureCanvasAgg._print_pil\u001b[1;34m(self, filename_or_obj, fmt, pil_kwargs, metadata)\u001b[0m\n\u001b[0;32m    425\u001b[0m \u001b[38;5;250m\u001b[39m\u001b[38;5;124;03m\"\"\"\u001b[39;00m\n\u001b[0;32m    426\u001b[0m \u001b[38;5;124;03mDraw the canvas, then save it using `.image.imsave` (to which\u001b[39;00m\n\u001b[0;32m    427\u001b[0m \u001b[38;5;124;03m*pil_kwargs* and *metadata* are forwarded).\u001b[39;00m\n\u001b[0;32m    428\u001b[0m \u001b[38;5;124;03m\"\"\"\u001b[39;00m\n\u001b[0;32m    429\u001b[0m FigureCanvasAgg\u001b[38;5;241m.\u001b[39mdraw(\u001b[38;5;28mself\u001b[39m)\n\u001b[1;32m--> 430\u001b[0m \u001b[43mmpl\u001b[49m\u001b[38;5;241;43m.\u001b[39;49m\u001b[43mimage\u001b[49m\u001b[38;5;241;43m.\u001b[39;49m\u001b[43mimsave\u001b[49m\u001b[43m(\u001b[49m\n\u001b[0;32m    431\u001b[0m \u001b[43m    \u001b[49m\u001b[43mfilename_or_obj\u001b[49m\u001b[43m,\u001b[49m\u001b[43m \u001b[49m\u001b[38;5;28;43mself\u001b[39;49m\u001b[38;5;241;43m.\u001b[39;49m\u001b[43mbuffer_rgba\u001b[49m\u001b[43m(\u001b[49m\u001b[43m)\u001b[49m\u001b[43m,\u001b[49m\u001b[43m \u001b[49m\u001b[38;5;28;43mformat\u001b[39;49m\u001b[38;5;241;43m=\u001b[39;49m\u001b[43mfmt\u001b[49m\u001b[43m,\u001b[49m\u001b[43m \u001b[49m\u001b[43morigin\u001b[49m\u001b[38;5;241;43m=\u001b[39;49m\u001b[38;5;124;43m\"\u001b[39;49m\u001b[38;5;124;43mupper\u001b[39;49m\u001b[38;5;124;43m\"\u001b[39;49m\u001b[43m,\u001b[49m\n\u001b[0;32m    432\u001b[0m \u001b[43m    \u001b[49m\u001b[43mdpi\u001b[49m\u001b[38;5;241;43m=\u001b[39;49m\u001b[38;5;28;43mself\u001b[39;49m\u001b[38;5;241;43m.\u001b[39;49m\u001b[43mfigure\u001b[49m\u001b[38;5;241;43m.\u001b[39;49m\u001b[43mdpi\u001b[49m\u001b[43m,\u001b[49m\u001b[43m \u001b[49m\u001b[43mmetadata\u001b[49m\u001b[38;5;241;43m=\u001b[39;49m\u001b[43mmetadata\u001b[49m\u001b[43m,\u001b[49m\u001b[43m \u001b[49m\u001b[43mpil_kwargs\u001b[49m\u001b[38;5;241;43m=\u001b[39;49m\u001b[43mpil_kwargs\u001b[49m\u001b[43m)\u001b[49m\n",
      "File \u001b[1;32mc:\\Users\\cwitt\\AppData\\Local\\Programs\\Python\\Python310\\lib\\site-packages\\matplotlib\\image.py:1644\u001b[0m, in \u001b[0;36mimsave\u001b[1;34m(fname, arr, vmin, vmax, cmap, format, origin, dpi, metadata, pil_kwargs)\u001b[0m\n\u001b[0;32m   1642\u001b[0m pil_kwargs\u001b[38;5;241m.\u001b[39msetdefault(\u001b[38;5;124m\"\u001b[39m\u001b[38;5;124mformat\u001b[39m\u001b[38;5;124m\"\u001b[39m, \u001b[38;5;28mformat\u001b[39m)\n\u001b[0;32m   1643\u001b[0m pil_kwargs\u001b[38;5;241m.\u001b[39msetdefault(\u001b[38;5;124m\"\u001b[39m\u001b[38;5;124mdpi\u001b[39m\u001b[38;5;124m\"\u001b[39m, (dpi, dpi))\n\u001b[1;32m-> 1644\u001b[0m image\u001b[38;5;241m.\u001b[39msave(fname, \u001b[38;5;241m*\u001b[39m\u001b[38;5;241m*\u001b[39mpil_kwargs)\n",
      "File \u001b[1;32mc:\\Users\\cwitt\\AppData\\Local\\Programs\\Python\\Python310\\lib\\site-packages\\PIL\\Image.py:2591\u001b[0m, in \u001b[0;36mImage.save\u001b[1;34m(self, fp, format, **params)\u001b[0m\n\u001b[0;32m   2589\u001b[0m         fp \u001b[38;5;241m=\u001b[39m builtins\u001b[38;5;241m.\u001b[39mopen(filename, \u001b[38;5;124m\"\u001b[39m\u001b[38;5;124mr+b\u001b[39m\u001b[38;5;124m\"\u001b[39m)\n\u001b[0;32m   2590\u001b[0m     \u001b[38;5;28;01melse\u001b[39;00m:\n\u001b[1;32m-> 2591\u001b[0m         fp \u001b[38;5;241m=\u001b[39m \u001b[43mbuiltins\u001b[49m\u001b[38;5;241;43m.\u001b[39;49m\u001b[43mopen\u001b[49m\u001b[43m(\u001b[49m\u001b[43mfilename\u001b[49m\u001b[43m,\u001b[49m\u001b[43m \u001b[49m\u001b[38;5;124;43m\"\u001b[39;49m\u001b[38;5;124;43mw+b\u001b[39;49m\u001b[38;5;124;43m\"\u001b[39;49m\u001b[43m)\u001b[49m\n\u001b[0;32m   2592\u001b[0m \u001b[38;5;28;01melse\u001b[39;00m:\n\u001b[0;32m   2593\u001b[0m     fp \u001b[38;5;241m=\u001b[39m cast(IO[\u001b[38;5;28mbytes\u001b[39m], fp)\n",
      "\u001b[1;31mFileNotFoundError\u001b[0m: [Errno 2] No such file or directory: 'results/A/ldc.png'"
     ]
    },
    {
     "data": {
      "image/png": "[encoded data removed]",
      "text/plain": [
       "<Figure size 640x480 with 1 Axes>"
      ]
     },
     "metadata": {},
     "output_type": "display_data"
    }
   ],
   "source": [
    "LDC = network.loads_t.p_set.sort_values(by=f'{country} electricity load', ascending=False) # MWh\n",
    "LDC_idx = range(1,len(LDC)+1) # hours\n",
    "\n",
    "CF_sorted_dict = {tech: CF_dict[tech].sort_values(ascending=False) for tech in VRE_techs}\n",
    "\n",
    "plt.plot(LDC_idx,\n",
    "         LDC,\n",
    "         label='Load Duration Curve',\n",
    "         color='black')\n",
    "for tech, color in zip(techs_labels, techs_colors):\n",
    "    plt.plot(LDC_idx,\n",
    "               network.generators_t.p[tech].sort_values(ascending=False),\n",
    "               color=color,\n",
    "               label=tech)\n",
    "    if tech in VRE_techs:\n",
    "        plt.plot(LDC_idx,\n",
    "                 network.generators.p_nom_opt[tech] * CF_sorted_dict[tech],\n",
    "                 label=f\"available {tech}\",\n",
    "                 linestyle='--',\n",
    "                 alpha=0.8,\n",
    "                 color=color)\n",
    "        \n",
    "plt.xlabel('Hours [h]')\n",
    "plt.ylabel('Power [MW]')\n",
    "plt.tight_layout()\n",
    "plt.legend(fancybox=True, shadow=True, loc='best', prop={'size': 10})\n",
    "plt.savefig('results/A/ldc.png', dpi=500)\n",
    "plt.show()\n"
   ]
  },
  {
   "cell_type": "markdown",
   "metadata": {},
   "source": [
    "# B: Sensitivity to global CO2 constraint\n",
    "\n",
    "### Investigate how sensitive the optimum capacity mix is to the global CO2 constraint. E.g., plot the generation mix as a function of the CO2 constraint that you impose. Search for the CO2 emissions in your country (today or in 1990) and refer to the emissions allowance to that historical data."
   ]
  },
  {
   "cell_type": "code",
   "execution_count": 18,
   "metadata": {},
   "outputs": [
    {
     "name": "stderr",
     "output_type": "stream",
     "text": [
      "WARNING:pypsa.consistency:The following buses have carriers which are not defined:\n",
      "Index(['GBR electricity bus'], dtype='object', name='Bus')\n",
      "WARNING:pypsa.consistency:The following loads have carriers which are not defined:\n",
      "Index(['GBR electricity load'], dtype='object', name='Load')\n",
      "INFO:linopy.model: Solve problem using Gurobi solver\n",
      "INFO:linopy.io:Writing objective.\n",
      "Writing constraints.: 100%|\u001b[38;2;128;191;255m██████████\u001b[0m| 7/7 [00:01<00:00,  6.40it/s]\n",
      "Writing continuous variables.: 100%|\u001b[38;2;128;191;255m██████████\u001b[0m| 2/2 [00:00<00:00,  8.68it/s]\n",
      "INFO:linopy.io: Writing time: 1.46s\n",
      "INFO:linopy.constants: Optimization successful: \n",
      "Status: ok\n",
      "Termination condition: optimal\n",
      "Solution: 52566 primals, 113888 duals\n",
      "Objective: 1.83e+10\n",
      "Solver model: available\n",
      "Solver message: 2\n",
      "\n",
      "INFO:pypsa.optimization.optimize:The shadow-prices of the constraints Generator-ext-p-lower, Generator-ext-p-upper were not assigned to the network.\n",
      "WARNING:pypsa.consistency:The following buses have carriers which are not defined:\n",
      "Index(['GBR electricity bus'], dtype='object', name='Bus')\n",
      "WARNING:pypsa.consistency:The following loads have carriers which are not defined:\n",
      "Index(['GBR electricity load'], dtype='object', name='Load')\n",
      "INFO:linopy.model: Solve problem using Gurobi solver\n",
      "INFO:linopy.io:Writing objective.\n",
      "Writing constraints.: 100%|\u001b[38;2;128;191;255m██████████\u001b[0m| 7/7 [00:01<00:00,  6.28it/s]\n",
      "Writing continuous variables.: 100%|\u001b[38;2;128;191;255m██████████\u001b[0m| 2/2 [00:00<00:00, 12.61it/s]\n",
      "INFO:linopy.io: Writing time: 1.43s\n",
      "INFO:linopy.constants: Optimization successful: \n",
      "Status: ok\n",
      "Termination condition: optimal\n",
      "Solution: 52566 primals, 113888 duals\n",
      "Objective: 1.85e+10\n",
      "Solver model: available\n",
      "Solver message: 2\n",
      "\n",
      "INFO:pypsa.optimization.optimize:The shadow-prices of the constraints Generator-ext-p-lower, Generator-ext-p-upper were not assigned to the network.\n",
      "WARNING:pypsa.consistency:The following buses have carriers which are not defined:\n",
      "Index(['GBR electricity bus'], dtype='object', name='Bus')\n",
      "WARNING:pypsa.consistency:The following loads have carriers which are not defined:\n",
      "Index(['GBR electricity load'], dtype='object', name='Load')\n",
      "INFO:linopy.model: Solve problem using Gurobi solver\n",
      "INFO:linopy.io:Writing objective.\n",
      "Writing constraints.: 100%|\u001b[38;2;128;191;255m██████████\u001b[0m| 7/7 [00:00<00:00,  7.99it/s]\n",
      "Writing continuous variables.: 100%|\u001b[38;2;128;191;255m██████████\u001b[0m| 2/2 [00:00<00:00, 16.88it/s]\n",
      "INFO:linopy.io: Writing time: 1.11s\n",
      "INFO:linopy.constants: Optimization successful: \n",
      "Status: ok\n",
      "Termination condition: optimal\n",
      "Solution: 52566 primals, 113888 duals\n",
      "Objective: 2.42e+10\n",
      "Solver model: available\n",
      "Solver message: 2\n",
      "\n",
      "INFO:pypsa.optimization.optimize:The shadow-prices of the constraints Generator-ext-p-lower, Generator-ext-p-upper were not assigned to the network.\n",
      "WARNING:pypsa.consistency:The following buses have carriers which are not defined:\n",
      "Index(['GBR electricity bus'], dtype='object', name='Bus')\n",
      "WARNING:pypsa.consistency:The following loads have carriers which are not defined:\n",
      "Index(['GBR electricity load'], dtype='object', name='Load')\n",
      "INFO:linopy.model: Solve problem using Gurobi solver\n",
      "INFO:linopy.io:Writing objective.\n",
      "Writing constraints.: 100%|\u001b[38;2;128;191;255m██████████\u001b[0m| 7/7 [00:00<00:00,  8.65it/s]\n",
      "Writing continuous variables.: 100%|\u001b[38;2;128;191;255m██████████\u001b[0m| 2/2 [00:00<00:00, 12.23it/s]\n",
      "INFO:linopy.io: Writing time: 1.08s\n",
      "INFO:linopy.constants: Optimization successful: \n",
      "Status: ok\n",
      "Termination condition: optimal\n",
      "Solution: 52566 primals, 113888 duals\n",
      "Objective: 3.01e+10\n",
      "Solver model: available\n",
      "Solver message: 2\n",
      "\n",
      "INFO:pypsa.optimization.optimize:The shadow-prices of the constraints Generator-ext-p-lower, Generator-ext-p-upper were not assigned to the network.\n"
     ]
    }
   ],
   "source": [
    "# The model is run multiple times with different CO2 constraints \n",
    "# corresponding to historical emissions and targets\n",
    "\n",
    "network_B = network.copy(network.snapshots)\n",
    "\n",
    "# Add the CO2 constraint:\n",
    "network_B.add(\n",
    "    \"GlobalConstraint\",\n",
    "    \"CO2Limit\",\n",
    "    carrier_attribute=\"co2_emissions\",\n",
    "    sense=\"<=\",\n",
    "    constant=10**10,\n",
    "    overwrite=True\n",
    ")\n",
    "\n",
    "CO2_limit_UK = round(406.2*0.14/0.27*0.02, 1)  # MtCO2 -- this is the limit used generally throughout the project\n",
    "\n",
    "# Define limits in MtCO2: numbers are for \"Electricity and heat producers\" from https://www.iea.org/countries/united-kingdom/emissions\n",
    "# Define limits in MtCO2: numbers include heat because they are for \"Energy and Utilities\" from https://klimaraadet.dk/da/klima-i-tal\n",
    "global_CO2_limits = [189,  # 2000\n",
    "                     68,   # 2022\n",
    "                     CO2_limit_UK,    # 98% reduction compared to 1990\n",
    "                     0]    # CO2-neutral\n",
    "\n",
    "# Run the model\n",
    "sensitivity_obj = {}\n",
    "sensitivity_emis = {}\n",
    "sensitivity_prod = {}\n",
    "sensitivity_caps = {}\n",
    "sensitivity_CO2price = {}\n",
    "sensitivity_obj_by_carr = {}\n",
    "sensitivity_curtailed = {}\n",
    "for co2_limit in global_CO2_limits:\n",
    "    network_B.global_constraints.loc[\"CO2Limit\", \"constant\"] = co2_limit * 1e6 # tCO2\n",
    "    network_B.optimize(solver_name='gurobi', solver_options={\"env\": env})\n",
    "    sensitivity_obj[co2_limit] = network_B.objective / 1e6 # € -> M€\n",
    "    sensitivity_emis[co2_limit] = (\n",
    "                                    network_B.generators_t.p\n",
    "                                    / network_B.generators.efficiency\n",
    "                                    * network_B.generators.carrier.map(network_B.carriers.co2_emissions)\n",
    "                                  ).T.groupby(\n",
    "                                      network_B.generators.carrier\n",
    "                                  ).sum().T.sum().div(1e6).sum()  # tCO2 -> MtCO2\n",
    "    sensitivity_prod[co2_limit] = [network_B.generators_t.p[tech].sum()\n",
    "                                   for tech in techs_labels]\n",
    "    sensitivity_caps[co2_limit] = network_B.generators.p_nom_opt.copy() # in MW\n",
    "    sensitivity_CO2price[co2_limit] = - network_B.global_constraints.mu.values[0] # in €/tCO2, '.values[0]' is simply formatting\n",
    "    sensitivity_obj_by_carr[co2_limit] = ( network_B.statistics.capex(groupby=\"carrier\").add(\n",
    "                                            network_B.statistics.opex(groupby=\"carrier\"), fill_value=0\n",
    "                                            )\n",
    "                                         ).div(1e6) # € -> M€\n",
    "    # curtailed solar and wind\n",
    "    sensitivity_curtailed[co2_limit] = [network_B.generators_t.p[tech].sum() / (network_B.generators.p_nom_opt[tech] * CF_sorted_dict[tech]).sum() for tech in techs_labels if tech in VRE_techs]"
   ]
  },
  {
   "cell_type": "code",
   "execution_count": null,
   "metadata": {},
   "outputs": [],
   "source": [
    "sensitivity_curtailed"
   ]
  },
  {
   "cell_type": "code",
   "execution_count": null,
   "metadata": {},
   "outputs": [],
   "source": [
    "\n",
    "# Plot the results:\n",
    "fig, ax = plt.subplots(2,2,figsize=(8,8))#, constrained_layout=True)\n",
    "ax = ax.flatten()\n",
    "\n",
    "for i,co2_limit in enumerate(global_CO2_limits):\n",
    "    sizes = sensitivity_prod[co2_limit]\n",
    "    ax[i].pie(sizes,\n",
    "            colors=techs_colors,\n",
    "            labels=techs_labels,\n",
    "            wedgeprops={'linewidth':0},\n",
    "            radius=15)\n",
    "    ax[i].axis('equal')\n",
    "\n",
    "    ax[i].set_title(f'Limit: {co2_limit:.1f} MtCO$_2$\\nEmissions: {sensitivity_emis[co2_limit]:.1f} MtCO$_2$\\nSystem costs: {sensitivity_obj[co2_limit]:.0f} M€\\nCO$_2$-tax: {sensitivity_CO2price[co2_limit]:.2f}'+' €/t$_{CO_2}$', y=1.1, fontsize=10)\n",
    "#plt.suptitle('Electricity mixes for different CO$_2$ limits')\n",
    "plt.tight_layout()\n",
    "plt.savefig('results/B/electricity_mix', dpi=500)\n"
   ]
  },
  {
   "cell_type": "code",
   "execution_count": null,
   "metadata": {},
   "outputs": [],
   "source": [
    "# Plot bars:\n",
    "xticks_spacing = 1.5\n",
    "x = np.arange(len(global_CO2_limits)) * xticks_spacing  # X positions\n",
    "width = 0.15  # Width of bars\n",
    "\n",
    "fig, ax = plt.subplots(figsize=(8, 4))\n",
    "\n",
    "for i,tech in enumerate(techs_labels):\n",
    "    ax.bar(x + i * width, [sensitivity_caps[co2_limit][tech]/1e3 for co2_limit in global_CO2_limits], width, color=techs_colors[i], label=tech)\n",
    "\n",
    "# Formatting:\n",
    "ax.set_xticks(x + width * (len(techs_labels) / 2 - 0.5))\n",
    "ax.set_xticklabels([f\"{limit:.1f}\" for limit in global_CO2_limits])\n",
    "ax.set_xlabel(\"CO$_2$ emissions [Mt]\")\n",
    "ax.set_ylabel(\"Power Capacity [GW]\")\n",
    "ax.set_title(\"Power Capacity by Generator Type\")\n",
    "ax.legend()\n",
    "plt.xticks(rotation=45)\n",
    "plt.tight_layout()\n",
    "\n",
    "plt.savefig('results/B/capacities', dpi=500)\n",
    "# Show plot\n",
    "plt.show()"
   ]
  },
  {
   "cell_type": "code",
   "execution_count": null,
   "metadata": {},
   "outputs": [],
   "source": [
    "df_sens_obj_by_carr = pd.DataFrame(sensitivity_obj_by_carr).T\n",
    "df_sens_obj_by_carr.columns = [carrier for comp, carrier in df_sens_obj_by_carr.columns]\n",
    "df_sens_obj_by_carr = df_sens_obj_by_carr.fillna(0)\n",
    "df_sens_obj_by_carr.index = df_sens_obj_by_carr.index.astype(str)\n",
    "ax = df_sens_obj_by_carr[carriers].iloc[::-1].plot.area(\n",
    "    stacked=True,\n",
    "    color=[network_B.carriers.color[carrier] for carrier in carriers],\n",
    "    figsize=(8,4),\n",
    "    )\n",
    "ax.set_xticks(range(len(global_CO2_limits)))\n",
    "#ax.set_xticks(df_sens_obj_by_carr.index)\n",
    "ax.set_xticklabels(np.round(list(sensitivity_emis.values()),1)[::-1])\n",
    "ax.invert_xaxis()\n",
    "ax.set_xlabel(\"CO$_2$ emissions [Mt]\")\n",
    "ax.set_ylabel(\"Costs [M€]\")\n",
    "#ax.set_title(\"Costs by Carrier\")\n",
    "ax.legend(title=\"Carrier\", loc='upper left', bbox_to_anchor=(1, 1), fancybox=True, shadow=True)\n",
    "plt.tight_layout()\n",
    "plt.savefig('results/B/costs_by_carrier', dpi=500)\n",
    "plt.show()"
   ]
  },
  {
   "cell_type": "markdown",
   "metadata": {},
   "source": [
    "Notice, that it is required to overinvest huge amounts of money in biomass capacity even though the amount of electricity is entirely unchanged from 189 to 0 Mt (as seen in the pie charts above)."
   ]
  },
  {
   "cell_type": "markdown",
   "metadata": {},
   "source": [
    "# C: Sensitivity to interannual variability of solar and wind generation\n",
    "\n",
    "### Investigate how sensitive your results are to the interannual variability of solar and wind generation. Plot the average capacity and variability obtained for every generator using different weather years."
   ]
  },
  {
   "cell_type": "code",
   "execution_count": 29,
   "metadata": {},
   "outputs": [
    {
     "name": "stdout",
     "output_type": "stream",
     "text": [
      "processing year 1979\n"
     ]
    },
    {
     "name": "stderr",
     "output_type": "stream",
     "text": [
      "WARNING:pypsa.consistency:The following buses have carriers which are not defined:\n",
      "Index(['GBR electricity bus'], dtype='object', name='Bus')\n",
      "WARNING:pypsa.consistency:The following loads have carriers which are not defined:\n",
      "Index(['GBR electricity load'], dtype='object', name='Load')\n",
      "INFO:linopy.model: Solve problem using Gurobi solver\n",
      "INFO:linopy.model:Solver options:\n",
      " - LogToConsole: 0\n",
      "INFO:linopy.io:Writing objective.\n",
      "Writing constraints.: 100%|\u001b[38;2;128;191;255m██████████\u001b[0m| 7/7 [00:00<00:00,  8.93it/s]\n",
      "Writing continuous variables.: 100%|\u001b[38;2;128;191;255m██████████\u001b[0m| 2/2 [00:00<00:00, 15.42it/s]\n",
      "INFO:linopy.io: Writing time: 1.03s\n"
     ]
    },
    {
     "name": "stdout",
     "output_type": "stream",
     "text": [
      "Set parameter Username\n"
     ]
    },
    {
     "name": "stderr",
     "output_type": "stream",
     "text": [
      "INFO:gurobipy:Set parameter Username\n"
     ]
    },
    {
     "name": "stdout",
     "output_type": "stream",
     "text": [
      "Academic license - for non-commercial use only - expires 2026-02-18\n"
     ]
    },
    {
     "name": "stderr",
     "output_type": "stream",
     "text": [
      "INFO:gurobipy:Academic license - for non-commercial use only - expires 2026-02-18\n"
     ]
    },
    {
     "name": "stdout",
     "output_type": "stream",
     "text": [
      "Read LP format model from file C:\\Users\\cwitt\\AppData\\Local\\Temp\\linopy-problem-2o_jak2i.lp\n"
     ]
    },
    {
     "name": "stderr",
     "output_type": "stream",
     "text": [
      "INFO:gurobipy:Read LP format model from file C:\\Users\\cwitt\\AppData\\Local\\Temp\\linopy-problem-2o_jak2i.lp\n"
     ]
    },
    {
     "name": "stdout",
     "output_type": "stream",
     "text": [
      "Reading time = 0.25 seconds\n"
     ]
    },
    {
     "name": "stderr",
     "output_type": "stream",
     "text": [
      "INFO:gurobipy:Reading time = 0.25 seconds\n"
     ]
    },
    {
     "name": "stdout",
     "output_type": "stream",
     "text": [
      "obj: 113888 rows, 52566 columns, 232273 nonzeros\n"
     ]
    },
    {
     "name": "stderr",
     "output_type": "stream",
     "text": [
      "INFO:gurobipy:obj: 113888 rows, 52566 columns, 232273 nonzeros\n"
     ]
    },
    {
     "name": "stdout",
     "output_type": "stream",
     "text": [
      "Set parameter LogToConsole to value 0\n"
     ]
    },
    {
     "name": "stderr",
     "output_type": "stream",
     "text": [
      "INFO:gurobipy:Set parameter LogToConsole to value 0\n",
      "INFO:gurobipy:Gurobi Optimizer version 12.0.1 build v12.0.1rc0 (win64 - Windows 11.0 (22631.2))\n",
      "INFO:gurobipy:\n",
      "INFO:gurobipy:CPU model: AMD Ryzen 7 5700U with Radeon Graphics, instruction set [SSE2|AVX|AVX2]\n",
      "INFO:gurobipy:Thread count: 8 physical cores, 16 logical processors, using up to 16 threads\n",
      "INFO:gurobipy:\n",
      "INFO:gurobipy:Non-default parameters:\n",
      "INFO:gurobipy:LogToConsole  0\n",
      "INFO:gurobipy:\n",
      "INFO:gurobipy:Optimize a model with 113888 rows, 52566 columns and 232273 nonzeros\n",
      "INFO:gurobipy:Model fingerprint: 0x1e11d1a3\n",
      "INFO:gurobipy:Coefficient statistics:\n",
      "INFO:gurobipy:  Matrix range     [1e-03, 3e+00]\n",
      "INFO:gurobipy:  Objective range  [9e+00, 7e+05]\n",
      "INFO:gurobipy:  Bounds range     [0e+00, 0e+00]\n",
      "INFO:gurobipy:  RHS range        [2e+04, 7e+07]\n",
      "INFO:gurobipy:Presolve removed 56819 rows and 4253 columns\n",
      "INFO:gurobipy:Presolve time: 0.12s\n",
      "INFO:gurobipy:Presolved: 57069 rows, 48313 columns, 171201 nonzeros\n",
      "INFO:gurobipy:\n",
      "INFO:gurobipy:Concurrent LP optimizer: primal simplex, dual simplex, and barrier\n",
      "INFO:gurobipy:Showing barrier log only...\n",
      "INFO:gurobipy:\n",
      "INFO:gurobipy:Ordering time: 0.01s\n",
      "INFO:gurobipy:\n",
      "INFO:gurobipy:Barrier statistics:\n",
      "INFO:gurobipy: Dense cols : 6\n",
      "INFO:gurobipy: AA' NZ     : 1.404e+05\n",
      "INFO:gurobipy: Factor NZ  : 6.466e+05 (roughly 50 MB of memory)\n",
      "INFO:gurobipy: Factor Ops : 7.557e+06 (less than 1 second per iteration)\n",
      "INFO:gurobipy: Threads    : 6\n",
      "INFO:gurobipy:\n",
      "INFO:gurobipy:                  Objective                Residual\n",
      "INFO:gurobipy:Iter       Primal          Dual         Primal    Dual     Compl     Time\n",
      "INFO:gurobipy:   0   2.10474145e+12  0.00000000e+00  9.72e+09 0.00e+00  1.07e+09     0s\n",
      "INFO:gurobipy:   1   2.29129901e+12 -5.26284553e+11  1.72e+09 1.79e+02  1.90e+08     0s\n",
      "INFO:gurobipy:   2   1.53190427e+12 -5.26521711e+11  7.35e+07 5.24e-10  1.78e+07     0s\n",
      "INFO:gurobipy:   3   1.60868103e+11 -1.39127484e+11  5.32e+06 4.67e-09  2.22e+06     0s\n",
      "INFO:gurobipy:   4   7.85325837e+10 -5.03658912e+10  2.07e+06 2.50e-09  9.19e+05     0s\n",
      "INFO:gurobipy:   5   5.70212356e+10 -3.63557548e+10  1.28e+06 8.59e-10  6.59e+05     0s\n",
      "INFO:gurobipy:   6   5.53197925e+10 -2.07535486e+10  1.21e+06 7.71e-10  5.36e+05     0s\n",
      "INFO:gurobipy:   7   4.30011434e+10 -1.28719983e+10  7.65e+05 1.30e-09  3.92e+05     1s\n",
      "INFO:gurobipy:   8   4.06983264e+10 -8.35961130e+09  6.72e+05 2.38e-10  3.43e+05     1s\n",
      "INFO:gurobipy:   9   3.67172286e+10  2.24538145e+09  5.07e+05 4.78e-10  2.41e+05     1s\n",
      "INFO:gurobipy:  10   3.30004700e+10  5.51862148e+09  3.85e+05 3.87e-10  1.91e+05     1s\n",
      "INFO:gurobipy:  11   3.11927383e+10  8.43152996e+09  3.09e+05 3.97e-10  1.58e+05     1s\n",
      "INFO:gurobipy:  12   3.05124333e+10  1.03071044e+10  2.80e+05 3.53e-10  1.41e+05     1s\n",
      "INFO:gurobipy:  13   2.97822368e+10  1.19672673e+10  2.51e+05 4.18e-10  1.24e+05     1s\n",
      "INFO:gurobipy:  14   2.90778256e+10  1.37774426e+10  2.23e+05 2.64e-10  1.06e+05     1s\n",
      "INFO:gurobipy:  15   2.84021269e+10  1.58445538e+10  1.91e+05 3.33e-10  8.73e+04     1s\n",
      "INFO:gurobipy:  16   2.64616495e+10  1.86641258e+10  1.12e+05 6.98e-10  5.41e+04     1s\n",
      "INFO:gurobipy:  17   2.58256040e+10  2.02431690e+10  8.74e+04 7.88e-10  3.88e+04     1s\n",
      "INFO:gurobipy:  18   2.52409267e+10  2.07707419e+10  6.55e+04 3.04e-10  3.10e+04     1s\n",
      "INFO:gurobipy:  19   2.51599924e+10  2.12890616e+10  6.26e+04 6.41e-10  2.69e+04     1s\n",
      "INFO:gurobipy:  20   2.45833561e+10  2.17554262e+10  4.14e+04 7.25e-10  1.96e+04     1s\n",
      "INFO:gurobipy:  21   2.44889979e+10  2.21200965e+10  3.85e+04 2.92e-10  1.64e+04     1s\n",
      "INFO:gurobipy:  22   2.43078313e+10  2.26161327e+10  3.19e+04 3.77e-10  1.17e+04     1s\n",
      "INFO:gurobipy:  23   2.41487786e+10  2.29315567e+10  2.67e+04 1.01e-09  8.46e+03     1s\n",
      "INFO:gurobipy:  24   2.37673522e+10  2.30420273e+10  1.33e+04 1.48e-09  5.03e+03     1s\n",
      "INFO:gurobipy:  25   2.36817516e+10  2.31414836e+10  1.02e+04 3.41e-09  3.75e+03     1s\n",
      "INFO:gurobipy:  26   2.35602861e+10  2.32454360e+10  5.96e+03 5.44e-09  2.19e+03     1s\n",
      "INFO:gurobipy:  27   2.34893980e+10  2.32889207e+10  3.51e+03 5.22e-09  1.39e+03     1s\n",
      "INFO:gurobipy:  28   2.34590176e+10  2.33032627e+10  2.48e+03 5.41e-09  1.08e+03     2s\n",
      "INFO:gurobipy:  29   2.34337198e+10  2.33142004e+10  1.63e+03 5.40e-09  8.28e+02     2s\n",
      "INFO:gurobipy:  30   2.34065917e+10  2.33289964e+10  6.89e+02 4.59e-09  5.37e+02     2s\n",
      "INFO:gurobipy:  31   2.33995450e+10  2.33544550e+10  4.72e+02 3.35e-09  3.12e+02     2s\n",
      "INFO:gurobipy:  32   2.33962528e+10  2.33562136e+10  3.75e+02 3.26e-09  2.77e+02     2s\n",
      "INFO:gurobipy:  33   2.33922196e+10  2.33650530e+10  2.55e+02 2.76e-09  1.88e+02     2s\n",
      "INFO:gurobipy:  34   2.33877221e+10  2.33675669e+10  1.10e+02 1.98e-09  1.39e+02     2s\n",
      "INFO:gurobipy:  35   2.33866344e+10  2.33731154e+10  8.07e+01 1.26e-09  9.35e+01     2s\n",
      "INFO:gurobipy:  36   2.33854641e+10  2.33751896e+10  4.75e+01 9.28e-10  7.10e+01     2s\n",
      "INFO:gurobipy:  37   2.33847732e+10  2.33773886e+10  2.86e+01 1.07e-09  5.10e+01     2s\n",
      "INFO:gurobipy:  38   2.33844885e+10  2.33790037e+10  2.12e+01 1.10e-09  3.79e+01     2s\n",
      "INFO:gurobipy:  39   2.33842819e+10  2.33792228e+10  1.63e+01 7.33e-10  3.49e+01     2s\n",
      "INFO:gurobipy:  40   2.33841645e+10  2.33793913e+10  1.35e+01 6.84e-10  3.30e+01     2s\n",
      "INFO:gurobipy:  41   2.33840585e+10  2.33799369e+10  1.07e+01 1.21e-09  2.85e+01     2s\n",
      "INFO:gurobipy:  42   2.33838988e+10  2.33813313e+10  6.66e+00 6.08e-09  1.77e+01     2s\n",
      "INFO:gurobipy:  43   2.33837567e+10  2.33817060e+10  3.52e+00 4.89e-09  1.42e+01     2s\n",
      "INFO:gurobipy:  44   2.33837098e+10  2.33820590e+10  2.24e+00 2.22e-09  1.14e+01     2s\n",
      "INFO:gurobipy:  45   2.33836085e+10  2.33827439e+10  3.40e-02 9.19e-10  5.97e+00     2s\n",
      "INFO:gurobipy:  46   2.33836056e+10  2.33829276e+10  2.56e-02 9.14e-09  4.68e+00     2s\n",
      "INFO:gurobipy:  47   2.33836019e+10  2.33831362e+10  1.31e-02 3.99e-09  3.21e+00     2s\n",
      "INFO:gurobipy:  48   2.33836039e+10  2.33832729e+10  3.96e-06 2.83e-09  2.28e+00     2s\n",
      "INFO:gurobipy:  49   2.33836019e+10  2.33832836e+10  3.65e-06 2.69e-09  2.20e+00     2s\n",
      "INFO:gurobipy:  50   2.33835990e+10  2.33834376e+10  3.13e-06 4.02e-09  1.11e+00     2s\n",
      "INFO:gurobipy:  51   2.33835978e+10  2.33835956e+10  4.27e-07 4.52e-10  1.49e-02     2s\n",
      "INFO:gurobipy:  52   2.33835966e+10  2.33835965e+10  2.91e-08 2.97e-10  6.82e-04     2s\n",
      "INFO:gurobipy:  53   2.33835965e+10  2.33835965e+10  2.47e-10 4.59e-10  2.03e-05     3s\n",
      "INFO:gurobipy:  54   2.33835965e+10  2.33835965e+10  8.73e-11 3.44e-09  3.06e-07     3s\n",
      "INFO:gurobipy:  55   2.33835965e+10  2.33835965e+10  2.66e-06 1.36e-08  3.06e-10     3s\n",
      "INFO:gurobipy:\n",
      "INFO:gurobipy:Barrier solved model in 55 iterations and 2.59 seconds (1.19 work units)\n",
      "INFO:gurobipy:Optimal objective 2.33835965e+10\n",
      "INFO:gurobipy:\n",
      "INFO:gurobipy:Crossover log...\n",
      "INFO:gurobipy:\n",
      "INFO:gurobipy:    8770 DPushes remaining with DInf 0.0000000e+00                 3s\n",
      "INFO:gurobipy:       0 DPushes remaining with DInf 0.0000000e+00                 3s\n",
      "INFO:gurobipy:Warning: Markowitz tolerance tightened to 0.5\n",
      "INFO:gurobipy:\n",
      "INFO:gurobipy:    1151 PPushes remaining with PInf 0.0000000e+00                 3s\n",
      "INFO:gurobipy:       0 PPushes remaining with PInf 0.0000000e+00                 3s\n",
      "INFO:gurobipy:\n",
      "INFO:gurobipy:  Push phase complete: Pinf 0.0000000e+00, Dinf 5.7469187e-08      3s\n",
      "INFO:gurobipy:\n",
      "INFO:gurobipy:\n",
      "INFO:gurobipy:Solved with barrier\n",
      "INFO:gurobipy:Extra simplex iterations after uncrush: 1\n",
      "INFO:gurobipy:Iteration    Objective       Primal Inf.    Dual Inf.      Time\n",
      "INFO:gurobipy:    1166    2.3383597e+10   0.000000e+00   0.000000e+00      3s\n",
      "INFO:gurobipy:\n",
      "INFO:gurobipy:Solved in 1166 iterations and 3.18 seconds (2.54 work units)\n",
      "INFO:gurobipy:Optimal objective  2.338359651e+10\n",
      "INFO:linopy.constants: Optimization successful: \n",
      "Status: ok\n",
      "Termination condition: optimal\n",
      "Solution: 52566 primals, 113888 duals\n",
      "Objective: 2.34e+10\n",
      "Solver model: available\n",
      "Solver message: 2\n",
      "\n",
      "INFO:pypsa.optimization.optimize:The shadow-prices of the constraints Generator-ext-p-lower, Generator-ext-p-upper were not assigned to the network.\n"
     ]
    },
    {
     "name": "stdout",
     "output_type": "stream",
     "text": [
      "Solved for year 1979, objective = 23.38 billion EUR\n",
      "processing year 1984\n"
     ]
    },
    {
     "name": "stderr",
     "output_type": "stream",
     "text": [
      "WARNING:pypsa.consistency:The following buses have carriers which are not defined:\n",
      "Index(['GBR electricity bus'], dtype='object', name='Bus')\n",
      "WARNING:pypsa.consistency:The following loads have carriers which are not defined:\n",
      "Index(['GBR electricity load'], dtype='object', name='Load')\n",
      "INFO:linopy.model: Solve problem using Gurobi solver\n",
      "INFO:linopy.model:Solver options:\n",
      " - LogToConsole: 0\n",
      "INFO:linopy.io:Writing objective.\n",
      "Writing constraints.: 100%|\u001b[38;2;128;191;255m██████████\u001b[0m| 7/7 [00:00<00:00,  7.81it/s]\n",
      "Writing continuous variables.: 100%|\u001b[38;2;128;191;255m██████████\u001b[0m| 2/2 [00:00<00:00, 18.21it/s]\n",
      "INFO:linopy.io: Writing time: 1.14s\n"
     ]
    },
    {
     "name": "stdout",
     "output_type": "stream",
     "text": [
      "Set parameter Username\n"
     ]
    },
    {
     "name": "stderr",
     "output_type": "stream",
     "text": [
      "INFO:gurobipy:Set parameter Username\n"
     ]
    },
    {
     "name": "stdout",
     "output_type": "stream",
     "text": [
      "Academic license - for non-commercial use only - expires 2026-02-18\n"
     ]
    },
    {
     "name": "stderr",
     "output_type": "stream",
     "text": [
      "INFO:gurobipy:Academic license - for non-commercial use only - expires 2026-02-18\n"
     ]
    },
    {
     "name": "stdout",
     "output_type": "stream",
     "text": [
      "Read LP format model from file C:\\Users\\cwitt\\AppData\\Local\\Temp\\linopy-problem-83lr2axf.lp\n"
     ]
    },
    {
     "name": "stderr",
     "output_type": "stream",
     "text": [
      "INFO:gurobipy:Read LP format model from file C:\\Users\\cwitt\\AppData\\Local\\Temp\\linopy-problem-83lr2axf.lp\n"
     ]
    },
    {
     "name": "stdout",
     "output_type": "stream",
     "text": [
      "Reading time = 0.27 seconds\n"
     ]
    },
    {
     "name": "stderr",
     "output_type": "stream",
     "text": [
      "INFO:gurobipy:Reading time = 0.27 seconds\n"
     ]
    },
    {
     "name": "stdout",
     "output_type": "stream",
     "text": [
      "obj: 113888 rows, 52566 columns, 232282 nonzeros\n"
     ]
    },
    {
     "name": "stderr",
     "output_type": "stream",
     "text": [
      "INFO:gurobipy:obj: 113888 rows, 52566 columns, 232282 nonzeros\n"
     ]
    },
    {
     "name": "stdout",
     "output_type": "stream",
     "text": [
      "Set parameter LogToConsole to value 0\n"
     ]
    },
    {
     "name": "stderr",
     "output_type": "stream",
     "text": [
      "INFO:gurobipy:Set parameter LogToConsole to value 0\n",
      "INFO:gurobipy:Gurobi Optimizer version 12.0.1 build v12.0.1rc0 (win64 - Windows 11.0 (22631.2))\n",
      "INFO:gurobipy:\n",
      "INFO:gurobipy:CPU model: AMD Ryzen 7 5700U with Radeon Graphics, instruction set [SSE2|AVX|AVX2]\n",
      "INFO:gurobipy:Thread count: 8 physical cores, 16 logical processors, using up to 16 threads\n",
      "INFO:gurobipy:\n",
      "INFO:gurobipy:Non-default parameters:\n",
      "INFO:gurobipy:LogToConsole  0\n",
      "INFO:gurobipy:\n",
      "INFO:gurobipy:Optimize a model with 113888 rows, 52566 columns and 232282 nonzeros\n",
      "INFO:gurobipy:Model fingerprint: 0xf6a50c00\n",
      "INFO:gurobipy:Coefficient statistics:\n",
      "INFO:gurobipy:  Matrix range     [1e-03, 3e+00]\n",
      "INFO:gurobipy:  Objective range  [9e+00, 7e+05]\n",
      "INFO:gurobipy:  Bounds range     [0e+00, 0e+00]\n",
      "INFO:gurobipy:  RHS range        [2e+04, 7e+07]\n",
      "INFO:gurobipy:Presolve removed 56810 rows and 4244 columns\n",
      "INFO:gurobipy:Presolve time: 0.13s\n",
      "INFO:gurobipy:Presolved: 57078 rows, 48322 columns, 171228 nonzeros\n",
      "INFO:gurobipy:\n",
      "INFO:gurobipy:Concurrent LP optimizer: primal simplex, dual simplex, and barrier\n",
      "INFO:gurobipy:Showing barrier log only...\n",
      "INFO:gurobipy:\n",
      "INFO:gurobipy:Ordering time: 0.01s\n",
      "INFO:gurobipy:\n",
      "INFO:gurobipy:Barrier statistics:\n",
      "INFO:gurobipy: Dense cols : 6\n",
      "INFO:gurobipy: AA' NZ     : 1.404e+05\n",
      "INFO:gurobipy: Factor NZ  : 6.468e+05 (roughly 50 MB of memory)\n",
      "INFO:gurobipy: Factor Ops : 7.561e+06 (less than 1 second per iteration)\n",
      "INFO:gurobipy: Threads    : 6\n",
      "INFO:gurobipy:\n",
      "INFO:gurobipy:                  Objective                Residual\n",
      "INFO:gurobipy:Iter       Primal          Dual         Primal    Dual     Compl     Time\n",
      "INFO:gurobipy:   0   2.13768307e+12  0.00000000e+00  9.87e+09 0.00e+00  1.08e+09     0s\n",
      "INFO:gurobipy:   1   2.35014543e+12 -5.21936299e+11  1.73e+09 1.98e+02  2.00e+08     0s\n",
      "INFO:gurobipy:   2   1.63777747e+12 -5.34307379e+11  1.03e+08 1.35e-09  2.00e+07     0s\n",
      "INFO:gurobipy:   3   1.79397381e+11 -1.68352000e+11  7.80e+06 5.02e-10  2.64e+06     0s\n",
      "INFO:gurobipy:   4   9.09216316e+10 -3.43231012e+10  3.27e+06 6.71e-10  9.06e+05     0s\n",
      "INFO:gurobipy:   5   6.05992186e+10 -2.51661716e+10  1.85e+06 6.98e-10  6.12e+05     0s\n",
      "INFO:gurobipy:   6   5.75300412e+10 -1.24940025e+10  1.70e+06 3.78e-10  4.98e+05     1s\n",
      "INFO:gurobipy:   7   5.29437607e+10 -8.31901386e+09  1.51e+06 8.48e-10  4.34e+05     1s\n",
      "INFO:gurobipy:   8   4.88415953e+10 -6.76979338e+09  1.32e+06 2.30e-11  3.94e+05     1s\n",
      "INFO:gurobipy:   9   4.08525225e+10  1.38139392e+09  9.26e+05 2.31e-10  2.78e+05     1s\n",
      "INFO:gurobipy:  10   3.57456143e+10  7.62492711e+09  6.64e+05 6.48e-10  1.97e+05     1s\n",
      "INFO:gurobipy:  11   3.34533250e+10  1.19771686e+10  5.39e+05 4.33e-10  1.50e+05     1s\n",
      "INFO:gurobipy:  12   3.29373183e+10  1.25569688e+10  5.09e+05 5.07e-10  1.43e+05     1s\n",
      "INFO:gurobipy:  13   3.18918539e+10  1.57490533e+10  4.55e+05 4.82e-10  1.13e+05     1s\n",
      "INFO:gurobipy:  14   3.04347920e+10  1.74845936e+10  3.80e+05 2.83e-10  9.05e+04     1s\n",
      "INFO:gurobipy:  15   2.96703763e+10  1.82763337e+10  3.39e+05 4.68e-10  7.96e+04     1s\n",
      "INFO:gurobipy:  16   2.79839719e+10  2.05637145e+10  2.30e+05 6.77e-10  5.18e+04     1s\n",
      "INFO:gurobipy:  17   2.67761024e+10  2.10916043e+10  1.60e+05 2.46e-10  3.96e+04     1s\n",
      "INFO:gurobipy:  18   2.62778879e+10  2.20899594e+10  1.31e+05 5.81e-10  2.92e+04     1s\n",
      "INFO:gurobipy:  19   2.58703079e+10  2.27144555e+10  1.05e+05 8.57e-10  2.20e+04     1s\n",
      "INFO:gurobipy:  20   2.55280689e+10  2.32736329e+10  8.47e+04 1.74e-10  1.57e+04     1s\n",
      "INFO:gurobipy:  21   2.49876873e+10  2.36281417e+10  5.06e+04 4.58e-10  9.49e+03     1s\n",
      "INFO:gurobipy:  22   2.47268462e+10  2.37052483e+10  3.46e+04 3.95e-10  7.12e+03     1s\n",
      "INFO:gurobipy:  23   2.46058397e+10  2.37963234e+10  2.70e+04 9.92e-10  5.64e+03     1s\n",
      "INFO:gurobipy:  24   2.44550682e+10  2.39176071e+10  1.79e+04 2.77e-09  3.74e+03     1s\n",
      "INFO:gurobipy:  25   2.43552152e+10  2.39857339e+10  1.19e+04 2.55e-09  2.57e+03     1s\n",
      "INFO:gurobipy:  26   2.42852550e+10  2.40385724e+10  7.77e+03 2.42e-09  1.72e+03     1s\n",
      "INFO:gurobipy:  27   2.42420785e+10  2.40687475e+10  5.22e+03 2.22e-09  1.21e+03     1s\n",
      "INFO:gurobipy:  28   2.42321131e+10  2.40852095e+10  4.62e+03 3.02e-09  1.02e+03     1s\n",
      "INFO:gurobipy:  29   2.42156825e+10  2.41064717e+10  3.67e+03 3.93e-09  7.61e+02     1s\n",
      "INFO:gurobipy:  30   2.41890254e+10  2.41231688e+10  2.15e+03 2.92e-09  4.59e+02     1s\n",
      "INFO:gurobipy:  31   2.41745667e+10  2.41313809e+10  1.33e+03 2.21e-09  3.01e+02     2s\n",
      "INFO:gurobipy:  32   2.41644648e+10  2.41368990e+10  7.64e+02 2.59e-09  1.92e+02     2s\n",
      "INFO:gurobipy:  33   2.41596048e+10  2.41398552e+10  4.94e+02 4.77e-09  1.37e+02     2s\n",
      "INFO:gurobipy:  34   2.41581760e+10  2.41415053e+10  4.14e+02 4.45e-09  1.16e+02     2s\n",
      "INFO:gurobipy:  35   2.41578656e+10  2.41443185e+10  3.96e+02 1.35e-09  9.42e+01     2s\n",
      "INFO:gurobipy:  36   2.41533571e+10  2.41451681e+10  1.55e+02 1.17e-09  5.68e+01     2s\n",
      "INFO:gurobipy:  37   2.41511967e+10  2.41475051e+10  4.06e+01 9.53e-10  2.55e+01     2s\n",
      "INFO:gurobipy:  38   2.41506550e+10  2.41485878e+10  1.26e+01 9.86e-10  1.43e+01     2s\n",
      "INFO:gurobipy:  39   2.41504118e+10  2.41493977e+10  1.79e+00 1.90e-09  7.00e+00     2s\n",
      "INFO:gurobipy:  40   2.41503950e+10  2.41495356e+10  9.06e-01 1.61e-09  5.93e+00     2s\n",
      "INFO:gurobipy:  41   2.41503808e+10  2.41499768e+10  5.66e-01 3.17e-09  2.79e+00     2s\n",
      "INFO:gurobipy:  42   2.41503517e+10  2.41501972e+10  1.91e-02 4.64e-10  1.07e+00     2s\n",
      "INFO:gurobipy:  43   2.41503483e+10  2.41502098e+10  2.40e-03 4.22e-08  9.55e-01     2s\n",
      "INFO:gurobipy:  44   2.41503478e+10  2.41503417e+10  7.58e-05 4.04e-05  4.23e-02     2s\n",
      "INFO:gurobipy:  45   2.41503476e+10  2.41503476e+10  3.22e-06 1.48e-08  5.31e-05     2s\n",
      "INFO:gurobipy:  46   2.41503476e+10  2.41503476e+10  6.98e-10 8.35e-09  5.31e-08     2s\n",
      "INFO:gurobipy:  47   2.41503476e+10  2.41503476e+10  2.34e-06 6.00e-09  5.32e-14     2s\n",
      "INFO:gurobipy:\n",
      "INFO:gurobipy:Barrier solved model in 47 iterations and 2.16 seconds (1.01 work units)\n",
      "INFO:gurobipy:Optimal objective 2.41503476e+10\n",
      "INFO:gurobipy:\n",
      "INFO:gurobipy:Crossover log...\n",
      "INFO:gurobipy:\n",
      "INFO:gurobipy:    8775 DPushes remaining with DInf 0.0000000e+00                 2s\n",
      "INFO:gurobipy:       0 DPushes remaining with DInf 0.0000000e+00                 2s\n",
      "INFO:gurobipy:Warning: Markowitz tolerance tightened to 0.5\n",
      "INFO:gurobipy:\n",
      "INFO:gurobipy:     717 PPushes remaining with PInf 0.0000000e+00                 2s\n",
      "INFO:gurobipy:       0 PPushes remaining with PInf 0.0000000e+00                 2s\n",
      "INFO:gurobipy:\n",
      "INFO:gurobipy:  Push phase complete: Pinf 0.0000000e+00, Dinf 5.2200605e-08      2s\n",
      "INFO:gurobipy:\n",
      "INFO:gurobipy:\n",
      "INFO:gurobipy:Solved with barrier\n",
      "INFO:gurobipy:Iteration    Objective       Primal Inf.    Dual Inf.      Time\n",
      "INFO:gurobipy:     736    2.4150348e+10   0.000000e+00   0.000000e+00      3s\n",
      "INFO:gurobipy:\n",
      "INFO:gurobipy:Solved in 736 iterations and 2.69 seconds (2.08 work units)\n",
      "INFO:gurobipy:Optimal objective  2.415034758e+10\n",
      "INFO:linopy.constants: Optimization successful: \n",
      "Status: ok\n",
      "Termination condition: optimal\n",
      "Solution: 52566 primals, 113888 duals\n",
      "Objective: 2.42e+10\n",
      "Solver model: available\n",
      "Solver message: 2\n",
      "\n",
      "INFO:pypsa.optimization.optimize:The shadow-prices of the constraints Generator-ext-p-lower, Generator-ext-p-upper were not assigned to the network.\n"
     ]
    },
    {
     "name": "stdout",
     "output_type": "stream",
     "text": [
      "Solved for year 1984, objective = 24.15 billion EUR\n",
      "processing year 1989\n"
     ]
    },
    {
     "name": "stderr",
     "output_type": "stream",
     "text": [
      "WARNING:pypsa.consistency:The following buses have carriers which are not defined:\n",
      "Index(['GBR electricity bus'], dtype='object', name='Bus')\n",
      "WARNING:pypsa.consistency:The following loads have carriers which are not defined:\n",
      "Index(['GBR electricity load'], dtype='object', name='Load')\n",
      "INFO:linopy.model: Solve problem using Gurobi solver\n",
      "INFO:linopy.model:Solver options:\n",
      " - LogToConsole: 0\n",
      "INFO:linopy.io:Writing objective.\n",
      "Writing constraints.: 100%|\u001b[38;2;128;191;255m██████████\u001b[0m| 7/7 [00:00<00:00,  7.12it/s]\n",
      "Writing continuous variables.: 100%|\u001b[38;2;128;191;255m██████████\u001b[0m| 2/2 [00:00<00:00, 11.02it/s]\n",
      "INFO:linopy.io: Writing time: 1.29s\n"
     ]
    },
    {
     "name": "stdout",
     "output_type": "stream",
     "text": [
      "Set parameter Username\n"
     ]
    },
    {
     "name": "stderr",
     "output_type": "stream",
     "text": [
      "INFO:gurobipy:Set parameter Username\n"
     ]
    },
    {
     "name": "stdout",
     "output_type": "stream",
     "text": [
      "Academic license - for non-commercial use only - expires 2026-02-18\n"
     ]
    },
    {
     "name": "stderr",
     "output_type": "stream",
     "text": [
      "INFO:gurobipy:Academic license - for non-commercial use only - expires 2026-02-18\n"
     ]
    },
    {
     "name": "stdout",
     "output_type": "stream",
     "text": [
      "Read LP format model from file C:\\Users\\cwitt\\AppData\\Local\\Temp\\linopy-problem-w6e6ba3z.lp\n"
     ]
    },
    {
     "name": "stderr",
     "output_type": "stream",
     "text": [
      "INFO:gurobipy:Read LP format model from file C:\\Users\\cwitt\\AppData\\Local\\Temp\\linopy-problem-w6e6ba3z.lp\n"
     ]
    },
    {
     "name": "stdout",
     "output_type": "stream",
     "text": [
      "Reading time = 0.29 seconds\n"
     ]
    },
    {
     "name": "stderr",
     "output_type": "stream",
     "text": [
      "INFO:gurobipy:Reading time = 0.29 seconds\n"
     ]
    },
    {
     "name": "stdout",
     "output_type": "stream",
     "text": [
      "obj: 113888 rows, 52566 columns, 232271 nonzeros\n"
     ]
    },
    {
     "name": "stderr",
     "output_type": "stream",
     "text": [
      "INFO:gurobipy:obj: 113888 rows, 52566 columns, 232271 nonzeros\n"
     ]
    },
    {
     "name": "stdout",
     "output_type": "stream",
     "text": [
      "Set parameter LogToConsole to value 0\n"
     ]
    },
    {
     "name": "stderr",
     "output_type": "stream",
     "text": [
      "INFO:gurobipy:Set parameter LogToConsole to value 0\n",
      "INFO:gurobipy:Gurobi Optimizer version 12.0.1 build v12.0.1rc0 (win64 - Windows 11.0 (22631.2))\n",
      "INFO:gurobipy:\n",
      "INFO:gurobipy:CPU model: AMD Ryzen 7 5700U with Radeon Graphics, instruction set [SSE2|AVX|AVX2]\n",
      "INFO:gurobipy:Thread count: 8 physical cores, 16 logical processors, using up to 16 threads\n",
      "INFO:gurobipy:\n",
      "INFO:gurobipy:Non-default parameters:\n",
      "INFO:gurobipy:LogToConsole  0\n",
      "INFO:gurobipy:\n",
      "INFO:gurobipy:Optimize a model with 113888 rows, 52566 columns and 232271 nonzeros\n",
      "INFO:gurobipy:Model fingerprint: 0xf3c434b8\n",
      "INFO:gurobipy:Coefficient statistics:\n",
      "INFO:gurobipy:  Matrix range     [1e-03, 3e+00]\n",
      "INFO:gurobipy:  Objective range  [9e+00, 7e+05]\n",
      "INFO:gurobipy:  Bounds range     [0e+00, 0e+00]\n",
      "INFO:gurobipy:  RHS range        [2e+04, 7e+07]\n",
      "INFO:gurobipy:Presolve removed 56821 rows and 4255 columns\n",
      "INFO:gurobipy:Presolve time: 0.13s\n",
      "INFO:gurobipy:Presolved: 57067 rows, 48311 columns, 171195 nonzeros\n",
      "INFO:gurobipy:\n",
      "INFO:gurobipy:Concurrent LP optimizer: primal simplex, dual simplex, and barrier\n",
      "INFO:gurobipy:Showing barrier log only...\n",
      "INFO:gurobipy:\n",
      "INFO:gurobipy:Ordering time: 0.01s\n",
      "INFO:gurobipy:\n",
      "INFO:gurobipy:Barrier statistics:\n",
      "INFO:gurobipy: Dense cols : 6\n",
      "INFO:gurobipy: AA' NZ     : 1.404e+05\n",
      "INFO:gurobipy: Factor NZ  : 6.465e+05 (roughly 50 MB of memory)\n",
      "INFO:gurobipy: Factor Ops : 7.557e+06 (less than 1 second per iteration)\n",
      "INFO:gurobipy: Threads    : 6\n",
      "INFO:gurobipy:\n",
      "INFO:gurobipy:                  Objective                Residual\n",
      "INFO:gurobipy:Iter       Primal          Dual         Primal    Dual     Compl     Time\n",
      "INFO:gurobipy:   0   2.57652517e+12  0.00000000e+00  1.33e+10 0.00e+00  1.39e+09     0s\n",
      "INFO:gurobipy:   1   2.90141801e+12 -4.53773658e+11  2.36e+09 3.03e+02  3.27e+08     0s\n",
      "INFO:gurobipy:   2   2.18884815e+12 -5.55508277e+11  6.33e+07 2.68e-09  2.20e+07     0s\n",
      "INFO:gurobipy:   3   3.08954258e+11 -1.50636719e+11  7.19e+06 2.02e-09  3.38e+06     0s\n",
      "INFO:gurobipy:   4   1.20947205e+11 -7.67339185e+10  2.36e+06 1.59e-09  1.41e+06     0s\n",
      "INFO:gurobipy:   5   7.86691709e+10 -2.52773622e+10  1.36e+06 5.53e-10  7.30e+05     0s\n",
      "INFO:gurobipy:   6   5.70423277e+10 -1.92195166e+10  8.67e+05 3.20e-10  5.34e+05     0s\n",
      "INFO:gurobipy:   7   4.70275029e+10 -6.55529708e+08  6.20e+05 3.89e-10  3.32e+05     1s\n",
      "INFO:gurobipy:   8   4.62318059e+10 -4.12299570e+08  6.02e+05 4.47e-10  3.25e+05     1s\n",
      "INFO:gurobipy:   9   4.19449841e+10  1.86647272e+08  5.05e+05 4.02e-10  2.91e+05     1s\n",
      "INFO:gurobipy:  10   3.41254090e+10  6.49822196e+09  3.02e+05 6.26e-10  1.92e+05     1s\n",
      "INFO:gurobipy:  11   3.17051289e+10  1.03399916e+10  2.39e+05 1.34e-09  1.48e+05     1s\n",
      "INFO:gurobipy:  12   2.92144711e+10  1.22970033e+10  1.72e+05 1.15e-09  1.17e+05     1s\n",
      "INFO:gurobipy:  13   2.85208720e+10  1.32925980e+10  1.55e+05 1.21e-09  1.06e+05     1s\n",
      "INFO:gurobipy:  14   2.81609981e+10  1.40456053e+10  1.44e+05 1.87e-10  9.79e+04     1s\n",
      "INFO:gurobipy:  15   2.77694939e+10  1.58220919e+10  1.34e+05 8.75e-10  8.28e+04     1s\n",
      "INFO:gurobipy:  16   2.70996112e+10  1.71141770e+10  1.12e+05 4.22e-10  6.92e+04     1s\n",
      "INFO:gurobipy:  17   2.55211706e+10  1.79366307e+10  6.37e+04 2.71e-10  5.25e+04     1s\n",
      "INFO:gurobipy:  18   2.48125908e+10  1.95983952e+10  4.17e+04 3.00e-10  3.61e+04     1s\n",
      "INFO:gurobipy:  19   2.43461000e+10  2.01173025e+10  2.77e+04 1.67e-10  2.92e+04     1s\n",
      "INFO:gurobipy:  20   2.40028683e+10  2.10381118e+10  1.75e+04 4.63e-10  2.05e+04     1s\n",
      "INFO:gurobipy:  21   2.38192349e+10  2.17114775e+10  1.27e+04 3.73e-10  1.46e+04     1s\n",
      "INFO:gurobipy:  22   2.37509594e+10  2.22431931e+10  1.09e+04 5.64e-11  1.04e+04     1s\n",
      "INFO:gurobipy:  23   2.36179886e+10  2.25555159e+10  7.60e+03 5.32e-11  7.35e+03     1s\n",
      "INFO:gurobipy:  24   2.35515510e+10  2.26227391e+10  5.98e+03 8.83e-10  6.42e+03     1s\n",
      "INFO:gurobipy:  25   2.34746971e+10  2.28079198e+10  4.12e+03 3.11e-09  4.61e+03     1s\n",
      "INFO:gurobipy:  26   2.34365825e+10  2.28810828e+10  3.20e+03 3.19e-09  3.84e+03     1s\n",
      "INFO:gurobipy:  27   2.34046224e+10  2.30263511e+10  2.46e+03 2.75e-09  2.62e+03     1s\n",
      "INFO:gurobipy:  28   2.33653013e+10  2.30646797e+10  1.53e+03 3.13e-09  2.08e+03     2s\n",
      "INFO:gurobipy:  29   2.33544783e+10  2.30866986e+10  1.28e+03 3.42e-09  1.85e+03     2s\n",
      "INFO:gurobipy:  30   2.33380630e+10  2.31635520e+10  9.11e+02 6.02e-09  1.21e+03     2s\n",
      "INFO:gurobipy:  31   2.33203947e+10  2.31913449e+10  5.20e+02 4.69e-09  8.92e+02     2s\n",
      "INFO:gurobipy:  32   2.33103141e+10  2.32234774e+10  3.04e+02 5.67e-09  6.00e+02     2s\n",
      "INFO:gurobipy:  33   2.33054760e+10  2.32461939e+10  2.06e+02 8.94e-09  4.10e+02     2s\n",
      "INFO:gurobipy:  34   2.33023982e+10  2.32537974e+10  1.44e+02 4.73e-09  3.36e+02     2s\n",
      "INFO:gurobipy:  35   2.33014194e+10  2.32554721e+10  1.26e+02 4.11e-09  3.17e+02     2s\n",
      "INFO:gurobipy:  36   2.32994853e+10  2.32697036e+10  8.87e+01 1.10e-08  2.06e+02     2s\n",
      "INFO:gurobipy:  37   2.32981074e+10  2.32805918e+10  6.25e+01 3.24e-09  1.21e+02     2s\n",
      "INFO:gurobipy:  38   2.32961362e+10  2.32831750e+10  2.68e+01 2.37e-09  8.95e+01     2s\n",
      "INFO:gurobipy:  39   2.32954572e+10  2.32869303e+10  1.60e+01 8.26e-09  5.89e+01     2s\n",
      "INFO:gurobipy:  40   2.32947471e+10  2.32881852e+10  2.16e+00 6.94e-09  4.53e+01     2s\n",
      "INFO:gurobipy:  41   2.32946947e+10  2.32886477e+10  1.25e+00 5.61e-09  4.17e+01     2s\n",
      "INFO:gurobipy:  42   2.32946116e+10  2.32898639e+10  4.58e-01 5.35e-09  3.28e+01     2s\n",
      "INFO:gurobipy:  43   2.32945607e+10  2.32919130e+10  3.05e-01 2.89e-09  1.83e+01     2s\n",
      "INFO:gurobipy:  44   2.32945228e+10  2.32920296e+10  2.11e-01 3.92e-09  1.72e+01     2s\n",
      "INFO:gurobipy:  45   2.32944908e+10  2.32923105e+10  7.30e-02 2.82e-09  1.50e+01     2s\n",
      "INFO:gurobipy:  46   2.32944628e+10  2.32941330e+10  7.66e-03 6.14e-10  2.28e+00     2s\n",
      "INFO:gurobipy:  47   2.32944375e+10  2.32944371e+10  8.12e-06 4.29e-10  2.75e-03     2s\n",
      "INFO:gurobipy:  48   2.32944374e+10  2.32944374e+10  9.70e-08 2.31e-10  1.56e-06     2s\n",
      "INFO:gurobipy:  49   2.32944374e+10  2.32944374e+10  2.03e-06 3.61e-09  1.57e-12     2s\n",
      "INFO:gurobipy:\n",
      "INFO:gurobipy:Barrier solved model in 49 iterations and 2.36 seconds (1.06 work units)\n",
      "INFO:gurobipy:Optimal objective 2.32944374e+10\n",
      "INFO:gurobipy:\n",
      "INFO:gurobipy:Crossover log...\n",
      "INFO:gurobipy:\n",
      "INFO:gurobipy:    8769 DPushes remaining with DInf 0.0000000e+00                 2s\n",
      "INFO:gurobipy:       0 DPushes remaining with DInf 0.0000000e+00                 3s\n",
      "INFO:gurobipy:Warning: Markowitz tolerance tightened to 0.5\n",
      "INFO:gurobipy:\n",
      "INFO:gurobipy:    1052 PPushes remaining with PInf 0.0000000e+00                 3s\n",
      "INFO:gurobipy:       0 PPushes remaining with PInf 0.0000000e+00                 3s\n",
      "INFO:gurobipy:\n",
      "INFO:gurobipy:  Push phase complete: Pinf 0.0000000e+00, Dinf 6.6731678e-08      3s\n",
      "INFO:gurobipy:\n",
      "INFO:gurobipy:\n",
      "INFO:gurobipy:Solved with barrier\n",
      "INFO:gurobipy:Iteration    Objective       Primal Inf.    Dual Inf.      Time\n",
      "INFO:gurobipy:    1065    2.3294437e+10   0.000000e+00   0.000000e+00      3s\n",
      "INFO:gurobipy:\n",
      "INFO:gurobipy:Solved in 1065 iterations and 3.02 seconds (2.20 work units)\n",
      "INFO:gurobipy:Optimal objective  2.329443739e+10\n",
      "INFO:linopy.constants: Optimization successful: \n",
      "Status: ok\n",
      "Termination condition: optimal\n",
      "Solution: 52566 primals, 113888 duals\n",
      "Objective: 2.33e+10\n",
      "Solver model: available\n",
      "Solver message: 2\n",
      "\n",
      "INFO:pypsa.optimization.optimize:The shadow-prices of the constraints Generator-ext-p-lower, Generator-ext-p-upper were not assigned to the network.\n"
     ]
    },
    {
     "name": "stdout",
     "output_type": "stream",
     "text": [
      "Solved for year 1989, objective = 23.29 billion EUR\n",
      "processing year 1994\n"
     ]
    },
    {
     "name": "stderr",
     "output_type": "stream",
     "text": [
      "WARNING:pypsa.consistency:The following buses have carriers which are not defined:\n",
      "Index(['GBR electricity bus'], dtype='object', name='Bus')\n",
      "WARNING:pypsa.consistency:The following loads have carriers which are not defined:\n",
      "Index(['GBR electricity load'], dtype='object', name='Load')\n",
      "INFO:linopy.model: Solve problem using Gurobi solver\n",
      "INFO:linopy.model:Solver options:\n",
      " - LogToConsole: 0\n",
      "INFO:linopy.io:Writing objective.\n",
      "Writing constraints.: 100%|\u001b[38;2;128;191;255m██████████\u001b[0m| 7/7 [00:00<00:00,  8.34it/s]\n",
      "Writing continuous variables.: 100%|\u001b[38;2;128;191;255m██████████\u001b[0m| 2/2 [00:00<00:00, 17.62it/s]\n",
      "INFO:linopy.io: Writing time: 1.06s\n"
     ]
    },
    {
     "name": "stdout",
     "output_type": "stream",
     "text": [
      "Set parameter Username\n"
     ]
    },
    {
     "name": "stderr",
     "output_type": "stream",
     "text": [
      "INFO:gurobipy:Set parameter Username\n"
     ]
    },
    {
     "name": "stdout",
     "output_type": "stream",
     "text": [
      "Academic license - for non-commercial use only - expires 2026-02-18\n"
     ]
    },
    {
     "name": "stderr",
     "output_type": "stream",
     "text": [
      "INFO:gurobipy:Academic license - for non-commercial use only - expires 2026-02-18\n"
     ]
    },
    {
     "name": "stdout",
     "output_type": "stream",
     "text": [
      "Read LP format model from file C:\\Users\\cwitt\\AppData\\Local\\Temp\\linopy-problem-r3de9jv9.lp\n"
     ]
    },
    {
     "name": "stderr",
     "output_type": "stream",
     "text": [
      "INFO:gurobipy:Read LP format model from file C:\\Users\\cwitt\\AppData\\Local\\Temp\\linopy-problem-r3de9jv9.lp\n"
     ]
    },
    {
     "name": "stdout",
     "output_type": "stream",
     "text": [
      "Reading time = 0.26 seconds\n"
     ]
    },
    {
     "name": "stderr",
     "output_type": "stream",
     "text": [
      "INFO:gurobipy:Reading time = 0.26 seconds\n"
     ]
    },
    {
     "name": "stdout",
     "output_type": "stream",
     "text": [
      "obj: 113888 rows, 52566 columns, 232279 nonzeros\n"
     ]
    },
    {
     "name": "stderr",
     "output_type": "stream",
     "text": [
      "INFO:gurobipy:obj: 113888 rows, 52566 columns, 232279 nonzeros\n"
     ]
    },
    {
     "name": "stdout",
     "output_type": "stream",
     "text": [
      "Set parameter LogToConsole to value 0\n"
     ]
    },
    {
     "name": "stderr",
     "output_type": "stream",
     "text": [
      "INFO:gurobipy:Set parameter LogToConsole to value 0\n",
      "INFO:gurobipy:Gurobi Optimizer version 12.0.1 build v12.0.1rc0 (win64 - Windows 11.0 (22631.2))\n",
      "INFO:gurobipy:\n",
      "INFO:gurobipy:CPU model: AMD Ryzen 7 5700U with Radeon Graphics, instruction set [SSE2|AVX|AVX2]\n",
      "INFO:gurobipy:Thread count: 8 physical cores, 16 logical processors, using up to 16 threads\n",
      "INFO:gurobipy:\n",
      "INFO:gurobipy:Non-default parameters:\n",
      "INFO:gurobipy:LogToConsole  0\n",
      "INFO:gurobipy:\n",
      "INFO:gurobipy:Optimize a model with 113888 rows, 52566 columns and 232279 nonzeros\n",
      "INFO:gurobipy:Model fingerprint: 0x6e17c604\n",
      "INFO:gurobipy:Coefficient statistics:\n",
      "INFO:gurobipy:  Matrix range     [1e-03, 3e+00]\n",
      "INFO:gurobipy:  Objective range  [9e+00, 7e+05]\n",
      "INFO:gurobipy:  Bounds range     [0e+00, 0e+00]\n",
      "INFO:gurobipy:  RHS range        [2e+04, 7e+07]\n",
      "INFO:gurobipy:Presolve removed 56813 rows and 4247 columns\n",
      "INFO:gurobipy:Presolve time: 0.14s\n",
      "INFO:gurobipy:Presolved: 57075 rows, 48319 columns, 171219 nonzeros\n",
      "INFO:gurobipy:\n",
      "INFO:gurobipy:Concurrent LP optimizer: primal simplex, dual simplex, and barrier\n",
      "INFO:gurobipy:Showing barrier log only...\n",
      "INFO:gurobipy:\n",
      "INFO:gurobipy:Ordering time: 0.01s\n",
      "INFO:gurobipy:\n",
      "INFO:gurobipy:Barrier statistics:\n",
      "INFO:gurobipy: Dense cols : 6\n",
      "INFO:gurobipy: AA' NZ     : 1.404e+05\n",
      "INFO:gurobipy: Factor NZ  : 6.467e+05 (roughly 50 MB of memory)\n",
      "INFO:gurobipy: Factor Ops : 7.560e+06 (less than 1 second per iteration)\n",
      "INFO:gurobipy: Threads    : 6\n",
      "INFO:gurobipy:\n",
      "INFO:gurobipy:                  Objective                Residual\n",
      "INFO:gurobipy:Iter       Primal          Dual         Primal    Dual     Compl     Time\n",
      "INFO:gurobipy:   0   2.55695290e+12  0.00000000e+00  1.32e+10 0.00e+00  1.38e+09     0s\n",
      "INFO:gurobipy:   1   2.85026317e+12 -4.68788741e+11  2.33e+09 2.75e+02  3.07e+08     0s\n",
      "INFO:gurobipy:   2   2.09604028e+12 -5.50835028e+11  6.38e+07 3.03e-09  2.14e+07     0s\n",
      "INFO:gurobipy:   3   2.58751374e+11 -1.46196834e+11  6.10e+06 4.46e-10  2.97e+06     0s\n",
      "INFO:gurobipy:   4   1.03129278e+11 -6.29096374e+10  2.02e+06 1.67e-10  1.18e+06     0s\n",
      "INFO:gurobipy:   5   6.97243213e+10 -3.08422519e+10  1.21e+06 6.51e-10  7.07e+05     1s\n",
      "INFO:gurobipy:   6   4.92322125e+10 -1.93090948e+10  7.20e+05 3.53e-10  4.79e+05     1s\n",
      "INFO:gurobipy:   7   4.24278028e+10 -1.18140804e+10  5.57e+05 6.33e-10  3.78e+05     1s\n",
      "INFO:gurobipy:   8   3.88321619e+10 -8.15860865e+09  4.59e+05 4.00e-10  3.27e+05     1s\n",
      "INFO:gurobipy:   9   3.51701215e+10  1.46312290e+09  3.67e+05 4.00e-11  2.34e+05     1s\n",
      "INFO:gurobipy:  10   3.09584567e+10  5.52516801e+09  2.54e+05 5.64e-10  1.77e+05     1s\n",
      "INFO:gurobipy:  11   3.01034411e+10  7.89690564e+09  2.30e+05 4.07e-10  1.54e+05     1s\n",
      "INFO:gurobipy:  12   2.92128763e+10  9.24257368e+09  2.05e+05 1.81e-10  1.39e+05     1s\n",
      "INFO:gurobipy:  13   2.81393619e+10  1.21580910e+10  1.77e+05 3.00e-11  1.11e+05     1s\n",
      "INFO:gurobipy:  14   2.69871539e+10  1.50626802e+10  1.41e+05 1.78e-11  8.27e+04     1s\n",
      "INFO:gurobipy:  15   2.66164942e+10  1.60012518e+10  1.29e+05 5.24e-10  7.36e+04     1s\n",
      "INFO:gurobipy:  16   2.50103999e+10  1.72970621e+10  7.67e+04 1.02e-10  5.34e+04     1s\n",
      "INFO:gurobipy:  17   2.42491555e+10  1.89483351e+10  5.26e+04 3.57e-10  3.67e+04     1s\n",
      "INFO:gurobipy:  18   2.39505856e+10  1.99556483e+10  4.32e+04 6.70e-10  2.77e+04     1s\n",
      "INFO:gurobipy:  19   2.34341826e+10  2.08291535e+10  2.76e+04 3.18e-11  1.80e+04     1s\n",
      "INFO:gurobipy:  20   2.31547081e+10  2.13657635e+10  1.92e+04 7.63e-10  1.24e+04     1s\n",
      "INFO:gurobipy:  21   2.29755248e+10  2.16131935e+10  1.40e+04 1.68e-09  9.43e+03     1s\n",
      "INFO:gurobipy:  22   2.28326996e+10  2.19182384e+10  1.00e+04 4.61e-09  6.33e+03     1s\n",
      "INFO:gurobipy:  23   2.27085455e+10  2.21023319e+10  6.58e+03 1.01e-08  4.20e+03     1s\n",
      "INFO:gurobipy:  24   2.26463125e+10  2.21577864e+10  4.97e+03 9.08e-09  3.38e+03     2s\n",
      "INFO:gurobipy:  25   2.25933993e+10  2.22340701e+10  3.54e+03 7.08e-09  2.49e+03     2s\n",
      "INFO:gurobipy:  26   2.25413120e+10  2.23074605e+10  2.12e+03 4.96e-09  1.62e+03     2s\n",
      "INFO:gurobipy:  27   2.25246923e+10  2.23622429e+10  1.66e+03 4.82e-09  1.12e+03     2s\n",
      "INFO:gurobipy:  28   2.25026824e+10  2.23802716e+10  1.09e+03 4.54e-09  8.47e+02     2s\n",
      "INFO:gurobipy:  29   2.24834442e+10  2.23969697e+10  5.92e+02 3.34e-09  5.98e+02     2s\n",
      "INFO:gurobipy:  30   2.24741220e+10  2.24109368e+10  3.57e+02 2.56e-09  4.37e+02     2s\n",
      "INFO:gurobipy:  31   2.24664750e+10  2.24256074e+10  1.66e+02 3.60e-09  2.82e+02     2s\n",
      "INFO:gurobipy:  32   2.24630238e+10  2.24415751e+10  8.48e+01 5.58e-09  1.48e+02     2s\n",
      "INFO:gurobipy:  33   2.24608741e+10  2.24445998e+10  3.61e+01 4.54e-09  1.12e+02     2s\n",
      "INFO:gurobipy:  34   2.24604054e+10  2.24484044e+10  2.61e+01 3.06e-09  8.29e+01     2s\n",
      "INFO:gurobipy:  35   2.24598411e+10  2.24498207e+10  1.30e+01 2.16e-09  6.92e+01     2s\n",
      "INFO:gurobipy:  36   2.24594505e+10  2.24559358e+10  4.49e+00 7.79e-10  2.43e+01     2s\n",
      "INFO:gurobipy:  37   2.24590805e+10  2.24579474e+10  2.84e-01 1.96e-09  7.82e+00     2s\n",
      "INFO:gurobipy:  38   2.24590184e+10  2.24589494e+10  1.27e-02 2.05e-09  4.76e-01     2s\n",
      "INFO:gurobipy:  39   2.24590165e+10  2.24590056e+10  4.51e-03 9.33e-08  7.54e-02     2s\n",
      "INFO:gurobipy:  40   2.24590153e+10  2.24590153e+10  1.04e-04 6.52e-09  5.26e-04     2s\n",
      "INFO:gurobipy:  41   2.24590153e+10  2.24590153e+10  5.82e-08 3.20e-09  3.84e-09     2s\n",
      "INFO:gurobipy:\n",
      "INFO:gurobipy:Barrier solved model in 41 iterations and 2.40 seconds (0.91 work units)\n",
      "INFO:gurobipy:Optimal objective 2.24590153e+10\n",
      "INFO:gurobipy:\n",
      "INFO:gurobipy:Crossover log...\n",
      "INFO:gurobipy:\n",
      "INFO:gurobipy:    8771 DPushes remaining with DInf 0.0000000e+00                 2s\n",
      "INFO:gurobipy:       0 DPushes remaining with DInf 0.0000000e+00                 3s\n",
      "INFO:gurobipy:Warning: Markowitz tolerance tightened to 0.5\n",
      "INFO:gurobipy:\n",
      "INFO:gurobipy:    1466 PPushes remaining with PInf 0.0000000e+00                 3s\n",
      "INFO:gurobipy:       0 PPushes remaining with PInf 0.0000000e+00                 3s\n",
      "INFO:gurobipy:\n",
      "INFO:gurobipy:  Push phase complete: Pinf 0.0000000e+00, Dinf 4.4232652e-08      3s\n",
      "INFO:gurobipy:\n",
      "INFO:gurobipy:\n",
      "INFO:gurobipy:Solved with barrier\n",
      "INFO:gurobipy:Iteration    Objective       Primal Inf.    Dual Inf.      Time\n",
      "INFO:gurobipy:    1481    2.2459015e+10   0.000000e+00   0.000000e+00      3s\n",
      "INFO:gurobipy:\n",
      "INFO:gurobipy:Solved in 1481 iterations and 2.98 seconds (1.96 work units)\n",
      "INFO:gurobipy:Optimal objective  2.245901529e+10\n",
      "INFO:linopy.constants: Optimization successful: \n",
      "Status: ok\n",
      "Termination condition: optimal\n",
      "Solution: 52566 primals, 113888 duals\n",
      "Objective: 2.25e+10\n",
      "Solver model: available\n",
      "Solver message: 2\n",
      "\n",
      "INFO:pypsa.optimization.optimize:The shadow-prices of the constraints Generator-ext-p-lower, Generator-ext-p-upper were not assigned to the network.\n"
     ]
    },
    {
     "name": "stdout",
     "output_type": "stream",
     "text": [
      "Solved for year 1994, objective = 22.46 billion EUR\n",
      "processing year 1999\n"
     ]
    },
    {
     "name": "stderr",
     "output_type": "stream",
     "text": [
      "WARNING:pypsa.consistency:The following buses have carriers which are not defined:\n",
      "Index(['GBR electricity bus'], dtype='object', name='Bus')\n",
      "WARNING:pypsa.consistency:The following loads have carriers which are not defined:\n",
      "Index(['GBR electricity load'], dtype='object', name='Load')\n",
      "INFO:linopy.model: Solve problem using Gurobi solver\n",
      "INFO:linopy.model:Solver options:\n",
      " - LogToConsole: 0\n",
      "INFO:linopy.io:Writing objective.\n",
      "Writing constraints.: 100%|\u001b[38;2;128;191;255m██████████\u001b[0m| 7/7 [00:00<00:00,  7.82it/s]\n",
      "Writing continuous variables.: 100%|\u001b[38;2;128;191;255m██████████\u001b[0m| 2/2 [00:00<00:00, 10.14it/s]\n",
      "INFO:linopy.io: Writing time: 1.16s\n"
     ]
    },
    {
     "name": "stdout",
     "output_type": "stream",
     "text": [
      "Set parameter Username\n"
     ]
    },
    {
     "name": "stderr",
     "output_type": "stream",
     "text": [
      "INFO:gurobipy:Set parameter Username\n"
     ]
    },
    {
     "name": "stdout",
     "output_type": "stream",
     "text": [
      "Academic license - for non-commercial use only - expires 2026-02-18\n"
     ]
    },
    {
     "name": "stderr",
     "output_type": "stream",
     "text": [
      "INFO:gurobipy:Academic license - for non-commercial use only - expires 2026-02-18\n"
     ]
    },
    {
     "name": "stdout",
     "output_type": "stream",
     "text": [
      "Read LP format model from file C:\\Users\\cwitt\\AppData\\Local\\Temp\\linopy-problem-6zrwergn.lp\n"
     ]
    },
    {
     "name": "stderr",
     "output_type": "stream",
     "text": [
      "INFO:gurobipy:Read LP format model from file C:\\Users\\cwitt\\AppData\\Local\\Temp\\linopy-problem-6zrwergn.lp\n"
     ]
    },
    {
     "name": "stdout",
     "output_type": "stream",
     "text": [
      "Reading time = 0.26 seconds\n"
     ]
    },
    {
     "name": "stderr",
     "output_type": "stream",
     "text": [
      "INFO:gurobipy:Reading time = 0.26 seconds\n"
     ]
    },
    {
     "name": "stdout",
     "output_type": "stream",
     "text": [
      "obj: 113888 rows, 52566 columns, 232275 nonzeros\n"
     ]
    },
    {
     "name": "stderr",
     "output_type": "stream",
     "text": [
      "INFO:gurobipy:obj: 113888 rows, 52566 columns, 232275 nonzeros\n"
     ]
    },
    {
     "name": "stdout",
     "output_type": "stream",
     "text": [
      "Set parameter LogToConsole to value 0\n"
     ]
    },
    {
     "name": "stderr",
     "output_type": "stream",
     "text": [
      "INFO:gurobipy:Set parameter LogToConsole to value 0\n",
      "INFO:gurobipy:Gurobi Optimizer version 12.0.1 build v12.0.1rc0 (win64 - Windows 11.0 (22631.2))\n",
      "INFO:gurobipy:\n",
      "INFO:gurobipy:CPU model: AMD Ryzen 7 5700U with Radeon Graphics, instruction set [SSE2|AVX|AVX2]\n",
      "INFO:gurobipy:Thread count: 8 physical cores, 16 logical processors, using up to 16 threads\n",
      "INFO:gurobipy:\n",
      "INFO:gurobipy:Non-default parameters:\n",
      "INFO:gurobipy:LogToConsole  0\n",
      "INFO:gurobipy:\n",
      "INFO:gurobipy:Optimize a model with 113888 rows, 52566 columns and 232275 nonzeros\n",
      "INFO:gurobipy:Model fingerprint: 0x123b1ae0\n",
      "INFO:gurobipy:Coefficient statistics:\n",
      "INFO:gurobipy:  Matrix range     [1e-03, 3e+00]\n",
      "INFO:gurobipy:  Objective range  [9e+00, 7e+05]\n",
      "INFO:gurobipy:  Bounds range     [0e+00, 0e+00]\n",
      "INFO:gurobipy:  RHS range        [2e+04, 7e+07]\n",
      "INFO:gurobipy:Presolve removed 56817 rows and 4251 columns\n",
      "INFO:gurobipy:Presolve time: 0.14s\n",
      "INFO:gurobipy:Presolved: 57071 rows, 48315 columns, 171207 nonzeros\n",
      "INFO:gurobipy:\n",
      "INFO:gurobipy:Concurrent LP optimizer: primal simplex, dual simplex, and barrier\n",
      "INFO:gurobipy:Showing barrier log only...\n",
      "INFO:gurobipy:\n",
      "INFO:gurobipy:Ordering time: 0.01s\n",
      "INFO:gurobipy:\n",
      "INFO:gurobipy:Barrier statistics:\n",
      "INFO:gurobipy: Dense cols : 6\n",
      "INFO:gurobipy: AA' NZ     : 1.404e+05\n",
      "INFO:gurobipy: Factor NZ  : 6.466e+05 (roughly 50 MB of memory)\n",
      "INFO:gurobipy: Factor Ops : 7.558e+06 (less than 1 second per iteration)\n",
      "INFO:gurobipy: Threads    : 6\n",
      "INFO:gurobipy:\n",
      "INFO:gurobipy:                  Objective                Residual\n",
      "INFO:gurobipy:Iter       Primal          Dual         Primal    Dual     Compl     Time\n",
      "INFO:gurobipy:   0   2.09279233e+12  0.00000000e+00  9.67e+09 0.00e+00  1.06e+09     0s\n",
      "INFO:gurobipy:   1   2.27534946e+12 -5.18142407e+11  1.69e+09 1.87e+02  1.91e+08     0s\n",
      "INFO:gurobipy:   2   1.54943472e+12 -5.22773937e+11  7.79e+07 1.41e-09  1.81e+07     0s\n",
      "INFO:gurobipy:   3   1.69106521e+11 -1.43408386e+11  6.00e+06 1.06e-09  2.33e+06     0s\n",
      "INFO:gurobipy:   4   8.07931831e+10 -5.03658285e+10  2.28e+06 2.04e-10  9.37e+05     0s\n",
      "INFO:gurobipy:   5   5.89823927e+10 -3.90257318e+10  1.44e+06 4.95e-10  6.94e+05     1s\n",
      "INFO:gurobipy:   6   5.56952022e+10 -2.03262976e+10  1.31e+06 4.04e-10  5.36e+05     1s\n",
      "INFO:gurobipy:   7   4.50872538e+10 -9.03826849e+09  9.11e+05 4.87e-10  3.80e+05     1s\n",
      "INFO:gurobipy:   8   4.11846077e+10 -4.92081731e+09  7.50e+05 4.95e-10  3.23e+05     1s\n",
      "INFO:gurobipy:   9   3.73674498e+10  2.64534257e+09  5.93e+05 1.22e-09  2.43e+05     1s\n",
      "INFO:gurobipy:  10   3.23999079e+10  8.63881942e+09  4.15e+05 2.26e-10  1.66e+05     1s\n",
      "INFO:gurobipy:  11   3.20447874e+10  9.73783070e+09  4.02e+05 1.28e-09  1.56e+05     1s\n",
      "INFO:gurobipy:  12   3.11397918e+10  1.18183470e+10  3.66e+05 8.91e-10  1.35e+05     1s\n",
      "INFO:gurobipy:  13   2.96426012e+10  1.38423591e+10  3.08e+05 1.78e-10  1.10e+05     1s\n",
      "INFO:gurobipy:  14   2.94370537e+10  1.62312445e+10  3.00e+05 4.49e-11  9.21e+04     1s\n",
      "INFO:gurobipy:  15   2.81454125e+10  1.72189913e+10  2.39e+05 3.30e-10  7.61e+04     1s\n",
      "INFO:gurobipy:  16   2.75176718e+10  1.81553981e+10  2.12e+05 3.95e-10  6.52e+04     1s\n",
      "INFO:gurobipy:  17   2.66145309e+10  1.99056465e+10  1.68e+05 3.89e-10  4.67e+04     1s\n",
      "INFO:gurobipy:  18   2.51063031e+10  2.05123860e+10  9.35e+04 5.75e-10  3.19e+04     1s\n",
      "INFO:gurobipy:  19   2.45360230e+10  2.10801491e+10  6.60e+04 1.28e-09  2.40e+04     1s\n",
      "INFO:gurobipy:  20   2.40620981e+10  2.18418817e+10  4.28e+04 2.83e-10  1.54e+04     1s\n",
      "INFO:gurobipy:  21   2.37531592e+10  2.22430927e+10  2.82e+04 4.11e-10  1.05e+04     1s\n",
      "INFO:gurobipy:  22   2.35084191e+10  2.25069168e+10  1.70e+04 6.87e-10  6.95e+03     1s\n",
      "INFO:gurobipy:  23   2.34497702e+10  2.26173362e+10  1.44e+04 3.35e-09  5.78e+03     1s\n",
      "INFO:gurobipy:  24   2.33772693e+10  2.27546001e+10  1.12e+04 8.82e-09  4.32e+03     1s\n",
      "INFO:gurobipy:  25   2.33055640e+10  2.28640536e+10  8.12e+03 8.64e-09  3.06e+03     1s\n",
      "INFO:gurobipy:  26   2.32834988e+10  2.29372928e+10  7.26e+03 1.09e-08  2.40e+03     1s\n",
      "INFO:gurobipy:  27   2.32184632e+10  2.29667307e+10  4.46e+03 1.24e-08  1.75e+03     2s\n",
      "INFO:gurobipy:  28   2.32061662e+10  2.30003738e+10  3.96e+03 1.34e-08  1.43e+03     2s\n",
      "INFO:gurobipy:  29   2.31709611e+10  2.30389199e+10  2.46e+03 1.58e-08  9.16e+02     2s\n",
      "INFO:gurobipy:  30   2.31460909e+10  2.30581184e+10  1.39e+03 1.25e-08  6.10e+02     2s\n",
      "INFO:gurobipy:  31   2.31285434e+10  2.30809483e+10  6.87e+02 6.50e-09  3.30e+02     2s\n",
      "INFO:gurobipy:  32   2.31190729e+10  2.30929601e+10  3.12e+02 6.09e-09  1.81e+02     2s\n",
      "INFO:gurobipy:  33   2.31162061e+10  2.30983197e+10  2.06e+02 3.81e-09  1.24e+02     2s\n",
      "INFO:gurobipy:  34   2.31138521e+10  2.31023658e+10  1.20e+02 3.75e-09  7.95e+01     2s\n",
      "INFO:gurobipy:  35   2.31129952e+10  2.31054669e+10  8.88e+01 2.20e-09  5.21e+01     2s\n",
      "INFO:gurobipy:  36   2.31115374e+10  2.31071015e+10  3.76e+01 1.94e-09  3.07e+01     2s\n",
      "INFO:gurobipy:  37   2.31106300e+10  2.31089957e+10  6.66e+00 3.01e-09  1.13e+01     2s\n",
      "INFO:gurobipy:  38   2.31104240e+10  2.31097963e+10  1.48e-01 1.48e-09  4.33e+00     2s\n",
      "INFO:gurobipy:  39   2.31104054e+10  2.31101042e+10  3.65e-02 6.50e-09  2.08e+00     2s\n",
      "INFO:gurobipy:  40   2.31104043e+10  2.31103936e+10  2.57e-02 2.59e-08  7.41e-02     2s\n",
      "INFO:gurobipy:  41   2.31103985e+10  2.31103978e+10  3.50e-03 1.16e-08  5.13e-03     2s\n",
      "INFO:gurobipy:  42   2.31103978e+10  2.31103978e+10  5.72e-05 4.66e-09  6.61e-05     2s\n",
      "INFO:gurobipy:  43   2.31103978e+10  2.31103978e+10  1.53e-06 6.11e-09  6.61e-08     2s\n",
      "INFO:gurobipy:  44   2.31103978e+10  2.31103978e+10  5.43e-09 1.80e-09  6.61e-11     2s\n",
      "INFO:gurobipy:\n",
      "INFO:gurobipy:Barrier solved model in 44 iterations and 2.19 seconds (0.96 work units)\n",
      "INFO:gurobipy:Optimal objective 2.31103978e+10\n",
      "INFO:gurobipy:\n",
      "INFO:gurobipy:Crossover log...\n",
      "INFO:gurobipy:\n",
      "INFO:gurobipy:    8775 DPushes remaining with DInf 0.0000000e+00                 2s\n",
      "INFO:gurobipy:       0 DPushes remaining with DInf 0.0000000e+00                 2s\n",
      "INFO:gurobipy:Warning: Markowitz tolerance tightened to 0.5\n",
      "INFO:gurobipy:\n",
      "INFO:gurobipy:    1183 PPushes remaining with PInf 0.0000000e+00                 2s\n",
      "INFO:gurobipy:       0 PPushes remaining with PInf 0.0000000e+00                 3s\n",
      "INFO:gurobipy:\n",
      "INFO:gurobipy:  Push phase complete: Pinf 0.0000000e+00, Dinf 6.2559549e-08      3s\n",
      "INFO:gurobipy:\n",
      "INFO:gurobipy:\n",
      "INFO:gurobipy:Solved with barrier\n",
      "INFO:gurobipy:Extra simplex iterations after uncrush: 1\n",
      "INFO:gurobipy:Iteration    Objective       Primal Inf.    Dual Inf.      Time\n",
      "INFO:gurobipy:    1203    2.3110398e+10   0.000000e+00   0.000000e+00      3s\n",
      "INFO:gurobipy:\n",
      "INFO:gurobipy:Solved in 1203 iterations and 2.84 seconds (2.30 work units)\n",
      "INFO:gurobipy:Optimal objective  2.311039781e+10\n",
      "INFO:linopy.constants: Optimization successful: \n",
      "Status: ok\n",
      "Termination condition: optimal\n",
      "Solution: 52566 primals, 113888 duals\n",
      "Objective: 2.31e+10\n",
      "Solver model: available\n",
      "Solver message: 2\n",
      "\n",
      "INFO:pypsa.optimization.optimize:The shadow-prices of the constraints Generator-ext-p-lower, Generator-ext-p-upper were not assigned to the network.\n"
     ]
    },
    {
     "name": "stdout",
     "output_type": "stream",
     "text": [
      "Solved for year 1999, objective = 23.11 billion EUR\n",
      "processing year 2004\n"
     ]
    },
    {
     "name": "stderr",
     "output_type": "stream",
     "text": [
      "WARNING:pypsa.consistency:The following buses have carriers which are not defined:\n",
      "Index(['GBR electricity bus'], dtype='object', name='Bus')\n",
      "WARNING:pypsa.consistency:The following loads have carriers which are not defined:\n",
      "Index(['GBR electricity load'], dtype='object', name='Load')\n",
      "INFO:linopy.model: Solve problem using Gurobi solver\n",
      "INFO:linopy.model:Solver options:\n",
      " - LogToConsole: 0\n",
      "INFO:linopy.io:Writing objective.\n",
      "Writing constraints.: 100%|\u001b[38;2;128;191;255m██████████\u001b[0m| 7/7 [00:00<00:00,  7.16it/s]\n",
      "Writing continuous variables.: 100%|\u001b[38;2;128;191;255m██████████\u001b[0m| 2/2 [00:00<00:00, 11.48it/s]\n",
      "INFO:linopy.io: Writing time: 1.25s\n"
     ]
    },
    {
     "name": "stdout",
     "output_type": "stream",
     "text": [
      "Set parameter Username\n"
     ]
    },
    {
     "name": "stderr",
     "output_type": "stream",
     "text": [
      "INFO:gurobipy:Set parameter Username\n"
     ]
    },
    {
     "name": "stdout",
     "output_type": "stream",
     "text": [
      "Academic license - for non-commercial use only - expires 2026-02-18\n"
     ]
    },
    {
     "name": "stderr",
     "output_type": "stream",
     "text": [
      "INFO:gurobipy:Academic license - for non-commercial use only - expires 2026-02-18\n"
     ]
    },
    {
     "name": "stdout",
     "output_type": "stream",
     "text": [
      "Read LP format model from file C:\\Users\\cwitt\\AppData\\Local\\Temp\\linopy-problem-zcctad5y.lp\n"
     ]
    },
    {
     "name": "stderr",
     "output_type": "stream",
     "text": [
      "INFO:gurobipy:Read LP format model from file C:\\Users\\cwitt\\AppData\\Local\\Temp\\linopy-problem-zcctad5y.lp\n"
     ]
    },
    {
     "name": "stdout",
     "output_type": "stream",
     "text": [
      "Reading time = 0.32 seconds\n"
     ]
    },
    {
     "name": "stderr",
     "output_type": "stream",
     "text": [
      "INFO:gurobipy:Reading time = 0.32 seconds\n"
     ]
    },
    {
     "name": "stdout",
     "output_type": "stream",
     "text": [
      "obj: 113888 rows, 52566 columns, 232275 nonzeros\n"
     ]
    },
    {
     "name": "stderr",
     "output_type": "stream",
     "text": [
      "INFO:gurobipy:obj: 113888 rows, 52566 columns, 232275 nonzeros\n"
     ]
    },
    {
     "name": "stdout",
     "output_type": "stream",
     "text": [
      "Set parameter LogToConsole to value 0\n"
     ]
    },
    {
     "name": "stderr",
     "output_type": "stream",
     "text": [
      "INFO:gurobipy:Set parameter LogToConsole to value 0\n",
      "INFO:gurobipy:Gurobi Optimizer version 12.0.1 build v12.0.1rc0 (win64 - Windows 11.0 (22631.2))\n",
      "INFO:gurobipy:\n",
      "INFO:gurobipy:CPU model: AMD Ryzen 7 5700U with Radeon Graphics, instruction set [SSE2|AVX|AVX2]\n",
      "INFO:gurobipy:Thread count: 8 physical cores, 16 logical processors, using up to 16 threads\n",
      "INFO:gurobipy:\n",
      "INFO:gurobipy:Non-default parameters:\n",
      "INFO:gurobipy:LogToConsole  0\n",
      "INFO:gurobipy:\n",
      "INFO:gurobipy:Optimize a model with 113888 rows, 52566 columns and 232275 nonzeros\n",
      "INFO:gurobipy:Model fingerprint: 0xda5bad84\n",
      "INFO:gurobipy:Coefficient statistics:\n",
      "INFO:gurobipy:  Matrix range     [1e-03, 3e+00]\n",
      "INFO:gurobipy:  Objective range  [9e+00, 7e+05]\n",
      "INFO:gurobipy:  Bounds range     [0e+00, 0e+00]\n",
      "INFO:gurobipy:  RHS range        [2e+04, 7e+07]\n",
      "INFO:gurobipy:Presolve removed 56817 rows and 4251 columns\n",
      "INFO:gurobipy:Presolve time: 0.19s\n",
      "INFO:gurobipy:Presolved: 57071 rows, 48315 columns, 171207 nonzeros\n",
      "INFO:gurobipy:\n",
      "INFO:gurobipy:Concurrent LP optimizer: primal simplex, dual simplex, and barrier\n",
      "INFO:gurobipy:Showing barrier log only...\n",
      "INFO:gurobipy:\n",
      "INFO:gurobipy:Ordering time: 0.01s\n",
      "INFO:gurobipy:\n",
      "INFO:gurobipy:Barrier statistics:\n",
      "INFO:gurobipy: Dense cols : 6\n",
      "INFO:gurobipy: AA' NZ     : 1.404e+05\n",
      "INFO:gurobipy: Factor NZ  : 6.466e+05 (roughly 50 MB of memory)\n",
      "INFO:gurobipy: Factor Ops : 7.558e+06 (less than 1 second per iteration)\n",
      "INFO:gurobipy: Threads    : 6\n",
      "INFO:gurobipy:\n",
      "INFO:gurobipy:                  Objective                Residual\n",
      "INFO:gurobipy:Iter       Primal          Dual         Primal    Dual     Compl     Time\n",
      "INFO:gurobipy:   0   2.59281850e+12  0.00000000e+00  1.34e+10 0.00e+00  1.41e+09     0s\n",
      "INFO:gurobipy:   1   2.97850335e+12 -4.48709275e+11  2.38e+09 3.28e+02  3.45e+08     0s\n",
      "INFO:gurobipy:   2   2.28805246e+12 -5.63577685e+11  6.23e+07 8.29e-10  2.27e+07     0s\n",
      "INFO:gurobipy:   3   3.31796844e+11 -1.52982802e+11  7.31e+06 2.80e-09  3.55e+06     1s\n",
      "INFO:gurobipy:   4   1.44316494e+11 -7.21479507e+10  2.80e+06 9.46e-10  1.55e+06     1s\n",
      "INFO:gurobipy:   5   8.18081561e+10 -3.47216107e+10  1.39e+06 3.71e-10  8.20e+05     1s\n",
      "INFO:gurobipy:   6   6.38209099e+10 -2.78127258e+10  9.79e+05 9.60e-10  6.42e+05     1s\n",
      "INFO:gurobipy:   7   5.55999610e+10 -1.68285930e+10  8.01e+05 1.16e-09  5.06e+05     1s\n",
      "INFO:gurobipy:   8   4.99989589e+10 -7.51808786e+09  6.68e+05 8.59e-10  4.01e+05     1s\n",
      "INFO:gurobipy:   9   3.97634310e+10  1.53317395e+09  4.27e+05 6.00e-10  2.66e+05     1s\n",
      "INFO:gurobipy:  10   3.60107902e+10  5.66011699e+09  3.28e+05 4.66e-10  2.11e+05     1s\n",
      "INFO:gurobipy:  11   3.47230968e+10  1.08747819e+10  2.90e+05 2.67e-10  1.66e+05     1s\n",
      "INFO:gurobipy:  12   3.28750028e+10  1.23978628e+10  2.48e+05 3.87e-11  1.42e+05     1s\n",
      "INFO:gurobipy:  13   3.12289097e+10  1.49809424e+10  2.06e+05 2.30e-10  1.13e+05     1s\n",
      "INFO:gurobipy:  14   2.86029717e+10  1.78417126e+10  1.30e+05 3.20e-10  7.46e+04     1s\n",
      "INFO:gurobipy:  15   2.68930276e+10  1.90280899e+10  8.37e+04 4.76e-10  5.45e+04     1s\n",
      "INFO:gurobipy:  16   2.58927331e+10  2.00338301e+10  5.23e+04 6.09e-10  4.06e+04     1s\n",
      "INFO:gurobipy:  17   2.53736937e+10  2.12107330e+10  3.59e+04 5.51e-10  2.88e+04     1s\n",
      "INFO:gurobipy:  18   2.49948389e+10  2.17856404e+10  2.54e+04 3.66e-10  2.22e+04     1s\n",
      "INFO:gurobipy:  19   2.48245938e+10  2.25231061e+10  2.04e+04 3.92e-10  1.59e+04     1s\n",
      "INFO:gurobipy:  20   2.46947599e+10  2.29415504e+10  1.65e+04 9.77e-10  1.21e+04     1s\n",
      "INFO:gurobipy:  21   2.45503219e+10  2.33665139e+10  1.28e+04 1.92e-10  8.20e+03     1s\n",
      "INFO:gurobipy:  22   2.44466127e+10  2.36243102e+10  1.02e+04 2.60e-09  5.70e+03     1s\n",
      "INFO:gurobipy:  23   2.43505988e+10  2.37645868e+10  7.51e+03 5.80e-09  4.06e+03     2s\n",
      "INFO:gurobipy:  24   2.42419630e+10  2.38663132e+10  4.56e+03 5.93e-09  2.60e+03     2s\n",
      "INFO:gurobipy:  25   2.41732969e+10  2.39143325e+10  2.70e+03 4.49e-09  1.79e+03     2s\n",
      "INFO:gurobipy:  26   2.41287874e+10  2.39427485e+10  1.52e+03 3.93e-09  1.29e+03     2s\n",
      "INFO:gurobipy:  27   2.41117758e+10  2.39615002e+10  1.08e+03 3.29e-09  1.04e+03     2s\n",
      "INFO:gurobipy:  28   2.41027545e+10  2.39758323e+10  8.30e+02 3.66e-09  8.78e+02     2s\n",
      "INFO:gurobipy:  29   2.40921383e+10  2.40255578e+10  5.74e+02 8.30e-09  4.61e+02     2s\n",
      "INFO:gurobipy:  30   2.40808051e+10  2.40335723e+10  2.90e+02 7.55e-09  3.27e+02     2s\n",
      "INFO:gurobipy:  31   2.40765562e+10  2.40503981e+10  1.86e+02 2.99e-09  1.81e+02     2s\n",
      "INFO:gurobipy:  32   2.40726315e+10  2.40535658e+10  9.26e+01 2.62e-09  1.32e+02     2s\n",
      "INFO:gurobipy:  33   2.40716231e+10  2.40600409e+10  6.95e+01 5.57e-09  8.01e+01     2s\n",
      "INFO:gurobipy:  34   2.40705141e+10  2.40607643e+10  4.54e+01 6.59e-09  6.74e+01     2s\n",
      "INFO:gurobipy:  35   2.40697773e+10  2.40633603e+10  2.87e+01 5.83e-09  4.43e+01     2s\n",
      "INFO:gurobipy:  36   2.40693432e+10  2.40665849e+10  1.91e+01 6.78e-09  1.91e+01     2s\n",
      "INFO:gurobipy:  37   2.40688440e+10  2.40671089e+10  8.25e+00 3.74e-09  1.20e+01     2s\n",
      "INFO:gurobipy:  38   2.40685887e+10  2.40674754e+10  3.17e+00 1.05e-08  7.69e+00     2s\n",
      "INFO:gurobipy:  39   2.40684809e+10  2.40677625e+10  9.16e-01 6.56e-09  4.96e+00     2s\n",
      "INFO:gurobipy:  40   2.40684576e+10  2.40679512e+10  4.37e-01 3.98e-09  3.49e+00     2s\n",
      "INFO:gurobipy:  41   2.40684476e+10  2.40680004e+10  2.87e-01 2.62e-09  3.09e+00     2s\n",
      "INFO:gurobipy:  42   2.40684464e+10  2.40680636e+10  2.71e-01 7.26e-09  2.64e+00     2s\n",
      "INFO:gurobipy:  43   2.40684339e+10  2.40683095e+10  5.55e-02 2.55e-09  8.59e-01     2s\n",
      "INFO:gurobipy:  44   2.40684285e+10  2.40683370e+10  6.34e-03 4.25e-09  6.31e-01     2s\n",
      "INFO:gurobipy:  45   2.40684280e+10  2.40684056e+10  3.04e-07 7.96e-08  1.54e-01     2s\n",
      "INFO:gurobipy:  46   2.40684277e+10  2.40684276e+10  7.60e-09 1.81e-09  8.02e-04     3s\n",
      "INFO:gurobipy:  47   2.40684277e+10  2.40684277e+10  1.02e-06 4.40e-09  3.19e-07     3s\n",
      "INFO:gurobipy:  48   2.40684277e+10  2.40684277e+10  1.13e-06 7.33e-09  3.39e-13     3s\n",
      "INFO:gurobipy:\n",
      "INFO:gurobipy:Barrier solved model in 48 iterations and 2.62 seconds (1.05 work units)\n",
      "INFO:gurobipy:Optimal objective 2.40684277e+10\n",
      "INFO:gurobipy:\n",
      "INFO:gurobipy:Crossover log...\n",
      "INFO:gurobipy:\n",
      "INFO:gurobipy:    8770 DPushes remaining with DInf 0.0000000e+00                 3s\n",
      "INFO:gurobipy:       0 DPushes remaining with DInf 0.0000000e+00                 3s\n",
      "INFO:gurobipy:Warning: Markowitz tolerance tightened to 0.5\n",
      "INFO:gurobipy:\n",
      "INFO:gurobipy:     786 PPushes remaining with PInf 0.0000000e+00                 3s\n",
      "INFO:gurobipy:       0 PPushes remaining with PInf 0.0000000e+00                 3s\n",
      "INFO:gurobipy:\n",
      "INFO:gurobipy:  Push phase complete: Pinf 0.0000000e+00, Dinf 6.8638410e-08      3s\n",
      "INFO:gurobipy:\n",
      "INFO:gurobipy:\n",
      "INFO:gurobipy:Solved with barrier\n",
      "INFO:gurobipy:Iteration    Objective       Primal Inf.    Dual Inf.      Time\n",
      "INFO:gurobipy:     800    2.4068428e+10   0.000000e+00   0.000000e+00      3s\n",
      "INFO:gurobipy:\n",
      "INFO:gurobipy:Solved in 800 iterations and 3.15 seconds (1.99 work units)\n",
      "INFO:gurobipy:Optimal objective  2.406842768e+10\n",
      "INFO:linopy.constants: Optimization successful: \n",
      "Status: ok\n",
      "Termination condition: optimal\n",
      "Solution: 52566 primals, 113888 duals\n",
      "Objective: 2.41e+10\n",
      "Solver model: available\n",
      "Solver message: 2\n",
      "\n",
      "INFO:pypsa.optimization.optimize:The shadow-prices of the constraints Generator-ext-p-lower, Generator-ext-p-upper were not assigned to the network.\n"
     ]
    },
    {
     "name": "stdout",
     "output_type": "stream",
     "text": [
      "Solved for year 2004, objective = 24.07 billion EUR\n",
      "processing year 2009\n"
     ]
    },
    {
     "name": "stderr",
     "output_type": "stream",
     "text": [
      "WARNING:pypsa.consistency:The following buses have carriers which are not defined:\n",
      "Index(['GBR electricity bus'], dtype='object', name='Bus')\n",
      "WARNING:pypsa.consistency:The following loads have carriers which are not defined:\n",
      "Index(['GBR electricity load'], dtype='object', name='Load')\n",
      "INFO:linopy.model: Solve problem using Gurobi solver\n",
      "INFO:linopy.model:Solver options:\n",
      " - LogToConsole: 0\n",
      "INFO:linopy.io:Writing objective.\n",
      "Writing constraints.: 100%|\u001b[38;2;128;191;255m██████████\u001b[0m| 7/7 [00:01<00:00,  6.91it/s]\n",
      "Writing continuous variables.: 100%|\u001b[38;2;128;191;255m██████████\u001b[0m| 2/2 [00:00<00:00, 14.72it/s]\n",
      "INFO:linopy.io: Writing time: 1.26s\n"
     ]
    },
    {
     "name": "stdout",
     "output_type": "stream",
     "text": [
      "Set parameter Username\n"
     ]
    },
    {
     "name": "stderr",
     "output_type": "stream",
     "text": [
      "INFO:gurobipy:Set parameter Username\n"
     ]
    },
    {
     "name": "stdout",
     "output_type": "stream",
     "text": [
      "Academic license - for non-commercial use only - expires 2026-02-18\n"
     ]
    },
    {
     "name": "stderr",
     "output_type": "stream",
     "text": [
      "INFO:gurobipy:Academic license - for non-commercial use only - expires 2026-02-18\n"
     ]
    },
    {
     "name": "stdout",
     "output_type": "stream",
     "text": [
      "Read LP format model from file C:\\Users\\cwitt\\AppData\\Local\\Temp\\linopy-problem-ewg72ax9.lp\n"
     ]
    },
    {
     "name": "stderr",
     "output_type": "stream",
     "text": [
      "INFO:gurobipy:Read LP format model from file C:\\Users\\cwitt\\AppData\\Local\\Temp\\linopy-problem-ewg72ax9.lp\n"
     ]
    },
    {
     "name": "stdout",
     "output_type": "stream",
     "text": [
      "Reading time = 0.27 seconds\n"
     ]
    },
    {
     "name": "stderr",
     "output_type": "stream",
     "text": [
      "INFO:gurobipy:Reading time = 0.27 seconds\n"
     ]
    },
    {
     "name": "stdout",
     "output_type": "stream",
     "text": [
      "obj: 113888 rows, 52566 columns, 232280 nonzeros\n"
     ]
    },
    {
     "name": "stderr",
     "output_type": "stream",
     "text": [
      "INFO:gurobipy:obj: 113888 rows, 52566 columns, 232280 nonzeros\n"
     ]
    },
    {
     "name": "stdout",
     "output_type": "stream",
     "text": [
      "Set parameter LogToConsole to value 0\n"
     ]
    },
    {
     "name": "stderr",
     "output_type": "stream",
     "text": [
      "INFO:gurobipy:Set parameter LogToConsole to value 0\n",
      "INFO:gurobipy:Gurobi Optimizer version 12.0.1 build v12.0.1rc0 (win64 - Windows 11.0 (22631.2))\n",
      "INFO:gurobipy:\n",
      "INFO:gurobipy:CPU model: AMD Ryzen 7 5700U with Radeon Graphics, instruction set [SSE2|AVX|AVX2]\n",
      "INFO:gurobipy:Thread count: 8 physical cores, 16 logical processors, using up to 16 threads\n",
      "INFO:gurobipy:\n",
      "INFO:gurobipy:Non-default parameters:\n",
      "INFO:gurobipy:LogToConsole  0\n",
      "INFO:gurobipy:\n",
      "INFO:gurobipy:Optimize a model with 113888 rows, 52566 columns and 232280 nonzeros\n",
      "INFO:gurobipy:Model fingerprint: 0xa4b41391\n",
      "INFO:gurobipy:Coefficient statistics:\n",
      "INFO:gurobipy:  Matrix range     [1e-03, 3e+00]\n",
      "INFO:gurobipy:  Objective range  [9e+00, 7e+05]\n",
      "INFO:gurobipy:  Bounds range     [0e+00, 0e+00]\n",
      "INFO:gurobipy:  RHS range        [2e+04, 7e+07]\n",
      "INFO:gurobipy:Presolve removed 56812 rows and 4246 columns\n",
      "INFO:gurobipy:Presolve time: 0.15s\n",
      "INFO:gurobipy:Presolved: 57076 rows, 48320 columns, 171222 nonzeros\n",
      "INFO:gurobipy:\n",
      "INFO:gurobipy:Concurrent LP optimizer: primal simplex, dual simplex, and barrier\n",
      "INFO:gurobipy:Showing barrier log only...\n",
      "INFO:gurobipy:\n",
      "INFO:gurobipy:Ordering time: 0.02s\n",
      "INFO:gurobipy:\n",
      "INFO:gurobipy:Barrier statistics:\n",
      "INFO:gurobipy: Dense cols : 6\n",
      "INFO:gurobipy: AA' NZ     : 1.404e+05\n",
      "INFO:gurobipy: Factor NZ  : 6.467e+05 (roughly 50 MB of memory)\n",
      "INFO:gurobipy: Factor Ops : 7.560e+06 (less than 1 second per iteration)\n",
      "INFO:gurobipy: Threads    : 6\n",
      "INFO:gurobipy:\n",
      "INFO:gurobipy:                  Objective                Residual\n",
      "INFO:gurobipy:Iter       Primal          Dual         Primal    Dual     Compl     Time\n",
      "INFO:gurobipy:   0   2.60092363e+12  0.00000000e+00  1.34e+10 0.00e+00  1.41e+09     0s\n",
      "INFO:gurobipy:   1   2.92670115e+12 -4.53733988e+11  2.46e+09 3.13e+02  3.40e+08     0s\n",
      "INFO:gurobipy:   2   2.23106403e+12 -5.64198974e+11  6.43e+07 2.47e-10  2.24e+07     0s\n",
      "INFO:gurobipy:   3   3.18657200e+11 -1.61821533e+11  7.37e+06 3.54e-09  3.53e+06     1s\n",
      "INFO:gurobipy:   4   1.41909573e+11 -6.66445943e+10  2.86e+06 2.46e-09  1.49e+06     1s\n",
      "INFO:gurobipy:   5   8.36973806e+10 -1.94591598e+10  1.48e+06 2.10e-09  7.25e+05     1s\n",
      "INFO:gurobipy:   6   6.86897042e+10 -1.57142968e+10  1.14e+06 2.67e-09  5.92e+05     1s\n",
      "INFO:gurobipy:   7   4.80738230e+10 -4.71722722e+09  6.47e+05 6.33e-10  3.68e+05     1s\n",
      "INFO:gurobipy:   8   4.61212663e+10 -1.31398858e+09  5.95e+05 1.16e-09  3.31e+05     1s\n",
      "INFO:gurobipy:   9   3.85920343e+10  5.59065997e+09  3.82e+05 2.87e-10  2.29e+05     1s\n",
      "INFO:gurobipy:  10   3.35897921e+10  1.14679509e+10  2.50e+05 6.04e-10  1.54e+05     1s\n",
      "INFO:gurobipy:  11   3.24074416e+10  1.31890532e+10  2.22e+05 3.17e-10  1.33e+05     1s\n",
      "INFO:gurobipy:  12   3.11442731e+10  1.57481881e+10  1.95e+05 6.84e-10  1.07e+05     1s\n",
      "INFO:gurobipy:  13   2.93575977e+10  1.75570630e+10  1.49e+05 1.45e-11  8.18e+04     1s\n",
      "INFO:gurobipy:  14   2.79175174e+10  1.93119876e+10  1.13e+05 7.08e-10  5.97e+04     1s\n",
      "INFO:gurobipy:  15   2.58843225e+10  2.02645153e+10  4.88e+04 6.97e-10  3.89e+04     1s\n",
      "INFO:gurobipy:  16   2.53359182e+10  2.09470253e+10  3.30e+04 7.94e-10  3.04e+04     1s\n",
      "INFO:gurobipy:  17   2.50884601e+10  2.18500590e+10  2.56e+04 1.87e-10  2.24e+04     1s\n",
      "INFO:gurobipy:  18   2.48598196e+10  2.25831254e+10  2.00e+04 2.50e-10  1.58e+04     1s\n",
      "INFO:gurobipy:  19   2.46169991e+10  2.29490123e+10  1.35e+04 1.87e-10  1.15e+04     1s\n",
      "INFO:gurobipy:  20   2.44530441e+10  2.31539029e+10  9.08e+03 4.25e-10  8.98e+03     1s\n",
      "INFO:gurobipy:  21   2.43844993e+10  2.34531142e+10  7.16e+03 1.29e-09  6.44e+03     1s\n",
      "INFO:gurobipy:  22   2.42630431e+10  2.35739787e+10  4.17e+03 2.96e-09  4.76e+03     1s\n",
      "INFO:gurobipy:  23   2.42292082e+10  2.36985622e+10  3.34e+03 3.12e-09  3.67e+03     1s\n",
      "INFO:gurobipy:  24   2.41821381e+10  2.38146257e+10  2.22e+03 2.73e-09  2.54e+03     2s\n",
      "INFO:gurobipy:  25   2.41502143e+10  2.38962191e+10  1.48e+03 2.23e-09  1.76e+03     2s\n",
      "INFO:gurobipy:  26   2.41336995e+10  2.39408058e+10  1.10e+03 1.94e-09  1.33e+03     2s\n",
      "INFO:gurobipy:  27   2.41111241e+10  2.39831693e+10  5.95e+02 9.77e-10  8.84e+02     2s\n",
      "INFO:gurobipy:  28   2.41037250e+10  2.40042150e+10  4.36e+02 1.10e-09  6.87e+02     2s\n",
      "INFO:gurobipy:  29   2.40984473e+10  2.40252309e+10  3.24e+02 4.07e-09  5.06e+02     2s\n",
      "INFO:gurobipy:  30   2.40917771e+10  2.40310220e+10  1.86e+02 2.66e-09  4.20e+02     2s\n",
      "INFO:gurobipy:  31   2.40890678e+10  2.40507699e+10  1.33e+02 2.53e-09  2.65e+02     2s\n",
      "INFO:gurobipy:  32   2.40869324e+10  2.40559577e+10  9.14e+01 3.43e-09  2.14e+02     2s\n",
      "INFO:gurobipy:  33   2.40852027e+10  2.40583133e+10  6.14e+01 2.86e-09  1.86e+02     2s\n",
      "INFO:gurobipy:  34   2.40837786e+10  2.40639250e+10  3.38e+01 2.56e-09  1.37e+02     2s\n",
      "INFO:gurobipy:  35   2.40830584e+10  2.40703239e+10  2.11e+01 1.44e-09  8.79e+01     2s\n",
      "INFO:gurobipy:  36   2.40826760e+10  2.40728549e+10  1.45e+01 2.65e-09  6.78e+01     2s\n",
      "INFO:gurobipy:  37   2.40823352e+10  2.40744775e+10  8.92e+00 2.98e-09  5.42e+01     2s\n",
      "INFO:gurobipy:  38   2.40821887e+10  2.40750266e+10  6.97e+00 2.41e-09  4.94e+01     2s\n",
      "INFO:gurobipy:  39   2.40820940e+10  2.40758885e+10  5.46e+00 3.04e-09  4.28e+01     2s\n",
      "INFO:gurobipy:  40   2.40818806e+10  2.40783589e+10  2.18e+00 2.64e-09  2.43e+01     2s\n",
      "INFO:gurobipy:  41   2.40817076e+10  2.40794671e+10  4.93e-02 2.11e-09  1.55e+01     2s\n",
      "INFO:gurobipy:  42   2.40816902e+10  2.40799155e+10  2.86e-02 1.61e-09  1.22e+01     2s\n",
      "INFO:gurobipy:  43   2.40816803e+10  2.40800276e+10  1.71e-02 1.65e-09  1.14e+01     2s\n",
      "INFO:gurobipy:  44   2.40816755e+10  2.40806360e+10  1.15e-02 8.87e-10  7.17e+00     2s\n",
      "INFO:gurobipy:  45   2.40816816e+10  2.40807515e+10  5.33e-03 7.43e-10  6.42e+00     3s\n",
      "INFO:gurobipy:  46   2.40816715e+10  2.40812666e+10  1.84e-03 1.11e-08  2.79e+00     3s\n",
      "INFO:gurobipy:  47   2.40816660e+10  2.40816616e+10  1.76e-04 1.00e-08  3.04e-02     3s\n",
      "INFO:gurobipy:  48   2.40816639e+10  2.40816638e+10  3.49e-06 4.08e-10  7.52e-04     3s\n",
      "INFO:gurobipy:  49   2.40816639e+10  2.40816639e+10  1.53e-10 5.49e-09  7.12e-07     3s\n",
      "INFO:gurobipy:  50   2.40816639e+10  2.40816639e+10  2.99e-06 1.34e-08  2.28e-12     3s\n",
      "INFO:gurobipy:\n",
      "INFO:gurobipy:Barrier solved model in 50 iterations and 2.82 seconds (1.11 work units)\n",
      "INFO:gurobipy:Optimal objective 2.40816639e+10\n",
      "INFO:gurobipy:\n",
      "INFO:gurobipy:Crossover log...\n",
      "INFO:gurobipy:\n",
      "INFO:gurobipy:    8769 DPushes remaining with DInf 0.0000000e+00                 3s\n",
      "INFO:gurobipy:       0 DPushes remaining with DInf 0.0000000e+00                 3s\n",
      "INFO:gurobipy:Warning: Markowitz tolerance tightened to 0.5\n",
      "INFO:gurobipy:\n",
      "INFO:gurobipy:     879 PPushes remaining with PInf 0.0000000e+00                 3s\n",
      "INFO:gurobipy:       0 PPushes remaining with PInf 0.0000000e+00                 3s\n",
      "INFO:gurobipy:\n",
      "INFO:gurobipy:  Push phase complete: Pinf 0.0000000e+00, Dinf 6.4716957e-08      3s\n",
      "INFO:gurobipy:\n",
      "INFO:gurobipy:\n",
      "INFO:gurobipy:Solved with barrier\n",
      "INFO:gurobipy:Iteration    Objective       Primal Inf.    Dual Inf.      Time\n",
      "INFO:gurobipy:     892    2.4081664e+10   0.000000e+00   0.000000e+00      4s\n",
      "INFO:gurobipy:\n",
      "INFO:gurobipy:Solved in 892 iterations and 3.51 seconds (2.14 work units)\n",
      "INFO:gurobipy:Optimal objective  2.408166386e+10\n",
      "INFO:linopy.constants: Optimization successful: \n",
      "Status: ok\n",
      "Termination condition: optimal\n",
      "Solution: 52566 primals, 113888 duals\n",
      "Objective: 2.41e+10\n",
      "Solver model: available\n",
      "Solver message: 2\n",
      "\n",
      "INFO:pypsa.optimization.optimize:The shadow-prices of the constraints Generator-ext-p-lower, Generator-ext-p-upper were not assigned to the network.\n"
     ]
    },
    {
     "name": "stdout",
     "output_type": "stream",
     "text": [
      "Solved for year 2009, objective = 24.08 billion EUR\n",
      "processing year 2014\n"
     ]
    },
    {
     "name": "stderr",
     "output_type": "stream",
     "text": [
      "WARNING:pypsa.consistency:The following buses have carriers which are not defined:\n",
      "Index(['GBR electricity bus'], dtype='object', name='Bus')\n",
      "WARNING:pypsa.consistency:The following loads have carriers which are not defined:\n",
      "Index(['GBR electricity load'], dtype='object', name='Load')\n",
      "INFO:linopy.model: Solve problem using Gurobi solver\n",
      "INFO:linopy.model:Solver options:\n",
      " - LogToConsole: 0\n",
      "INFO:linopy.io:Writing objective.\n",
      "Writing constraints.: 100%|\u001b[38;2;128;191;255m██████████\u001b[0m| 7/7 [00:01<00:00,  6.76it/s]\n",
      "Writing continuous variables.: 100%|\u001b[38;2;128;191;255m██████████\u001b[0m| 2/2 [00:00<00:00,  9.42it/s]\n",
      "INFO:linopy.io: Writing time: 1.37s\n"
     ]
    },
    {
     "name": "stdout",
     "output_type": "stream",
     "text": [
      "Set parameter Username\n"
     ]
    },
    {
     "name": "stderr",
     "output_type": "stream",
     "text": [
      "INFO:gurobipy:Set parameter Username\n"
     ]
    },
    {
     "name": "stdout",
     "output_type": "stream",
     "text": [
      "Academic license - for non-commercial use only - expires 2026-02-18\n"
     ]
    },
    {
     "name": "stderr",
     "output_type": "stream",
     "text": [
      "INFO:gurobipy:Academic license - for non-commercial use only - expires 2026-02-18\n"
     ]
    },
    {
     "name": "stdout",
     "output_type": "stream",
     "text": [
      "Read LP format model from file C:\\Users\\cwitt\\AppData\\Local\\Temp\\linopy-problem-g9ale5gn.lp\n"
     ]
    },
    {
     "name": "stderr",
     "output_type": "stream",
     "text": [
      "INFO:gurobipy:Read LP format model from file C:\\Users\\cwitt\\AppData\\Local\\Temp\\linopy-problem-g9ale5gn.lp\n"
     ]
    },
    {
     "name": "stdout",
     "output_type": "stream",
     "text": [
      "Reading time = 0.28 seconds\n"
     ]
    },
    {
     "name": "stderr",
     "output_type": "stream",
     "text": [
      "INFO:gurobipy:Reading time = 0.28 seconds\n"
     ]
    },
    {
     "name": "stdout",
     "output_type": "stream",
     "text": [
      "obj: 113888 rows, 52566 columns, 232288 nonzeros\n"
     ]
    },
    {
     "name": "stderr",
     "output_type": "stream",
     "text": [
      "INFO:gurobipy:obj: 113888 rows, 52566 columns, 232288 nonzeros\n"
     ]
    },
    {
     "name": "stdout",
     "output_type": "stream",
     "text": [
      "Set parameter LogToConsole to value 0\n"
     ]
    },
    {
     "name": "stderr",
     "output_type": "stream",
     "text": [
      "INFO:gurobipy:Set parameter LogToConsole to value 0\n",
      "INFO:gurobipy:Gurobi Optimizer version 12.0.1 build v12.0.1rc0 (win64 - Windows 11.0 (22631.2))\n",
      "INFO:gurobipy:\n",
      "INFO:gurobipy:CPU model: AMD Ryzen 7 5700U with Radeon Graphics, instruction set [SSE2|AVX|AVX2]\n",
      "INFO:gurobipy:Thread count: 8 physical cores, 16 logical processors, using up to 16 threads\n",
      "INFO:gurobipy:\n",
      "INFO:gurobipy:Non-default parameters:\n",
      "INFO:gurobipy:LogToConsole  0\n",
      "INFO:gurobipy:\n",
      "INFO:gurobipy:Optimize a model with 113888 rows, 52566 columns and 232288 nonzeros\n",
      "INFO:gurobipy:Model fingerprint: 0x5d0cf5fc\n",
      "INFO:gurobipy:Coefficient statistics:\n",
      "INFO:gurobipy:  Matrix range     [1e-03, 3e+00]\n",
      "INFO:gurobipy:  Objective range  [9e+00, 7e+05]\n",
      "INFO:gurobipy:  Bounds range     [0e+00, 0e+00]\n",
      "INFO:gurobipy:  RHS range        [2e+04, 7e+07]\n",
      "INFO:gurobipy:Presolve removed 56804 rows and 4238 columns\n",
      "INFO:gurobipy:Presolve time: 0.17s\n",
      "INFO:gurobipy:Presolved: 57084 rows, 48328 columns, 171246 nonzeros\n",
      "INFO:gurobipy:\n",
      "INFO:gurobipy:Concurrent LP optimizer: primal simplex, dual simplex, and barrier\n",
      "INFO:gurobipy:Showing barrier log only...\n",
      "INFO:gurobipy:\n",
      "INFO:gurobipy:Ordering time: 0.01s\n",
      "INFO:gurobipy:\n",
      "INFO:gurobipy:Barrier statistics:\n",
      "INFO:gurobipy: Dense cols : 6\n",
      "INFO:gurobipy: AA' NZ     : 1.404e+05\n",
      "INFO:gurobipy: Factor NZ  : 6.469e+05 (roughly 50 MB of memory)\n",
      "INFO:gurobipy: Factor Ops : 7.563e+06 (less than 1 second per iteration)\n",
      "INFO:gurobipy: Threads    : 6\n",
      "INFO:gurobipy:\n",
      "INFO:gurobipy:                  Objective                Residual\n",
      "INFO:gurobipy:Iter       Primal          Dual         Primal    Dual     Compl     Time\n",
      "INFO:gurobipy:   0   2.60182529e+12  0.00000000e+00  1.34e+10 0.00e+00  1.41e+09     0s\n",
      "INFO:gurobipy:   1   3.00402417e+12 -4.14111327e+11  2.45e+09 3.60e+02  3.70e+08     0s\n",
      "INFO:gurobipy:   2   2.38313268e+12 -5.70289407e+11  7.82e+07 2.04e-09  2.42e+07     0s\n",
      "INFO:gurobipy:   3   3.26870268e+11 -1.68872775e+11  8.38e+06 3.81e-10  3.67e+06     0s\n",
      "INFO:gurobipy:   4   1.45865913e+11 -8.99261599e+10  3.20e+06 3.53e-10  1.69e+06     1s\n",
      "INFO:gurobipy:   5   8.45937010e+10 -3.22473204e+10  1.59e+06 2.81e-10  8.24e+05     1s\n",
      "INFO:gurobipy:   6   5.71401876e+10 -1.98682373e+10  8.91e+05 2.11e-10  5.39e+05     1s\n",
      "INFO:gurobipy:   7   5.52927611e+10 -8.81172630e+09  8.49e+05 3.37e-10  4.48e+05     1s\n",
      "INFO:gurobipy:   8   4.86436664e+10 -4.72694869e+09  6.78e+05 3.37e-11  3.72e+05     1s\n",
      "INFO:gurobipy:   9   3.81297547e+10  4.03818028e+09  4.01e+05 7.42e-10  2.37e+05     1s\n",
      "INFO:gurobipy:  10   3.47231297e+10  1.11816246e+10  3.12e+05 1.63e-10  1.64e+05     1s\n",
      "INFO:gurobipy:  11   3.18740365e+10  1.39328405e+10  2.44e+05 1.67e-10  1.25e+05     1s\n",
      "INFO:gurobipy:  12   3.08945973e+10  1.58480740e+10  2.14e+05 4.59e-11  1.04e+05     1s\n",
      "INFO:gurobipy:  13   2.98641026e+10  1.77578997e+10  1.87e+05 2.59e-10  8.41e+04     1s\n",
      "INFO:gurobipy:  14   2.86885253e+10  1.88943221e+10  1.51e+05 1.97e-10  6.80e+04     1s\n",
      "INFO:gurobipy:  15   2.71898176e+10  1.97484529e+10  1.03e+05 2.47e-10  5.16e+04     1s\n",
      "INFO:gurobipy:  16   2.65003034e+10  2.05738975e+10  7.88e+04 9.60e-11  4.11e+04     1s\n",
      "INFO:gurobipy:  17   2.59042434e+10  2.18970679e+10  5.96e+04 3.66e-10  2.78e+04     1s\n",
      "INFO:gurobipy:  18   2.55639614e+10  2.21392624e+10  4.76e+04 2.61e-10  2.37e+04     1s\n",
      "INFO:gurobipy:  19   2.51548155e+10  2.28482100e+10  3.36e+04 4.70e-10  1.60e+04     1s\n",
      "INFO:gurobipy:  20   2.50090190e+10  2.31845168e+10  2.86e+04 1.06e-09  1.26e+04     1s\n",
      "INFO:gurobipy:  21   2.47165143e+10  2.34745610e+10  1.86e+04 2.22e-09  8.61e+03     1s\n",
      "INFO:gurobipy:  22   2.45821499e+10  2.36626266e+10  1.40e+04 1.64e-09  6.37e+03     1s\n",
      "INFO:gurobipy:  23   2.44678610e+10  2.37992479e+10  9.99e+03 9.87e-09  4.63e+03     1s\n",
      "INFO:gurobipy:  24   2.43773590e+10  2.39174477e+10  7.05e+03 9.22e-09  3.19e+03     1s\n",
      "INFO:gurobipy:  25   2.43149071e+10  2.39808253e+10  5.17e+03 7.74e-09  2.32e+03     2s\n",
      "INFO:gurobipy:  26   2.42492058e+10  2.40369157e+10  3.01e+03 6.38e-09  1.47e+03     2s\n",
      "INFO:gurobipy:  27   2.42280241e+10  2.40575821e+10  2.34e+03 5.44e-09  1.18e+03     2s\n",
      "INFO:gurobipy:  28   2.42168243e+10  2.40844749e+10  1.98e+03 5.63e-09  9.17e+02     2s\n",
      "INFO:gurobipy:  29   2.41890137e+10  2.41080141e+10  1.07e+03 7.55e-09  5.61e+02     2s\n",
      "INFO:gurobipy:  30   2.41698746e+10  2.41218769e+10  4.73e+02 4.99e-09  3.32e+02     2s\n",
      "INFO:gurobipy:  31   2.41620031e+10  2.41356376e+10  2.37e+02 7.96e-09  1.82e+02     2s\n",
      "INFO:gurobipy:  32   2.41574370e+10  2.41413578e+10  1.03e+02 4.55e-09  1.11e+02     2s\n",
      "INFO:gurobipy:  33   2.41557065e+10  2.41486741e+10  5.37e+01 1.07e-09  4.86e+01     2s\n",
      "INFO:gurobipy:  34   2.41545958e+10  2.41503308e+10  2.37e+01 6.59e-10  2.95e+01     2s\n",
      "INFO:gurobipy:  35   2.41542149e+10  2.41520516e+10  1.37e+01 7.21e-10  1.50e+01     2s\n",
      "INFO:gurobipy:  36   2.41536870e+10  2.41533132e+10  5.49e-01 3.42e-10  2.58e+00     2s\n",
      "INFO:gurobipy:  37   2.41536588e+10  2.41536192e+10  1.24e-06 7.03e-10  2.74e-01     2s\n",
      "INFO:gurobipy:  38   2.41536580e+10  2.41536302e+10  3.42e-09 2.21e-10  1.92e-01     2s\n",
      "INFO:gurobipy:  39   2.41536580e+10  2.41536417e+10  1.87e-09 3.82e-10  1.13e-01     2s\n",
      "INFO:gurobipy:  40   2.41536579e+10  2.41536579e+10  5.29e-06 5.10e-10  1.91e-04     2s\n",
      "INFO:gurobipy:  41   2.41536579e+10  2.41536579e+10  5.44e-07 6.29e-09  4.17e-10     2s\n",
      "INFO:gurobipy:\n",
      "INFO:gurobipy:Barrier solved model in 41 iterations and 2.19 seconds (0.91 work units)\n",
      "INFO:gurobipy:Optimal objective 2.41536579e+10\n",
      "INFO:gurobipy:\n",
      "INFO:gurobipy:Crossover log...\n",
      "INFO:gurobipy:\n",
      "INFO:gurobipy:    8772 DPushes remaining with DInf 0.0000000e+00                 2s\n",
      "INFO:gurobipy:       0 DPushes remaining with DInf 0.0000000e+00                 2s\n",
      "INFO:gurobipy:Warning: Markowitz tolerance tightened to 0.5\n",
      "INFO:gurobipy:\n",
      "INFO:gurobipy:     738 PPushes remaining with PInf 0.0000000e+00                 2s\n",
      "INFO:gurobipy:       0 PPushes remaining with PInf 0.0000000e+00                 3s\n",
      "INFO:gurobipy:\n",
      "INFO:gurobipy:  Push phase complete: Pinf 0.0000000e+00, Dinf 6.3002521e-08      3s\n",
      "INFO:gurobipy:\n",
      "INFO:gurobipy:\n",
      "INFO:gurobipy:Solved with barrier\n",
      "INFO:gurobipy:Iteration    Objective       Primal Inf.    Dual Inf.      Time\n",
      "INFO:gurobipy:     754    2.4153658e+10   0.000000e+00   0.000000e+00      3s\n",
      "INFO:gurobipy:\n",
      "INFO:gurobipy:Solved in 754 iterations and 2.81 seconds (2.05 work units)\n",
      "INFO:gurobipy:Optimal objective  2.415365788e+10\n",
      "INFO:linopy.constants: Optimization successful: \n",
      "Status: ok\n",
      "Termination condition: optimal\n",
      "Solution: 52566 primals, 113888 duals\n",
      "Objective: 2.42e+10\n",
      "Solver model: available\n",
      "Solver message: 2\n",
      "\n",
      "INFO:pypsa.optimization.optimize:The shadow-prices of the constraints Generator-ext-p-lower, Generator-ext-p-upper were not assigned to the network.\n"
     ]
    },
    {
     "name": "stdout",
     "output_type": "stream",
     "text": [
      "Solved for year 2014, objective = 24.15 billion EUR\n"
     ]
    },
    {
     "data": {
      "image/png": "[encoded data removed]",
      "text/plain": [
       "<Figure size 1000x600 with 1 Axes>"
      ]
     },
     "metadata": {},
     "output_type": "display_data"
    },
    {
     "data": {
      "image/png": "[encoded data removed]",
      "text/plain": [
       "<Figure size 1000x600 with 1 Axes>"
      ]
     },
     "metadata": {},
     "output_type": "display_data"
    }
   ],
   "source": [
    "\n",
    "#Create new snapshots for years \n",
    "\n",
    "years_c = range(1979, 2018, 5)\n",
    "\n",
    "results_C = {}\n",
    "\n",
    "\n",
    "# Preload and filter data once\n",
    "df_onshorewind = pd.read_csv('data/onshore_wind_1979-2017.csv', sep=';', index_col=0)\n",
    "df_onshorewind.index = pd.to_datetime(df_onshorewind.index)\n",
    "\n",
    "df_solar = pd.read_csv('data/pv_optimal.csv', sep=';', index_col=0)\n",
    "df_solar.index = pd.to_datetime(df_solar.index)\n",
    "\n",
    "# Save original 2015 snapshots and demand\n",
    "original_snapshots = network.snapshots.copy()\n",
    "original_load = network.loads_t.p_set.copy()\n",
    "\n",
    "for year in years_c:\n",
    "    print(f\"processing year {year}\")\n",
    "\n",
    "    #Create a copy of the original network\n",
    "    network_year = network.copy(network.snapshots)\n",
    "\n",
    "     #Set snapshots to 2015 again\n",
    "    network_year.set_snapshots(original_snapshots)\n",
    "\n",
    "    #Restore 2015 demand (loads)\n",
    "    network_year.loads_t.p_set = original_load.copy()\n",
    "\n",
    "    # Load correct solar and wind CFs for the target year\n",
    "    CF_wind = df_onshorewind[country][[hour.strftime(f\"{year}-%m-%dT%H:%M:%SZ\") for hour in network_year.snapshots]]\n",
    "    CF_solar = df_solar[country][[hour.strftime(f\"{year}-%m-%dT%H:%M:%SZ\") for hour in network_year.snapshots]]\n",
    "\n",
    "\n",
    "# Update generator capacity factors\n",
    "    for tech in VRE_techs:\n",
    "        network_year.generators_t.p_max_pu[tech] = CF_wind.values if tech == \"onshorewind\" else CF_solar.values\n",
    "    \n",
    "    network_year.add(\n",
    "    \"GlobalConstraint\",\n",
    "    \"CO2Limit\",\n",
    "    carrier_attribute=\"co2_emissions\",\n",
    "    sense=\"<=\",\n",
    "    constant=CO2_limit_UK * 1e6,  # in tons\n",
    "    overwrite=True\n",
    "    )   \n",
    "\n",
    "    network_year.optimize(solver_name='gurobi', solver_options={\"LogToConsole\": 0})\n",
    "    print(f\"Solved for year {year}, objective = {network_year.objective / 1e9:.2f} billion EUR\")\n",
    "\n",
    "\n",
    "    # Store results (e.g., capacities, generation mix)\n",
    "    results_C[year] = {\n",
    "        \"capacities\": network_year.generators.p_nom_opt.copy(),\n",
    "        \"generation_mix\": network_year.generators_t.p.sum(axis=0).copy(),\n",
    "        \"co2_emissions\": network_year.global_constraints.loc[\"CO2Limit\", \"constant\"] - network_year.global_constraints.mu[\"CO2Limit\"]\n",
    "    }\n",
    "\n",
    "    \n",
    "    # Clear memory\n",
    "    del network_year\n",
    "    gc.collect()\n",
    "\n",
    "\n",
    "    # Convert results_C to DataFrame for easy plotting\n",
    "results_df = pd.DataFrame({year: results_C[year][\"capacities\"] for year in years_c})\n",
    "\n",
    "\n",
    "# Calculate the average capacity across years for each generator\n",
    "average_capacities = results_df.mean(axis=1)\n",
    "variability = results_df.std(axis=1)\n",
    "\n",
    "# Plot average capacities\n",
    "plt.figure(figsize=(10, 6))\n",
    "average_capacities.plot(kind=\"bar\", color=\"skyblue\", yerr=variability, capsize=4)\n",
    "plt.xlabel('Generators')\n",
    "plt.ylabel('Average Capacity (MW)')\n",
    "plt.title('Average Generator Capacities Across Different Weather Years')\n",
    "plt.xticks(rotation=45)\n",
    "plt.tight_layout()\n",
    "plt.show()\n",
    "\n",
    "# Plot variability (standard deviation) of capacities\n",
    "plt.figure(figsize=(10, 6))\n",
    "variability.plot(kind=\"bar\", color=\"lightcoral\")\n",
    "plt.xlabel('Generators')\n",
    "plt.ylabel('Variability (MW)')\n",
    "plt.title('Variability of Generator Capacities Across Different Weather Years')\n",
    "plt.xticks(rotation=45)\n",
    "plt.tight_layout()\n",
    "plt.show()"
   ]
  },
  {
   "cell_type": "markdown",
   "metadata": {},
   "source": [
    "# D: Add storage technologies - diurnal and seasonal\n",
    "### Add some storage technology/ies and investigate how they behave and what their impact is on the optimal system configuration. Discuss what strategies is your system using to balance the renewable generation at different time scales (intraday, seasonal, etc.)"
   ]
  },
  {
   "cell_type": "code",
   "execution_count": null,
   "metadata": {},
   "outputs": [],
   "source": [
    "network_D = network.copy(network.snapshots)\n",
    "network.objective / 10**9, network_B.objective / 10 ** 9\n",
    "\n",
    "# Adding the CO2 constraints:\n",
    "network_D.add(\n",
    "    \"GlobalConstraint\",\n",
    "    \"CO2Limit\",\n",
    "    carrier_attribute=\"co2_emissions\",\n",
    "    sense=\"<=\",\n",
    "    constant=CO2_limit_UK * 1e6,  # tCO2\n",
    "    overwrite=True\n",
    ")"
   ]
  },
  {
   "cell_type": "code",
   "execution_count": null,
   "metadata": {},
   "outputs": [],
   "source": [
    "# All capital costs are from the 2025 version of the \n",
    "# Technology Catalogue for 'Energy Storage' (DEA)\n",
    "# https://ens.dk/en/analyses-and-statistics/technology-catalogues\n",
    "\n",
    "# StorageUnits:\n",
    "# Molten salt carnot battery '143b'\n",
    "# Li-ion '180'\n",
    "# Vanadium redox battery '181'\n",
    "\n",
    "techs_labels_storageunits = ['Carnot battery (Molten salt)', 'Li-ion battery', ' Vanadium rfb']\n",
    "Crates = np.array([50/800, 3.5/7, 0.5/2]) # MW / MWh\n",
    "capital_costs_storageunits_MWh = np.array([0.063, 0.66, 0.37]) * 1e6 # M€/MWh\n",
    "capital_costs_storageunits = capital_costs_storageunits_MWh / Crates # M€/MW\n",
    "lifetimes_storageunits = np.array([25, 25, 20]) # years\n",
    "dict_capital_costs_annualized_storageunits = {\n",
    "    storage:f.annuity(lifetime, 0.07)*cost*(1+0.03)\n",
    "    for storage, cost, lifetime in zip(techs_labels_storageunits,\n",
    "                                       capital_costs_storageunits,\n",
    "                                       lifetimes_storageunits)\n",
    "    }\n",
    "\n",
    "efficiencies_in = {storage: eff for storage, eff in zip(techs_labels_storageunits,\n",
    "                                                        [np.sqrt(0.3),\n",
    "                                                         np.sqrt(0.92),\n",
    "                                                         np.sqrt(0.78)])}\n",
    "efficiencies_out = {storage: eff for storage, eff in zip(techs_labels_storageunits,\n",
    "                                                        [np.sqrt(0.3),\n",
    "                                                         np.sqrt(0.92),\n",
    "                                                         np.sqrt(0.78)])}\n",
    "hourly_losses = {storage: loss for storage, loss in zip(techs_labels_storageunits,\n",
    "                                                        np.array([0.9,\n",
    "                                                                  0.1,\n",
    "                                                                  0.0])/100/24)}\n",
    "# the above units are converted [%/day] * 1/100/24 -> [p.u./h]\n",
    "# no standing losses are given for the Vanadium redox flow battery...\n",
    "\n",
    "# add the storage units\n",
    "for i, storage in enumerate(techs_labels_storageunits):\n",
    "    network_D.add(\"StorageUnit\",\n",
    "                    storage,\n",
    "                    bus=f\"{country} electricity bus\",\n",
    "                    p_nom_extendable=True,\n",
    "                    carrier=\"electricity\",\n",
    "                    capital_cost=dict_capital_costs_annualized_storageunits[storage],\n",
    "                    efficiency_store=efficiencies_in[storage],\n",
    "                    efficiency_dispatch=efficiencies_out[storage],\n",
    "                    max_hours=1/Crates[i],\n",
    "                    cyclic_state_of_charge=True,\n",
    "                    standing_loss=hourly_losses[storage],  # <- this value quantitatively indicates whether storage is diurnal/seasonal\n",
    "                    overwrite=True) # for re-running the code\n",
    "# network_D.storage_units"
   ]
  },
  {
   "cell_type": "code",
   "execution_count": null,
   "metadata": {},
   "outputs": [],
   "source": [
    "techs_labels_storageunits, capital_costs_storageunits_MWh, Crates, lifetimes_storageunits, efficiencies_in, efficiencies_out\n",
    "#techs_labels_storageunits, capital_costs_storageunits, dict_capital_costs_annualized_storageunits, hourly_losses"
   ]
  },
  {
   "cell_type": "code",
   "execution_count": null,
   "metadata": {},
   "outputs": [],
   "source": [
    "network_D.optimize(solver_name='gurobi', solver_options={\"env\": env})\n",
    "\n",
    "print(\"System costs in b€:\", network_D.objective / 10**9) #in 10^9 €\n",
    "print(\"GENERATOR capacities in GW: \", network_D.generators.p_nom_opt.div(1e3) ) # in GW\n",
    "print(\"STORAGE capacities in GW: \", network_D.storage_units.p_nom_opt.div(1e3) ) # in GW"
   ]
  },
  {
   "cell_type": "code",
   "execution_count": null,
   "metadata": {},
   "outputs": [],
   "source": [
    "sizes_D = [network_D.generators_t.p[tech].sum()\n",
    "         for tech in techs_labels]\n",
    "\n",
    "plt.pie(sizes_D,\n",
    "        colors=techs_colors,\n",
    "        labels=techs_labels,\n",
    "        wedgeprops={'linewidth':0})\n",
    "plt.axis('equal')\n",
    "\n",
    "plt.title('Electricity mix', y=1.07)\n",
    "plt.savefig('results/D/electricity_mix', dpi=500)"
   ]
  },
  {
   "cell_type": "code",
   "execution_count": null,
   "metadata": {},
   "outputs": [],
   "source": [
    "np.array(sizes_D) / 10**6, biomass_available / 10**6 * dict_efficiencies['biomass'] # in TWh. Compare the biomass used to the biomass available to verify if we are using everything\n"
   ]
  },
  {
   "cell_type": "code",
   "execution_count": null,
   "metadata": {},
   "outputs": [],
   "source": [
    "# Generator revenues and expenditures\n",
    "print(network_D.generators_t.p.multiply(network_D.buses_t.marginal_price.to_numpy()).sum().div(1e6))\n",
    "# Total expenditures by carriers\n",
    "print(\n",
    "( network_D.statistics.capex(groupby=\"carrier\").add(\n",
    "    network_D.statistics.opex(groupby=\"carrier\"), fill_value=0\n",
    "    )\n",
    ").div(1e6) # € -> M€\n",
    ")"
   ]
  },
  {
   "cell_type": "code",
   "execution_count": null,
   "metadata": {},
   "outputs": [],
   "source": [
    "# Storage units revenues and expenditures\n",
    "print(network_D.storage_units_t.p.multiply(network_D.buses_t.marginal_price.to_numpy()).sum().div(1e6)) # € -> M€\n",
    "[network_D.storage_units.p_nom_opt[storage]\n",
    " * dict_capital_costs_annualized_storageunits[storage]\n",
    " / 10**6 for storage in techs_labels_storageunits] # € -> M€"
   ]
  },
  {
   "cell_type": "code",
   "execution_count": null,
   "metadata": {},
   "outputs": [],
   "source": [
    "# emissions by CARRIER\n",
    "emissions = (\n",
    "    network_D.generators_t.p\n",
    "    / network_D.generators.efficiency\n",
    "    * network_D.generators.carrier.map(network_D.carriers.co2_emissions)\n",
    ").T.groupby(network_D.generators.carrier).sum().T  # t/h\n",
    "emissions.sum().div(1e6), emissions.sum().div(1e6).sum()  # tCO2 -> MtCO2"
   ]
  },
  {
   "cell_type": "code",
   "execution_count": null,
   "metadata": {},
   "outputs": [],
   "source": [
    "network_D.carriers.color"
   ]
  },
  {
   "cell_type": "code",
   "execution_count": null,
   "metadata": {},
   "outputs": [],
   "source": [
    "start_dates = [\"2015-01-01\", \"2015-07-01\"]\n",
    "end_dates = [\"2015-01-07\", \"2015-07-07\"]\n",
    "season = ['Winter', 'Summer']\n",
    "\n",
    "storage_colors = ['red', 'yellow','pink']\n",
    "\n",
    "fig, ax = plt.subplots(2,1,figsize=(12,6))\n",
    "for i in range(len(ax)):\n",
    "    network_D.generators_t.p.loc[start_dates[i]:end_dates[i]][VRE_techs].T.sum().plot(ax=ax[i], label=\"VRE (wind+PV)\", legend=False)\n",
    "    network_D.storage_units_t.p.loc[start_dates[i]:end_dates[i]].plot(ax=ax[i], legend=False, color=storage_colors)\n",
    "    network_D.loads_t.p.loc[start_dates[i]:end_dates[i]].plot(ax=ax[i], label=\"Load\", legend=False, color='black')\n",
    "    ax[i].legend(loc='best', fancybox=True, shadow=True, bbox_to_anchor=(1, 1), prop={'size': 10}, title=f\"{season[i]}\")\n",
    "    ax[i].set_ylabel('Power [MW]')\n",
    "    ax[i].set_xlabel('Time')\n",
    "plt.tight_layout()\n",
    "plt.savefig('results/D/dispatch', dpi=500)\n",
    "plt.show()\n"
   ]
  },
  {
   "cell_type": "code",
   "execution_count": null,
   "metadata": {},
   "outputs": [],
   "source": [
    "end_dates_hline = [\"2015-01-08\", \"2015-07-08\"]\n",
    "fig, ax = plt.subplots(2,1,figsize=(12,6))\n",
    "for i in range(len(ax)):\n",
    "    network_D.storage_units_t.state_of_charge.loc[start_dates[i]:end_dates[i]].plot(ax=ax[i], color=storage_colors, legend=False)\n",
    "    for j, storage in enumerate(techs_labels_storageunits):\n",
    "        ax[i].hlines(network_D.storage_units.p_nom_opt[storage] / Crates[j], xmin=start_dates[i], xmax=end_dates_hline[i], color=storage_colors[j], linestyle='--', label=f\"{storage} max\")\n",
    "    ax[i].legend(loc='best', fancybox=True, shadow=True, bbox_to_anchor=(1, 1), prop={'size': 10}, title=f\"{season[i]}\")\n",
    "    ax[i].set_ylabel('Energy [MWh]')\n",
    "    ax[i].set_xlabel('Time')\n",
    "plt.tight_layout()\n",
    "plt.savefig('results/D/SOC', dpi=500)\n",
    "plt.show()"
   ]
  },
  {
   "cell_type": "markdown",
   "metadata": {},
   "source": [
    "# Daily patterns"
   ]
  },
  {
   "cell_type": "code",
   "execution_count": null,
   "metadata": {},
   "outputs": [],
   "source": [
    "fig, ax = plt.subplots(figsize=(8,6))\n",
    "ax2 = ax.twinx()\n",
    "\n",
    "network_D.generators_t.p.loc[\"2015-01\"].plot.area(ax=ax, label=\"generators dispatch\")\n",
    "network_D.loads_t.p.loc[\"2015-01\"].plot(ax=ax, linestyle='--', color='y', label=\"demand\")\n",
    "(network_D.loads_t.p.loc[\"2015-01\"][f'{country} electricity load']\n",
    " - network_D.storage_units_t.p.loc[\"2015-01\"].T.sum()\n",
    " ).plot(ax=ax, linestyle='--', color='k', label=\"Demand excl. storage contributions\")\n",
    "\n",
    "network_D.buses_t.marginal_price.loc[\"2015-01\"][f\"{country} electricity bus\"].plot(ax=ax2, linestyle=':', color='cyan', label=\"Electricity price\", legend=False)\n",
    "ax2.set_ylabel('Price [€/MWh]')\n",
    "# ax2.set_ylim([0,70]) # -> uncomment to see prices properly\n",
    "\n",
    "h1, l1 = ax.get_legend_handles_labels()\n",
    "h2, l2 = ax2.get_legend_handles_labels()\n",
    "\n",
    "#ax2.get_legend().remove() if ax2.get_legend() else None\n",
    "ax.legend(h1+h2, l1+l2, loc=\"upper left\")\n",
    "plt.tight_layout()\n",
    "plt.show()"
   ]
  },
  {
   "cell_type": "markdown",
   "metadata": {},
   "source": [
    "### Before, the total generation was equal to the demand, though this is no longer the case because the storage technologies are not 100% efficient"
   ]
  },
  {
   "cell_type": "code",
   "execution_count": null,
   "metadata": {},
   "outputs": [],
   "source": [
    "print(\"Total generation before: \", network.generators_t.p.sum().div(1e6).sum(), \" TWh\")\n",
    "print(\"Total generation after: \", network_D.generators_t.p.sum().div(1e6).sum(), \" TWh\")\n",
    "print(\"Total demand: \", network.loads_t.p.sum().div(1e6).sum(), \" TWh\")"
   ]
  },
  {
   "cell_type": "code",
   "execution_count": null,
   "metadata": {},
   "outputs": [],
   "source": [
    "network.generators_t.p.sum().div(1e6), network_D.generators_t.p.sum().div(1e6) # TWh"
   ]
  },
  {
   "cell_type": "markdown",
   "metadata": {},
   "source": [
    "# Use patterns"
   ]
  },
  {
   "cell_type": "code",
   "execution_count": null,
   "metadata": {},
   "outputs": [],
   "source": [
    "fig, ax = plt.subplots(3,1,figsize=(8,6))\n",
    "\n",
    "hourly_idx=pd.to_datetime(network_D.storage_units_t.p.index).hour\n",
    "daily_idx=pd.to_datetime(network_D.storage_units_t.p.index).day_of_week\n",
    "monthly_idx=pd.to_datetime(network_D.storage_units_t.p.index).month\n",
    "\n",
    "dict_idx = {\n",
    "    \"hourly\": hourly_idx,\n",
    "    \"daily\": daily_idx,\n",
    "    \"monthly\": monthly_idx\n",
    "}\n",
    "\n",
    "for i, idx in enumerate(dict_idx):\n",
    "    network_D.storage_units_t.p.groupby(dict_idx[idx]).mean().plot(ax=ax[i], linewidth=1.5, label=\"storage (production)\")\n",
    "    ax[i].legend()\n",
    "plt.tight_layout()\n",
    "plt.show()"
   ]
  },
  {
   "cell_type": "markdown",
   "metadata": {},
   "source": [
    "##### **HOURLY**: There's a very clear hourly pattern.\n",
    "\n",
    "##### **DAILY**: Maybe there is a slight tendency towards charging more in the weekend to prepare for Monday\n",
    "\n",
    "##### **MONTHLY**: It seems that the battery may be charged through the Spring months and then discharged in October-November, however, this is not entirely clear from the plot above. In fact, when we consider the hourly loss of the Carnot battery, this actually sounds a little off. It is verified below that there is NO seasonal pattern."
   ]
  },
  {
   "cell_type": "code",
   "execution_count": null,
   "metadata": {},
   "outputs": [],
   "source": [
    "# Compare the generation before and after allowing storage:\n",
    "fig, ax = plt.subplots(3,1,figsize=(8,6))\n",
    "\n",
    "for i, idx in enumerate(dict_idx):\n",
    "    network.generators_t.p.groupby(dict_idx[idx]).sum().T.sum().plot(ax=ax[i], linewidth=1.5, label=\"generators \", legend=False)\n",
    "    network_D.generators_t.p.groupby(dict_idx[idx]).sum().T.sum().plot(ax=ax[i], linewidth=1.5, label=\"generators w/ STORAGE\", legend=False)\n",
    "    ax[i].legend()\n",
    "plt.tight_layout()\n",
    "plt.show()"
   ]
  },
  {
   "cell_type": "markdown",
   "metadata": {},
   "source": [
    "# E:\n",
    "### Select one target for decarbonization (i.e., one CO2 allowance limit). What is the CO2 price required to achieve that decarbonization level? Search for information on the existing CO2 tax in your country (if any) and discuss your results."
   ]
  },
  {
   "cell_type": "code",
   "execution_count": null,
   "metadata": {},
   "outputs": [],
   "source": [
    "#Select one target for decarbonization (i.e., one CO2 allowance limit). \n",
    "#CO2_limit_UK has been set in B. \n",
    "\n",
    "network_E = network.copy(network.snapshots)\n",
    "\n",
    "# Add the CO2 constraints:\n",
    "network_E.add(\n",
    "    \"GlobalConstraint\",\n",
    "    \"CO2Limit\",\n",
    "    carrier_attribute=\"co2_emissions\",\n",
    "    sense=\"<=\",\n",
    "    constant=CO2_limit_UK * 1e6,  # tCO2\n",
    "    overwrite=True\n",
    ")\n",
    "\n",
    "#What is the CO2 price required to achieve that decarbonization level?\n",
    "\n",
    "network_E.optimize(solver_name='gurobi', solver_options={\"env\": env})\n",
    "print(\"CO2 price in €/tCO2: \", - network_E.global_constraints.mu.values[0]) # in €/tCO2, '.values[0]' is simply formatting\n"
   ]
  },
  {
   "cell_type": "markdown",
   "metadata": {},
   "source": [
    "# F -> done in another file\n",
    "### Connect your country with, at least, two neighbouring countries. \n",
    "You can connect them using HVAC lines, HVDC links or gas pipelines. Use a linear representation of power flow or gas flow. \n",
    "You can assume that the generation capacities in the neighbouring countries are fixed or optimize the whole system. You can also include fixed interconnection capacities or optimize them with the generators' capacities. Discuss your results."
   ]
  },
  {
   "cell_type": "markdown",
   "metadata": {},
   "source": [
    "#### **We connect GBR to France and Norway**"
   ]
  }
 ],
 "metadata": {
  "kernelspec": {
   "display_name": "integrated-energy-grids",
   "language": "python",
   "name": "python3"
  },
  "language_info": {
   "codemirror_mode": {
    "name": "ipython",
    "version": 3
   },
   "file_extension": ".py",
   "mimetype": "text/x-python",
   "name": "python",
   "nbconvert_exporter": "python",
   "pygments_lexer": "ipython3",
   "version": "3.11.11"
  }
 },
 "nbformat": 4,
 "nbformat_minor": 2
}
